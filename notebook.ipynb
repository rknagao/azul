{
 "cells": [
  {
   "attachments": {},
   "cell_type": "markdown",
   "metadata": {},
   "source": [
    "# Notebook\n",
    "\n",
    "1. Quais foram os principais motivos que fizeram o NPS cair nos meses de abril, maio e junho? Foram motivos diferentes ou há algum problema que é constante em todos os meses?\n",
    "2. Avaliando todos os pontos de contato da jornada, você identifica alguma oportunidade que precisa ser direcionada para tratativa das equipes responsáveis?\n",
    "3. Há alguma relação entre os indicadores operacionais e os dados coletados na base de dados da Pesquisa NPS?\n",
    "4. Para enriquecer essa análise, você sente necessidade de explorar alguma informação adicional além dos dados trazidos nesse estudo? Se sim, quais indicadores você buscaria para cruzar com os dados que você já possui?\n",
    "\n",
    "\n"
   ]
  },
  {
   "cell_type": "code",
   "execution_count": 1,
   "metadata": {},
   "outputs": [],
   "source": [
    "# Manipulação\n",
    "import numpy as np\n",
    "import pandas as pd\n",
    "import azul_nps as azul\n",
    "\n",
    "# Visualização\n",
    "import matplotlib.pyplot as plt\n",
    "import seaborn as sns\n",
    "\n",
    "# Teste estatísticos\n",
    "from scipy import stats"
   ]
  },
  {
   "attachments": {},
   "cell_type": "markdown",
   "metadata": {},
   "source": [
    "## 1. Extração"
   ]
  },
  {
   "cell_type": "code",
   "execution_count": 2,
   "metadata": {},
   "outputs": [
    {
     "data": {
      "text/html": [
       "<div>\n",
       "<style scoped>\n",
       "    .dataframe tbody tr th:only-of-type {\n",
       "        vertical-align: middle;\n",
       "    }\n",
       "\n",
       "    .dataframe tbody tr th {\n",
       "        vertical-align: top;\n",
       "    }\n",
       "\n",
       "    .dataframe thead th {\n",
       "        text-align: right;\n",
       "    }\n",
       "</style>\n",
       "<table border=\"1\" class=\"dataframe\">\n",
       "  <thead>\n",
       "    <tr style=\"text-align: right;\">\n",
       "      <th></th>\n",
       "      <th>Id</th>\n",
       "      <th>Data_Voo</th>\n",
       "      <th>Minutos_Atraso</th>\n",
       "      <th>Tempo_Voo</th>\n",
       "      <th>AirportLegs</th>\n",
       "      <th>Equipamento_Tipo</th>\n",
       "      <th>Nota_Principal</th>\n",
       "      <th>Nota_CheckinWeb</th>\n",
       "      <th>Nota_CheckinMobile</th>\n",
       "      <th>Nota_Comissarios</th>\n",
       "      <th>...</th>\n",
       "      <th>O processo de check in web funcionou corretamente?</th>\n",
       "      <th>O processo de check in web foi simples?</th>\n",
       "      <th>O processo de check in pelo celular foi simples?</th>\n",
       "      <th>O processo de check in pelo celular funcionou corretamente?</th>\n",
       "      <th>O sistema de entretenimento apresentou algum problema durante o voo?</th>\n",
       "      <th>Qual foi o problema?</th>\n",
       "      <th>Foi oferecido fone a bordo?</th>\n",
       "      <th>O tempo de espera pela bagagem no destino foi satisfatório?</th>\n",
       "      <th>Você ficou satisfeito com as condições de sua bagagem na devolução?</th>\n",
       "      <th>Você ficou satisfeito com o atendimento em caso de dano/extravio?</th>\n",
       "    </tr>\n",
       "  </thead>\n",
       "  <tbody>\n",
       "    <tr>\n",
       "      <th>0</th>\n",
       "      <td>1814257</td>\n",
       "      <td>2022-01-01 00:00:00</td>\n",
       "      <td>0.0</td>\n",
       "      <td>210</td>\n",
       "      <td>REC/GRU</td>\n",
       "      <td>A320</td>\n",
       "      <td>10</td>\n",
       "      <td>NaN</td>\n",
       "      <td>10.0</td>\n",
       "      <td>10.0</td>\n",
       "      <td>...</td>\n",
       "      <td>NaN</td>\n",
       "      <td>NaN</td>\n",
       "      <td>Sim</td>\n",
       "      <td>Sim</td>\n",
       "      <td>NaN</td>\n",
       "      <td>NaN</td>\n",
       "      <td>NaN</td>\n",
       "      <td>Não</td>\n",
       "      <td>Sim</td>\n",
       "      <td>NaN</td>\n",
       "    </tr>\n",
       "  </tbody>\n",
       "</table>\n",
       "<p>1 rows × 22 columns</p>\n",
       "</div>"
      ],
      "text/plain": [
       "        Id             Data_Voo  Minutos_Atraso  Tempo_Voo AirportLegs  \\\n",
       "0  1814257  2022-01-01 00:00:00             0.0        210     REC/GRU   \n",
       "\n",
       "  Equipamento_Tipo  Nota_Principal  Nota_CheckinWeb  Nota_CheckinMobile  \\\n",
       "0             A320              10              NaN                10.0   \n",
       "\n",
       "   Nota_Comissarios  ...  O processo de check in web funcionou corretamente?  \\\n",
       "0              10.0  ...                                                NaN    \n",
       "\n",
       "   O processo de check in web foi simples?  \\\n",
       "0                                      NaN   \n",
       "\n",
       "  O processo de check in pelo celular foi simples?  \\\n",
       "0                                              Sim   \n",
       "\n",
       "  O processo de check in pelo celular funcionou corretamente?  \\\n",
       "0                                                Sim            \n",
       "\n",
       "  O sistema de entretenimento apresentou algum problema durante o voo?  \\\n",
       "0                                                NaN                     \n",
       "\n",
       "  Qual foi o problema? Foi oferecido fone a bordo?  \\\n",
       "0                  NaN                         NaN   \n",
       "\n",
       "  O tempo de espera pela bagagem no destino foi satisfatório?  \\\n",
       "0                                                Não            \n",
       "\n",
       "  Você ficou satisfeito com as condições de sua bagagem na devolução?  \\\n",
       "0                                                Sim                    \n",
       "\n",
       "  Você ficou satisfeito com o atendimento em caso de dano/extravio?  \n",
       "0                                                NaN                 \n",
       "\n",
       "[1 rows x 22 columns]"
      ]
     },
     "execution_count": 2,
     "metadata": {},
     "output_type": "execute_result"
    }
   ],
   "source": [
    "# Aba 1: NPS\n",
    "df_nps_raw = pd.read_excel('Case_Análise Semestral - NPS - V2.xlsx', sheet_name='BASE_DADOS_NPS')\n",
    "df_nps_raw.head(1)"
   ]
  },
  {
   "cell_type": "code",
   "execution_count": 3,
   "metadata": {},
   "outputs": [
    {
     "data": {
      "text/html": [
       "<div>\n",
       "<style scoped>\n",
       "    .dataframe tbody tr th:only-of-type {\n",
       "        vertical-align: middle;\n",
       "    }\n",
       "\n",
       "    .dataframe tbody tr th {\n",
       "        vertical-align: top;\n",
       "    }\n",
       "\n",
       "    .dataframe thead th {\n",
       "        text-align: right;\n",
       "    }\n",
       "</style>\n",
       "<table border=\"1\" class=\"dataframe\">\n",
       "  <thead>\n",
       "    <tr style=\"text-align: right;\">\n",
       "      <th></th>\n",
       "      <th>Unnamed: 0</th>\n",
       "      <th>Unnamed: 1</th>\n",
       "      <th>Unnamed: 2</th>\n",
       "      <th>Unnamed: 3</th>\n",
       "      <th>Unnamed: 4</th>\n",
       "      <th>Unnamed: 5</th>\n",
       "      <th>Unnamed: 6</th>\n",
       "      <th>Unnamed: 7</th>\n",
       "    </tr>\n",
       "  </thead>\n",
       "  <tbody>\n",
       "    <tr>\n",
       "      <th>0</th>\n",
       "      <td>NaN</td>\n",
       "      <td>Indicador</td>\n",
       "      <td>jan/22</td>\n",
       "      <td>fev/22</td>\n",
       "      <td>mar/22</td>\n",
       "      <td>abr/22</td>\n",
       "      <td>mai/22</td>\n",
       "      <td>jun/22</td>\n",
       "    </tr>\n",
       "  </tbody>\n",
       "</table>\n",
       "</div>"
      ],
      "text/plain": [
       "   Unnamed: 0 Unnamed: 1 Unnamed: 2 Unnamed: 3 Unnamed: 4 Unnamed: 5  \\\n",
       "0         NaN  Indicador     jan/22     fev/22     mar/22     abr/22   \n",
       "\n",
       "  Unnamed: 6 Unnamed: 7  \n",
       "0     mai/22     jun/22  "
      ]
     },
     "execution_count": 3,
     "metadata": {},
     "output_type": "execute_result"
    }
   ],
   "source": [
    "# Aba 2: outros indicadores\n",
    "df_kpi_raw = pd.read_excel('Case_Análise Semestral - NPS - V2.xlsx', sheet_name='Outros Indicadores')\n",
    "df_kpi_raw.head(1)"
   ]
  },
  {
   "attachments": {},
   "cell_type": "markdown",
   "metadata": {},
   "source": [
    "## 2. Processamento"
   ]
  },
  {
   "cell_type": "code",
   "execution_count": 4,
   "metadata": {},
   "outputs": [
    {
     "name": "stdout",
     "output_type": "stream",
     "text": [
      "Validação dos dados:\n",
      "ok                 2870\n",
      "erro 1: data         18\n",
      "erro 2: duracao       2\n",
      "Name: validacao, dtype: int64\n"
     ]
    }
   ],
   "source": [
    "# Correção de inconsistências na base de NPS.\n",
    "df_nps = df_nps_raw.copy(deep=True)\n",
    "\n",
    "df_nps['validacao'] = np.select(\n",
    "    [\n",
    "        # Caso 1: datas inexistentes.\n",
    "        df_nps['Data_Voo'].astype(str).str.contains('29/02'),\n",
    "        \n",
    "        # Caso 2: durações igual/menores que 0.\n",
    "        df_nps_raw['Tempo_Voo'] <= 0\n",
    "    ],\n",
    "    [\n",
    "        'erro 1: data',\n",
    "        'erro 2: duracao'\n",
    "    ], 'ok'\n",
    ")\n",
    "\n",
    "print(f\"Validação dos dados:\\n{df_nps['validacao'].value_counts()}\")"
   ]
  },
  {
   "cell_type": "code",
   "execution_count": 5,
   "metadata": {},
   "outputs": [],
   "source": [
    "# Preprocessamento de NPS.\n",
    "df_nps = df_nps.loc[df_nps['validacao'] == 'ok'].reset_index(drop=True)\n",
    "df_nps['Data_Voo'] = pd.to_datetime(df_nps['Data_Voo'], format='%Y-%m-%d %H:%M:%S')"
   ]
  },
  {
   "cell_type": "code",
   "execution_count": 6,
   "metadata": {},
   "outputs": [
    {
     "data": {
      "text/plain": [
       "Index(['Nota_Principal', 'Nota_CheckinWeb', 'Nota_CheckinMobile',\n",
       "       'Nota_Comissarios', 'Nota_Entretenimento', 'Nota_Bagagem'],\n",
       "      dtype='object')"
      ]
     },
     "metadata": {},
     "output_type": "display_data"
    }
   ],
   "source": [
    "# Classificar as categorias de NPS para cada avaliação (útil para o cálculo futuro de NPS)\n",
    "list_notas = df_nps.columns[6:12]\n",
    "display(list_notas)\n",
    "\n",
    "for i in list_notas:\n",
    "    df_nps[f\"perfil_{i}\"] = np.select(\n",
    "        [\n",
    "            df_nps[i] <=6,\n",
    "            df_nps[i].between(7, 8),\n",
    "            df_nps[i] >=9,\n",
    "        ],\n",
    "        ['detrator', 'neutro', 'promotor'], 'sem_avaliacao'\n",
    "    )"
   ]
  },
  {
   "cell_type": "code",
   "execution_count": 7,
   "metadata": {},
   "outputs": [
    {
     "data": {
      "text/plain": [
       "Index(['Id', 'Data_Voo', 'Minutos_Atraso', 'Tempo_Voo', 'AirportLegs',\n",
       "       'Equipamento_Tipo', 'Nota_Principal', 'Nota_CheckinWeb',\n",
       "       'Nota_CheckinMobile', 'Nota_Comissarios', 'Nota_Entretenimento',\n",
       "       'Nota_Bagagem', 'O processo de check in web funcionou corretamente?',\n",
       "       'O processo de check in web foi simples?',\n",
       "       'O processo de check in pelo celular foi simples?',\n",
       "       'O processo de check in pelo celular funcionou corretamente?',\n",
       "       'O sistema de entretenimento apresentou algum problema durante o voo?',\n",
       "       'Qual foi o problema?', 'Foi oferecido fone a bordo?',\n",
       "       'O tempo de espera pela bagagem no destino foi satisfatório?',\n",
       "       'Você ficou satisfeito com as condições de sua bagagem na devolução?',\n",
       "       'Você ficou satisfeito com o atendimento em caso de dano/extravio?',\n",
       "       'validacao', 'perfil_Nota_Principal', 'perfil_Nota_CheckinWeb',\n",
       "       'perfil_Nota_CheckinMobile', 'perfil_Nota_Comissarios',\n",
       "       'perfil_Nota_Entretenimento', 'perfil_Nota_Bagagem'],\n",
       "      dtype='object')"
      ]
     },
     "execution_count": 7,
     "metadata": {},
     "output_type": "execute_result"
    }
   ],
   "source": [
    "#df_nps.head(2)\n",
    "df_nps.columns"
   ]
  },
  {
   "cell_type": "code",
   "execution_count": 8,
   "metadata": {},
   "outputs": [
    {
     "data": {
      "text/html": [
       "<div>\n",
       "<style scoped>\n",
       "    .dataframe tbody tr th:only-of-type {\n",
       "        vertical-align: middle;\n",
       "    }\n",
       "\n",
       "    .dataframe tbody tr th {\n",
       "        vertical-align: top;\n",
       "    }\n",
       "\n",
       "    .dataframe thead th {\n",
       "        text-align: right;\n",
       "    }\n",
       "</style>\n",
       "<table border=\"1\" class=\"dataframe\">\n",
       "  <thead>\n",
       "    <tr style=\"text-align: right;\">\n",
       "      <th></th>\n",
       "      <th>data</th>\n",
       "      <th>dark_flight</th>\n",
       "      <th>mbr</th>\n",
       "      <th>pontualidade</th>\n",
       "    </tr>\n",
       "  </thead>\n",
       "  <tbody>\n",
       "    <tr>\n",
       "      <th>0</th>\n",
       "      <td>jan/22</td>\n",
       "      <td>2.34</td>\n",
       "      <td>1.467711</td>\n",
       "      <td>0.911643</td>\n",
       "    </tr>\n",
       "    <tr>\n",
       "      <th>1</th>\n",
       "      <td>fev/22</td>\n",
       "      <td>2.17</td>\n",
       "      <td>1.484345</td>\n",
       "      <td>0.909311</td>\n",
       "    </tr>\n",
       "    <tr>\n",
       "      <th>2</th>\n",
       "      <td>mar/22</td>\n",
       "      <td>1.69</td>\n",
       "      <td>1.426646</td>\n",
       "      <td>0.909455</td>\n",
       "    </tr>\n",
       "    <tr>\n",
       "      <th>3</th>\n",
       "      <td>abr/22</td>\n",
       "      <td>2.24</td>\n",
       "      <td>1.555159</td>\n",
       "      <td>0.882785</td>\n",
       "    </tr>\n",
       "    <tr>\n",
       "      <th>4</th>\n",
       "      <td>mai/22</td>\n",
       "      <td>1.88</td>\n",
       "      <td>1.660000</td>\n",
       "      <td>0.865582</td>\n",
       "    </tr>\n",
       "    <tr>\n",
       "      <th>5</th>\n",
       "      <td>jun/22</td>\n",
       "      <td>3.59</td>\n",
       "      <td>2.218820</td>\n",
       "      <td>0.810266</td>\n",
       "    </tr>\n",
       "  </tbody>\n",
       "</table>\n",
       "</div>"
      ],
      "text/plain": [
       "     data  dark_flight       mbr  pontualidade\n",
       "0  jan/22         2.34  1.467711      0.911643\n",
       "1  fev/22         2.17  1.484345      0.909311\n",
       "2  mar/22         1.69  1.426646      0.909455\n",
       "3  abr/22         2.24  1.555159      0.882785\n",
       "4  mai/22         1.88  1.660000      0.865582\n",
       "5  jun/22         3.59  2.218820      0.810266"
      ]
     },
     "execution_count": 8,
     "metadata": {},
     "output_type": "execute_result"
    }
   ],
   "source": [
    "# Processamento dos outros indicadores.\n",
    "df_kpi = df_kpi_raw.T\n",
    "df_kpi = df_kpi.iloc[2:, :4].reset_index(drop=True)\n",
    "df_kpi.columns = ['data', 'dark_flight', 'mbr', 'pontualidade']\n",
    "df_kpi[['dark_flight', 'mbr', 'pontualidade']]= df_kpi[['dark_flight', 'mbr', 'pontualidade']].astype('float')\n",
    "\n",
    "df_kpi"
   ]
  },
  {
   "attachments": {},
   "cell_type": "markdown",
   "metadata": {},
   "source": [
    "## 3. Exploração"
   ]
  },
  {
   "attachments": {},
   "cell_type": "markdown",
   "metadata": {},
   "source": [
    "### 3.1 Geral"
   ]
  },
  {
   "cell_type": "code",
   "execution_count": 9,
   "metadata": {},
   "outputs": [
    {
     "name": "stdout",
     "output_type": "stream",
     "text": [
      "Qtd. de vôos: 2870\n",
      "Qtd. de ids únicos: 2870\n"
     ]
    }
   ],
   "source": [
    "# Temos realmente um ID por vôo?\n",
    "print(f\"Qtd. de vôos: {df_nps.shape[0]}\")\n",
    "print(f\"Qtd. de ids únicos: {df_nps['Id'].nunique()}\")"
   ]
  },
  {
   "cell_type": "code",
   "execution_count": 10,
   "metadata": {},
   "outputs": [
    {
     "name": "stdout",
     "output_type": "stream",
     "text": [
      "Data do primeiro registro: 2022-01-01 00:00:00\n",
      "Data do último registro: 2022-06-30 00:00:00\n"
     ]
    }
   ],
   "source": [
    "# Realmente temos vôos apenas entre jan/22 a jun22?\n",
    "print(f\"Data do primeiro registro: {df_nps['Data_Voo'].min()}\")\n",
    "print(f\"Data do último registro: {df_nps['Data_Voo'].max()}\")"
   ]
  },
  {
   "cell_type": "code",
   "execution_count": 11,
   "metadata": {},
   "outputs": [
    {
     "name": "stdout",
     "output_type": "stream",
     "text": [
      "Período de controle:\n"
     ]
    },
    {
     "data": {
      "text/plain": [
       "Timestamp('2022-01-01 00:00:00')"
      ]
     },
     "metadata": {},
     "output_type": "display_data"
    },
    {
     "data": {
      "text/plain": [
       "Timestamp('2022-03-31 00:00:00')"
      ]
     },
     "metadata": {},
     "output_type": "display_data"
    },
    {
     "name": "stdout",
     "output_type": "stream",
     "text": [
      "Período de avaliação:\n"
     ]
    },
    {
     "data": {
      "text/plain": [
       "Timestamp('2022-04-01 00:00:00')"
      ]
     },
     "metadata": {},
     "output_type": "display_data"
    },
    {
     "data": {
      "text/plain": [
       "Timestamp('2022-06-30 00:00:00')"
      ]
     },
     "metadata": {},
     "output_type": "display_data"
    }
   ],
   "source": [
    "# Separando os períodos de comparação.\n",
    "df_nps['periodo'] = np.where(df_nps['Data_Voo'].between('2022-01-01', '2022-03-31'), 'q1', 'q2')\n",
    "\n",
    "print('Período de controle:')\n",
    "display(df_nps.loc[df_nps['periodo'] == 'q1', 'Data_Voo'].min(), df_nps.loc[df_nps['periodo'] == 'q1', 'Data_Voo'].max())\n",
    "\n",
    "print('Período de avaliação:')\n",
    "display(df_nps.loc[df_nps['periodo'] == 'q2', 'Data_Voo'].min(), df_nps.loc[df_nps['periodo'] == 'q2', 'Data_Voo'].max())"
   ]
  },
  {
   "cell_type": "code",
   "execution_count": 12,
   "metadata": {},
   "outputs": [
    {
     "data": {
      "text/html": [
       "<div>\n",
       "<style scoped>\n",
       "    .dataframe tbody tr th:only-of-type {\n",
       "        vertical-align: middle;\n",
       "    }\n",
       "\n",
       "    .dataframe tbody tr th {\n",
       "        vertical-align: top;\n",
       "    }\n",
       "\n",
       "    .dataframe thead th {\n",
       "        text-align: right;\n",
       "    }\n",
       "</style>\n",
       "<table border=\"1\" class=\"dataframe\">\n",
       "  <thead>\n",
       "    <tr style=\"text-align: right;\">\n",
       "      <th></th>\n",
       "      <th>0</th>\n",
       "      <th>5</th>\n",
       "      <th>1</th>\n",
       "      <th>3</th>\n",
       "      <th>2</th>\n",
       "      <th>4</th>\n",
       "    </tr>\n",
       "  </thead>\n",
       "  <tbody>\n",
       "    <tr>\n",
       "      <th>index</th>\n",
       "      <td>2022-01-01</td>\n",
       "      <td>2022-02-01</td>\n",
       "      <td>2022-03-01</td>\n",
       "      <td>2022-04-01</td>\n",
       "      <td>2022-05-01</td>\n",
       "      <td>2022-06-01</td>\n",
       "    </tr>\n",
       "    <tr>\n",
       "      <th>mes</th>\n",
       "      <td>541</td>\n",
       "      <td>405</td>\n",
       "      <td>530</td>\n",
       "      <td>461</td>\n",
       "      <td>522</td>\n",
       "      <td>411</td>\n",
       "    </tr>\n",
       "  </tbody>\n",
       "</table>\n",
       "</div>"
      ],
      "text/plain": [
       "                0           5           1           3           2           4\n",
       "index  2022-01-01  2022-02-01  2022-03-01  2022-04-01  2022-05-01  2022-06-01\n",
       "mes           541         405         530         461         522         411"
      ]
     },
     "metadata": {},
     "output_type": "display_data"
    },
    {
     "data": {
      "image/png": "[encoded data removed]",
      "text/plain": [
       "<Figure size 576x216 with 1 Axes>"
      ]
     },
     "metadata": {
      "needs_background": "light"
     },
     "output_type": "display_data"
    }
   ],
   "source": [
    "# Quantos registros por mês?\n",
    "df_nps['mes'] = df_nps['Data_Voo'].dt.strftime('%Y-%m-01')\n",
    "df_plot = df_nps['mes'].value_counts().reset_index().sort_values('index', ascending=True)\n",
    "display(df_plot.T)\n",
    "\n",
    "plt.figure(figsize=(8,3))\n",
    "fig = sns.lineplot(data=df_plot, x='index', y='mes', markers=True)\n",
    "fig.set(title='Vôos por mês', ylim=(0, 600), ylabel='Qtd. vôos', xlabel='Mês',)\n",
    "plt.show()"
   ]
  },
  {
   "attachments": {},
   "cell_type": "markdown",
   "metadata": {},
   "source": [
    "### 3.2 Específica"
   ]
  },
  {
   "attachments": {},
   "cell_type": "markdown",
   "metadata": {},
   "source": [
    "#### 3.3 Fim de semana/feriado"
   ]
  },
  {
   "cell_type": "code",
   "execution_count": 13,
   "metadata": {},
   "outputs": [
    {
     "name": "stdout",
     "output_type": "stream",
     "text": [
      "0    1962\n",
      "1     908\n",
      "Name: dummy_fds_feriado, dtype: int64\n"
     ]
    }
   ],
   "source": [
    "# Quais os comportamentos entre (1) dia de semana e (2) fim de semana/feriados?\n",
    "feriados_br = [\n",
    "    '2022-01-01',\n",
    "    '2022-02-28',\n",
    "    '2022-03-01',\n",
    "    '2022-04-15',\n",
    "    '2022-04-21',\n",
    "    '2022-05-01',\n",
    "    '2022-06-16',\n",
    "    ]\n",
    "\n",
    "df_nps['dummy_fds_feriado'] = np.select(\n",
    "    [\n",
    "        df_nps['Data_Voo'].astype(str).isin(feriados_br),\n",
    "        df_nps['Data_Voo'].dt.dayofweek.isin([5, 6])\n",
    "    ],\n",
    "    [\n",
    "        1,\n",
    "        1\n",
    "    ], 0\n",
    ") \n",
    "\n",
    "print(df_nps['dummy_fds_feriado'].value_counts())\n",
    "# obs: é uma pena que a amostra não contém horas, pois isso facilitaria diferenciar vôos comerciais e de lazer.\n",
    "# Ex: vôos de sexta a noite, que podem significar o início de uma viagem de lazer, ainda serão considerados como vôos comerciais a trabalho."
   ]
  },
  {
   "cell_type": "code",
   "execution_count": 14,
   "metadata": {},
   "outputs": [
    {
     "data": {
      "text/plain": [
       "periodo  dummy_fds_feriado\n",
       "q1       0                    0.350871\n",
       "q2       0                    0.332753\n",
       "q1       1                    0.163415\n",
       "q2       1                    0.152962\n",
       "dtype: float64"
      ]
     },
     "execution_count": 14,
     "metadata": {},
     "output_type": "execute_result"
    }
   ],
   "source": [
    "# Quantos finais de semana/feriado tiveram em cada periodo?\n",
    "df_nps[['periodo', 'dummy_fds_feriado']].value_counts(normalize=True)"
   ]
  },
  {
   "cell_type": "code",
   "execution_count": 15,
   "metadata": {},
   "outputs": [
    {
     "data": {
      "text/html": [
       "<div>\n",
       "<style scoped>\n",
       "    .dataframe tbody tr th:only-of-type {\n",
       "        vertical-align: middle;\n",
       "    }\n",
       "\n",
       "    .dataframe tbody tr th {\n",
       "        vertical-align: top;\n",
       "    }\n",
       "\n",
       "    .dataframe thead th {\n",
       "        text-align: right;\n",
       "    }\n",
       "</style>\n",
       "<table border=\"1\" class=\"dataframe\">\n",
       "  <thead>\n",
       "    <tr style=\"text-align: right;\">\n",
       "      <th>perfil_Nota_Principal</th>\n",
       "      <th>dummy_fds_feriado</th>\n",
       "      <th>total_q1</th>\n",
       "      <th>total_q2</th>\n",
       "      <th>nps_q1</th>\n",
       "      <th>nps_q2</th>\n",
       "    </tr>\n",
       "  </thead>\n",
       "  <tbody>\n",
       "    <tr>\n",
       "      <th>0</th>\n",
       "      <td>0</td>\n",
       "      <td>1007</td>\n",
       "      <td>955</td>\n",
       "      <td>0.59</td>\n",
       "      <td>0.58</td>\n",
       "    </tr>\n",
       "    <tr>\n",
       "      <th>1</th>\n",
       "      <td>1</td>\n",
       "      <td>469</td>\n",
       "      <td>439</td>\n",
       "      <td>0.67</td>\n",
       "      <td>0.56</td>\n",
       "    </tr>\n",
       "  </tbody>\n",
       "</table>\n",
       "</div>"
      ],
      "text/plain": [
       "perfil_Nota_Principal  dummy_fds_feriado  total_q1  total_q2  nps_q1  nps_q2\n",
       "0                                      0      1007       955    0.59    0.58\n",
       "1                                      1       469       439    0.67    0.56"
      ]
     },
     "execution_count": 15,
     "metadata": {},
     "output_type": "execute_result"
    }
   ],
   "source": [
    "azul.compare_nps_categorical(df_nps, 'perfil_Nota_Principal', 'dummy_fds_feriado')\n"
   ]
  },
  {
   "attachments": {},
   "cell_type": "markdown",
   "metadata": {},
   "source": [
    "##### [OK] Fds/feriado \n",
    "Praticamente 1/3 da amostra é de vôos em fim de semana/feriado. Essa pode ser uma variável promissora, dada que em viagens de lazer a satisfação do cliente pode estar viesada positivamente."
   ]
  },
  {
   "attachments": {},
   "cell_type": "markdown",
   "metadata": {},
   "source": [
    "#### Atraso"
   ]
  },
  {
   "cell_type": "code",
   "execution_count": 16,
   "metadata": {},
   "outputs": [
    {
     "data": {
      "image/png": "[encoded data removed]",
      "text/plain": [
       "<Figure size 432x288 with 1 Axes>"
      ]
     },
     "metadata": {
      "needs_background": "light"
     },
     "output_type": "display_data"
    }
   ],
   "source": [
    "# Qual o comportamento dos atrasos em Q1 e Q2?\n",
    "fig = sns.histplot(data=df_nps.loc[(df_nps['Minutos_Atraso'] > 0)], x='Minutos_Atraso', hue='periodo')\n",
    "fig.set(title='Gráfico 3: histograma dos atrasos Q1 vs Q2.')\n",
    "plt.show()"
   ]
  },
  {
   "cell_type": "code",
   "execution_count": 157,
   "metadata": {},
   "outputs": [
    {
     "data": {
      "text/html": [
       "<div>\n",
       "<style scoped>\n",
       "    .dataframe tbody tr th:only-of-type {\n",
       "        vertical-align: middle;\n",
       "    }\n",
       "\n",
       "    .dataframe tbody tr th {\n",
       "        vertical-align: top;\n",
       "    }\n",
       "\n",
       "    .dataframe thead th {\n",
       "        text-align: right;\n",
       "    }\n",
       "</style>\n",
       "<table border=\"1\" class=\"dataframe\">\n",
       "  <thead>\n",
       "    <tr style=\"text-align: right;\">\n",
       "      <th></th>\n",
       "      <th>Id</th>\n",
       "      <th>Data_Voo</th>\n",
       "      <th>Minutos_Atraso</th>\n",
       "      <th>Tempo_Voo</th>\n",
       "      <th>AirportLegs</th>\n",
       "      <th>Equipamento_Tipo</th>\n",
       "      <th>Nota_Principal</th>\n",
       "      <th>Nota_CheckinWeb</th>\n",
       "      <th>Nota_CheckinMobile</th>\n",
       "      <th>Nota_Comissarios</th>\n",
       "      <th>...</th>\n",
       "      <th>perfil_Nota_CheckinWeb</th>\n",
       "      <th>perfil_Nota_CheckinMobile</th>\n",
       "      <th>perfil_Nota_Comissarios</th>\n",
       "      <th>perfil_Nota_Entretenimento</th>\n",
       "      <th>perfil_Nota_Bagagem</th>\n",
       "      <th>periodo</th>\n",
       "      <th>mes</th>\n",
       "      <th>dummy_fds_feriado</th>\n",
       "      <th>list_airport</th>\n",
       "      <th>checkin</th>\n",
       "    </tr>\n",
       "  </thead>\n",
       "  <tbody>\n",
       "    <tr>\n",
       "      <th>378</th>\n",
       "      <td>1813882</td>\n",
       "      <td>2022-01-23</td>\n",
       "      <td>275.0</td>\n",
       "      <td>60</td>\n",
       "      <td>VIX/CNF</td>\n",
       "      <td>Embraer</td>\n",
       "      <td>7</td>\n",
       "      <td>6.0</td>\n",
       "      <td>NaN</td>\n",
       "      <td>9.0</td>\n",
       "      <td>...</td>\n",
       "      <td>detrator</td>\n",
       "      <td>sem_avaliacao</td>\n",
       "      <td>promotor</td>\n",
       "      <td>neutro</td>\n",
       "      <td>sem_avaliacao</td>\n",
       "      <td>q1</td>\n",
       "      <td>2022-01-01</td>\n",
       "      <td>1</td>\n",
       "      <td>[VIX, CNF]</td>\n",
       "      <td>6.0</td>\n",
       "    </tr>\n",
       "    <tr>\n",
       "      <th>10</th>\n",
       "      <td>1810488</td>\n",
       "      <td>2022-01-01</td>\n",
       "      <td>219.0</td>\n",
       "      <td>440</td>\n",
       "      <td>CGB/VCP/XAP</td>\n",
       "      <td>Embraer-A320</td>\n",
       "      <td>10</td>\n",
       "      <td>NaN</td>\n",
       "      <td>NaN</td>\n",
       "      <td>10.0</td>\n",
       "      <td>...</td>\n",
       "      <td>sem_avaliacao</td>\n",
       "      <td>sem_avaliacao</td>\n",
       "      <td>promotor</td>\n",
       "      <td>sem_avaliacao</td>\n",
       "      <td>promotor</td>\n",
       "      <td>q1</td>\n",
       "      <td>2022-01-01</td>\n",
       "      <td>1</td>\n",
       "      <td>[CGB, VCP, XAP]</td>\n",
       "      <td>NaN</td>\n",
       "    </tr>\n",
       "    <tr>\n",
       "      <th>310</th>\n",
       "      <td>1810509</td>\n",
       "      <td>2022-01-18</td>\n",
       "      <td>219.0</td>\n",
       "      <td>215</td>\n",
       "      <td>SDU/VCP/XAP</td>\n",
       "      <td>Embraer</td>\n",
       "      <td>0</td>\n",
       "      <td>8.0</td>\n",
       "      <td>NaN</td>\n",
       "      <td>6.0</td>\n",
       "      <td>...</td>\n",
       "      <td>neutro</td>\n",
       "      <td>sem_avaliacao</td>\n",
       "      <td>detrator</td>\n",
       "      <td>neutro</td>\n",
       "      <td>sem_avaliacao</td>\n",
       "      <td>q1</td>\n",
       "      <td>2022-01-01</td>\n",
       "      <td>0</td>\n",
       "      <td>[SDU, VCP, XAP]</td>\n",
       "      <td>8.0</td>\n",
       "    </tr>\n",
       "    <tr>\n",
       "      <th>2241</th>\n",
       "      <td>1770534</td>\n",
       "      <td>2022-05-19</td>\n",
       "      <td>216.0</td>\n",
       "      <td>80</td>\n",
       "      <td>FLN/GRU</td>\n",
       "      <td>Embraer</td>\n",
       "      <td>5</td>\n",
       "      <td>NaN</td>\n",
       "      <td>NaN</td>\n",
       "      <td>10.0</td>\n",
       "      <td>...</td>\n",
       "      <td>sem_avaliacao</td>\n",
       "      <td>sem_avaliacao</td>\n",
       "      <td>promotor</td>\n",
       "      <td>neutro</td>\n",
       "      <td>promotor</td>\n",
       "      <td>q2</td>\n",
       "      <td>2022-05-01</td>\n",
       "      <td>0</td>\n",
       "      <td>[FLN, GRU]</td>\n",
       "      <td>NaN</td>\n",
       "    </tr>\n",
       "    <tr>\n",
       "      <th>1983</th>\n",
       "      <td>1767072</td>\n",
       "      <td>2022-05-04</td>\n",
       "      <td>163.0</td>\n",
       "      <td>1095</td>\n",
       "      <td>IMP/SLZ/CNF/GIG</td>\n",
       "      <td>Embraer</td>\n",
       "      <td>8</td>\n",
       "      <td>9.0</td>\n",
       "      <td>NaN</td>\n",
       "      <td>9.0</td>\n",
       "      <td>...</td>\n",
       "      <td>promotor</td>\n",
       "      <td>sem_avaliacao</td>\n",
       "      <td>promotor</td>\n",
       "      <td>promotor</td>\n",
       "      <td>sem_avaliacao</td>\n",
       "      <td>q2</td>\n",
       "      <td>2022-05-01</td>\n",
       "      <td>0</td>\n",
       "      <td>[IMP, SLZ, CNF, GIG]</td>\n",
       "      <td>9.0</td>\n",
       "    </tr>\n",
       "  </tbody>\n",
       "</table>\n",
       "<p>5 rows × 34 columns</p>\n",
       "</div>"
      ],
      "text/plain": [
       "           Id   Data_Voo  Minutos_Atraso  Tempo_Voo      AirportLegs  \\\n",
       "378   1813882 2022-01-23           275.0         60          VIX/CNF   \n",
       "10    1810488 2022-01-01           219.0        440      CGB/VCP/XAP   \n",
       "310   1810509 2022-01-18           219.0        215      SDU/VCP/XAP   \n",
       "2241  1770534 2022-05-19           216.0         80          FLN/GRU   \n",
       "1983  1767072 2022-05-04           163.0       1095  IMP/SLZ/CNF/GIG   \n",
       "\n",
       "     Equipamento_Tipo  Nota_Principal  Nota_CheckinWeb  Nota_CheckinMobile  \\\n",
       "378           Embraer               7              6.0                 NaN   \n",
       "10       Embraer-A320              10              NaN                 NaN   \n",
       "310           Embraer               0              8.0                 NaN   \n",
       "2241          Embraer               5              NaN                 NaN   \n",
       "1983          Embraer               8              9.0                 NaN   \n",
       "\n",
       "      Nota_Comissarios  ...  perfil_Nota_CheckinWeb  \\\n",
       "378                9.0  ...                detrator   \n",
       "10                10.0  ...           sem_avaliacao   \n",
       "310                6.0  ...                  neutro   \n",
       "2241              10.0  ...           sem_avaliacao   \n",
       "1983               9.0  ...                promotor   \n",
       "\n",
       "      perfil_Nota_CheckinMobile perfil_Nota_Comissarios  \\\n",
       "378               sem_avaliacao                promotor   \n",
       "10                sem_avaliacao                promotor   \n",
       "310               sem_avaliacao                detrator   \n",
       "2241              sem_avaliacao                promotor   \n",
       "1983              sem_avaliacao                promotor   \n",
       "\n",
       "     perfil_Nota_Entretenimento perfil_Nota_Bagagem periodo         mes  \\\n",
       "378                      neutro       sem_avaliacao      q1  2022-01-01   \n",
       "10                sem_avaliacao            promotor      q1  2022-01-01   \n",
       "310                      neutro       sem_avaliacao      q1  2022-01-01   \n",
       "2241                     neutro            promotor      q2  2022-05-01   \n",
       "1983                   promotor       sem_avaliacao      q2  2022-05-01   \n",
       "\n",
       "     dummy_fds_feriado          list_airport checkin  \n",
       "378                  1            [VIX, CNF]     6.0  \n",
       "10                   1       [CGB, VCP, XAP]     NaN  \n",
       "310                  0       [SDU, VCP, XAP]     8.0  \n",
       "2241                 0            [FLN, GRU]     NaN  \n",
       "1983                 0  [IMP, SLZ, CNF, GIG]     9.0  \n",
       "\n",
       "[5 rows x 34 columns]"
      ]
     },
     "execution_count": 157,
     "metadata": {},
     "output_type": "execute_result"
    }
   ],
   "source": [
    "# Quais são os maiores atrasos?\n",
    "df_nps.sort_values('Minutos_Atraso', ascending=False).head(5)"
   ]
  },
  {
   "cell_type": "code",
   "execution_count": 158,
   "metadata": {},
   "outputs": [
    {
     "name": "stdout",
     "output_type": "stream",
     "text": [
      "Total vôos em Q1: 1476\n"
     ]
    },
    {
     "data": {
      "text/html": [
       "<div>\n",
       "<style scoped>\n",
       "    .dataframe tbody tr th:only-of-type {\n",
       "        vertical-align: middle;\n",
       "    }\n",
       "\n",
       "    .dataframe tbody tr th {\n",
       "        vertical-align: top;\n",
       "    }\n",
       "\n",
       "    .dataframe thead th {\n",
       "        text-align: right;\n",
       "    }\n",
       "</style>\n",
       "<table border=\"1\" class=\"dataframe\">\n",
       "  <thead>\n",
       "    <tr style=\"text-align: right;\">\n",
       "      <th></th>\n",
       "      <th>count</th>\n",
       "      <th>mean</th>\n",
       "      <th>std</th>\n",
       "      <th>min</th>\n",
       "      <th>25%</th>\n",
       "      <th>50%</th>\n",
       "      <th>75%</th>\n",
       "      <th>max</th>\n",
       "    </tr>\n",
       "  </thead>\n",
       "  <tbody>\n",
       "    <tr>\n",
       "      <th>Minutos_Atraso</th>\n",
       "      <td>466.0</td>\n",
       "      <td>18.819742</td>\n",
       "      <td>27.175054</td>\n",
       "      <td>1.0</td>\n",
       "      <td>5.0</td>\n",
       "      <td>10.0</td>\n",
       "      <td>21.0</td>\n",
       "      <td>275.0</td>\n",
       "    </tr>\n",
       "  </tbody>\n",
       "</table>\n",
       "</div>"
      ],
      "text/plain": [
       "                count       mean        std  min  25%   50%   75%    max\n",
       "Minutos_Atraso  466.0  18.819742  27.175054  1.0  5.0  10.0  21.0  275.0"
      ]
     },
     "metadata": {},
     "output_type": "display_data"
    },
    {
     "name": "stdout",
     "output_type": "stream",
     "text": [
      "Qtd atrasos até 14 minutos em Q1: 1307\n",
      "\n",
      "Atrasos a partir de 15 minutos em Q1:\n"
     ]
    },
    {
     "data": {
      "text/html": [
       "<div>\n",
       "<style scoped>\n",
       "    .dataframe tbody tr th:only-of-type {\n",
       "        vertical-align: middle;\n",
       "    }\n",
       "\n",
       "    .dataframe tbody tr th {\n",
       "        vertical-align: top;\n",
       "    }\n",
       "\n",
       "    .dataframe thead th {\n",
       "        text-align: right;\n",
       "    }\n",
       "</style>\n",
       "<table border=\"1\" class=\"dataframe\">\n",
       "  <thead>\n",
       "    <tr style=\"text-align: right;\">\n",
       "      <th></th>\n",
       "      <th>count</th>\n",
       "      <th>mean</th>\n",
       "      <th>std</th>\n",
       "      <th>min</th>\n",
       "      <th>25%</th>\n",
       "      <th>50%</th>\n",
       "      <th>75%</th>\n",
       "      <th>max</th>\n",
       "    </tr>\n",
       "  </thead>\n",
       "  <tbody>\n",
       "    <tr>\n",
       "      <th>Minutos_Atraso</th>\n",
       "      <td>169.0</td>\n",
       "      <td>40.710059</td>\n",
       "      <td>35.534088</td>\n",
       "      <td>15.0</td>\n",
       "      <td>20.0</td>\n",
       "      <td>28.0</td>\n",
       "      <td>47.0</td>\n",
       "      <td>275.0</td>\n",
       "    </tr>\n",
       "  </tbody>\n",
       "</table>\n",
       "</div>"
      ],
      "text/plain": [
       "                count       mean        std   min   25%   50%   75%    max\n",
       "Minutos_Atraso  169.0  40.710059  35.534088  15.0  20.0  28.0  47.0  275.0"
      ]
     },
     "metadata": {},
     "output_type": "display_data"
    }
   ],
   "source": [
    "# Qual o comportamento dos atrasos em Q1?\n",
    "print(f\"Total vôos em Q1: {df_nps.loc[df_nps['periodo'] == 'q1'].shape[0]}\")\n",
    "display(df_nps.loc[(df_nps['periodo'] == 'q1') & (df_nps['Minutos_Atraso'] > 0)][['Minutos_Atraso']].describe().T)\n",
    "\n",
    "print(f\"Qtd atrasos até 14 minutos em Q1: {df_nps.loc[(df_nps['periodo'] == 'q1') & (df_nps['Minutos_Atraso'] <= 14)].shape[0]}\\n\")\n",
    "\n",
    "print('Atrasos a partir de 15 minutos em Q1:')\n",
    "display(df_nps.loc[(df_nps['periodo'] == 'q1') & (df_nps['Minutos_Atraso'] >= 15)][['Minutos_Atraso']].describe().T)"
   ]
  },
  {
   "cell_type": "code",
   "execution_count": 156,
   "metadata": {},
   "outputs": [
    {
     "name": "stdout",
     "output_type": "stream",
     "text": [
      "Total vôos em Q2: 1394\n"
     ]
    },
    {
     "data": {
      "text/html": [
       "<div>\n",
       "<style scoped>\n",
       "    .dataframe tbody tr th:only-of-type {\n",
       "        vertical-align: middle;\n",
       "    }\n",
       "\n",
       "    .dataframe tbody tr th {\n",
       "        vertical-align: top;\n",
       "    }\n",
       "\n",
       "    .dataframe thead th {\n",
       "        text-align: right;\n",
       "    }\n",
       "</style>\n",
       "<table border=\"1\" class=\"dataframe\">\n",
       "  <thead>\n",
       "    <tr style=\"text-align: right;\">\n",
       "      <th></th>\n",
       "      <th>count</th>\n",
       "      <th>mean</th>\n",
       "      <th>std</th>\n",
       "      <th>min</th>\n",
       "      <th>25%</th>\n",
       "      <th>50%</th>\n",
       "      <th>75%</th>\n",
       "      <th>max</th>\n",
       "    </tr>\n",
       "  </thead>\n",
       "  <tbody>\n",
       "    <tr>\n",
       "      <th>Minutos_Atraso</th>\n",
       "      <td>564.0</td>\n",
       "      <td>18.379433</td>\n",
       "      <td>21.763169</td>\n",
       "      <td>1.0</td>\n",
       "      <td>4.0</td>\n",
       "      <td>12.0</td>\n",
       "      <td>25.25</td>\n",
       "      <td>216.0</td>\n",
       "    </tr>\n",
       "  </tbody>\n",
       "</table>\n",
       "</div>"
      ],
      "text/plain": [
       "                count       mean        std  min  25%   50%    75%    max\n",
       "Minutos_Atraso  564.0  18.379433  21.763169  1.0  4.0  12.0  25.25  216.0"
      ]
     },
     "metadata": {},
     "output_type": "display_data"
    },
    {
     "name": "stdout",
     "output_type": "stream",
     "text": [
      "Qtd atrasos até 14 minutos em Q2: 1153\n",
      "\n",
      "Atrasos a partir de 15 minutos em Q2:\n"
     ]
    },
    {
     "data": {
      "text/html": [
       "<div>\n",
       "<style scoped>\n",
       "    .dataframe tbody tr th:only-of-type {\n",
       "        vertical-align: middle;\n",
       "    }\n",
       "\n",
       "    .dataframe tbody tr th {\n",
       "        vertical-align: top;\n",
       "    }\n",
       "\n",
       "    .dataframe thead th {\n",
       "        text-align: right;\n",
       "    }\n",
       "</style>\n",
       "<table border=\"1\" class=\"dataframe\">\n",
       "  <thead>\n",
       "    <tr style=\"text-align: right;\">\n",
       "      <th></th>\n",
       "      <th>count</th>\n",
       "      <th>mean</th>\n",
       "      <th>std</th>\n",
       "      <th>min</th>\n",
       "      <th>25%</th>\n",
       "      <th>50%</th>\n",
       "      <th>75%</th>\n",
       "      <th>max</th>\n",
       "    </tr>\n",
       "  </thead>\n",
       "  <tbody>\n",
       "    <tr>\n",
       "      <th>Minutos_Atraso</th>\n",
       "      <td>241.0</td>\n",
       "      <td>35.141079</td>\n",
       "      <td>24.409288</td>\n",
       "      <td>15.0</td>\n",
       "      <td>20.0</td>\n",
       "      <td>28.0</td>\n",
       "      <td>41.0</td>\n",
       "      <td>216.0</td>\n",
       "    </tr>\n",
       "  </tbody>\n",
       "</table>\n",
       "</div>"
      ],
      "text/plain": [
       "                count       mean        std   min   25%   50%   75%    max\n",
       "Minutos_Atraso  241.0  35.141079  24.409288  15.0  20.0  28.0  41.0  216.0"
      ]
     },
     "metadata": {},
     "output_type": "display_data"
    }
   ],
   "source": [
    "# Qual o comportamento dos atrasos em Q2?\n",
    "print(f\"Total vôos em Q2: {df_nps.loc[df_nps['periodo'] == 'q2'].shape[0]}\")\n",
    "display(df_nps.loc[(df_nps['periodo'] == 'q2') & (df_nps['Minutos_Atraso'] > 0)][['Minutos_Atraso']].describe().T)\n",
    "\n",
    "print(f\"Qtd atrasos até 14 minutos em Q2: {df_nps.loc[(df_nps['periodo'] == 'q2') & (df_nps['Minutos_Atraso'] <= 14)].shape[0]}\\n\")\n",
    "\n",
    "print('Atrasos a partir de 15 minutos em Q2:')\n",
    "display(df_nps.loc[(df_nps['periodo'] == 'q2') & (df_nps['Minutos_Atraso'] >= 15)][['Minutos_Atraso']].describe().T)"
   ]
  },
  {
   "cell_type": "code",
   "execution_count": 159,
   "metadata": {},
   "outputs": [],
   "source": [
    "# Considerando apenas os vôos com atrasos a partir de 15 minutos, como estão seus perfis de promotores/neutros/detratores?\n"
   ]
  },
  {
   "attachments": {},
   "cell_type": "markdown",
   "metadata": {},
   "source": [
    "##### [ideia] Perfis de atraso\n",
    "De todos os vôos, 1030 (aproximadamente 37%) registraram atrasos. Enquanto a metade dos atrasos foram de até 11 minutos, também houveram atrasos de 275 minutos. Essa variável é promissora na análise de NPS, dada a alta frequência de atrasos."
   ]
  },
  {
   "attachments": {},
   "cell_type": "markdown",
   "metadata": {},
   "source": [
    "#### Duração de vôo"
   ]
  },
  {
   "cell_type": "code",
   "execution_count": 60,
   "metadata": {},
   "outputs": [
    {
     "data": {
      "image/png": "[encoded data removed]",
      "text/plain": [
       "<Figure size 432x288 with 1 Axes>"
      ]
     },
     "metadata": {
      "needs_background": "light"
     },
     "output_type": "display_data"
    },
    {
     "data": {
      "image/png": "[encoded data removed]",
      "text/plain": [
       "<Figure size 432x288 with 1 Axes>"
      ]
     },
     "metadata": {
      "needs_background": "light"
     },
     "output_type": "display_data"
    },
    {
     "data": {
      "text/html": [
       "<div>\n",
       "<style scoped>\n",
       "    .dataframe tbody tr th:only-of-type {\n",
       "        vertical-align: middle;\n",
       "    }\n",
       "\n",
       "    .dataframe tbody tr th {\n",
       "        vertical-align: top;\n",
       "    }\n",
       "\n",
       "    .dataframe thead tr th {\n",
       "        text-align: left;\n",
       "    }\n",
       "</style>\n",
       "<table border=\"1\" class=\"dataframe\">\n",
       "  <thead>\n",
       "    <tr>\n",
       "      <th></th>\n",
       "      <th>periodo</th>\n",
       "      <th colspan=\"4\" halign=\"left\">Tempo_Voo</th>\n",
       "    </tr>\n",
       "    <tr>\n",
       "      <th></th>\n",
       "      <th></th>\n",
       "      <th>min</th>\n",
       "      <th>mean</th>\n",
       "      <th>median</th>\n",
       "      <th>max</th>\n",
       "    </tr>\n",
       "  </thead>\n",
       "  <tbody>\n",
       "    <tr>\n",
       "      <th>0</th>\n",
       "      <td>q1</td>\n",
       "      <td>10</td>\n",
       "      <td>187.749322</td>\n",
       "      <td>105.0</td>\n",
       "      <td>1655</td>\n",
       "    </tr>\n",
       "    <tr>\n",
       "      <th>1</th>\n",
       "      <td>q2</td>\n",
       "      <td>35</td>\n",
       "      <td>198.366571</td>\n",
       "      <td>125.0</td>\n",
       "      <td>1965</td>\n",
       "    </tr>\n",
       "  </tbody>\n",
       "</table>\n",
       "</div>"
      ],
      "text/plain": [
       "  periodo Tempo_Voo                         \n",
       "                min        mean median   max\n",
       "0      q1        10  187.749322  105.0  1655\n",
       "1      q2        35  198.366571  125.0  1965"
      ]
     },
     "execution_count": 60,
     "metadata": {},
     "output_type": "execute_result"
    }
   ],
   "source": [
    "# Qual comportamento do tempo de vôo?\n",
    "fig = sns.histplot(data=df_nps, x='Tempo_Voo', hue='periodo')\n",
    "fig.set(title='Histograma: duração do vôo mudou entre Q1 e Q2?')\n",
    "plt.show()\n",
    "\n",
    "fig = sns.boxplot(data=df_nps, x='periodo', y='Tempo_Voo', showfliers=False)\n",
    "fig.set(title='Boxplot: duração do vôo mudou entre Q1 e Q2?')\n",
    "plt.show()\n",
    "\n",
    "df_nps.groupby(['periodo'], as_index=False).agg({'Tempo_Voo':['min', 'mean', 'median', 'max']})"
   ]
  },
  {
   "attachments": {},
   "cell_type": "markdown",
   "metadata": {},
   "source": [
    "##### [ideia] Vôos mais longos em Q2"
   ]
  },
  {
   "cell_type": "code",
   "execution_count": 21,
   "metadata": {},
   "outputs": [
    {
     "data": {
      "text/html": [
       "<div>\n",
       "<style scoped>\n",
       "    .dataframe tbody tr th:only-of-type {\n",
       "        vertical-align: middle;\n",
       "    }\n",
       "\n",
       "    .dataframe tbody tr th {\n",
       "        vertical-align: top;\n",
       "    }\n",
       "\n",
       "    .dataframe thead th {\n",
       "        text-align: right;\n",
       "    }\n",
       "</style>\n",
       "<table border=\"1\" class=\"dataframe\">\n",
       "  <thead>\n",
       "    <tr style=\"text-align: right;\">\n",
       "      <th></th>\n",
       "      <th>Id</th>\n",
       "      <th>Data_Voo</th>\n",
       "      <th>Minutos_Atraso</th>\n",
       "      <th>Tempo_Voo</th>\n",
       "      <th>AirportLegs</th>\n",
       "      <th>Equipamento_Tipo</th>\n",
       "      <th>Nota_Principal</th>\n",
       "      <th>Nota_CheckinWeb</th>\n",
       "      <th>Nota_CheckinMobile</th>\n",
       "      <th>Nota_Comissarios</th>\n",
       "      <th>...</th>\n",
       "      <th>O processo de check in web funcionou corretamente?</th>\n",
       "      <th>O processo de check in web foi simples?</th>\n",
       "      <th>O processo de check in pelo celular foi simples?</th>\n",
       "      <th>O processo de check in pelo celular funcionou corretamente?</th>\n",
       "      <th>O sistema de entretenimento apresentou algum problema durante o voo?</th>\n",
       "      <th>Qual foi o problema?</th>\n",
       "      <th>Foi oferecido fone a bordo?</th>\n",
       "      <th>O tempo de espera pela bagagem no destino foi satisfatório?</th>\n",
       "      <th>Você ficou satisfeito com as condições de sua bagagem na devolução?</th>\n",
       "      <th>Você ficou satisfeito com o atendimento em caso de dano/extravio?</th>\n",
       "    </tr>\n",
       "  </thead>\n",
       "  <tbody>\n",
       "    <tr>\n",
       "      <th>1745</th>\n",
       "      <td>1887425</td>\n",
       "      <td>2022-04-17 00:00:00</td>\n",
       "      <td>0.0</td>\n",
       "      <td>-790</td>\n",
       "      <td>JDO/PNZ/VCP/CWB/IGU</td>\n",
       "      <td>Embraer</td>\n",
       "      <td>10</td>\n",
       "      <td>NaN</td>\n",
       "      <td>NaN</td>\n",
       "      <td>10.0</td>\n",
       "      <td>...</td>\n",
       "      <td>NaN</td>\n",
       "      <td>NaN</td>\n",
       "      <td>NaN</td>\n",
       "      <td>NaN</td>\n",
       "      <td>Não</td>\n",
       "      <td>NaN</td>\n",
       "      <td>Não</td>\n",
       "      <td>Sim</td>\n",
       "      <td>Não</td>\n",
       "      <td>Não</td>\n",
       "    </tr>\n",
       "    <tr>\n",
       "      <th>2627</th>\n",
       "      <td>1905642</td>\n",
       "      <td>2022-06-12 00:00:00</td>\n",
       "      <td>NaN</td>\n",
       "      <td>0</td>\n",
       "      <td>FOR/SLZ</td>\n",
       "      <td>A320</td>\n",
       "      <td>10</td>\n",
       "      <td>10.0</td>\n",
       "      <td>NaN</td>\n",
       "      <td>10.0</td>\n",
       "      <td>...</td>\n",
       "      <td>Sim</td>\n",
       "      <td>Sim</td>\n",
       "      <td>NaN</td>\n",
       "      <td>NaN</td>\n",
       "      <td>NaN</td>\n",
       "      <td>NaN</td>\n",
       "      <td>NaN</td>\n",
       "      <td>NaN</td>\n",
       "      <td>NaN</td>\n",
       "      <td>NaN</td>\n",
       "    </tr>\n",
       "  </tbody>\n",
       "</table>\n",
       "<p>2 rows × 22 columns</p>\n",
       "</div>"
      ],
      "text/plain": [
       "           Id             Data_Voo  Minutos_Atraso  Tempo_Voo  \\\n",
       "1745  1887425  2022-04-17 00:00:00             0.0       -790   \n",
       "2627  1905642  2022-06-12 00:00:00             NaN          0   \n",
       "\n",
       "              AirportLegs Equipamento_Tipo  Nota_Principal  Nota_CheckinWeb  \\\n",
       "1745  JDO/PNZ/VCP/CWB/IGU          Embraer              10              NaN   \n",
       "2627              FOR/SLZ             A320              10             10.0   \n",
       "\n",
       "      Nota_CheckinMobile  Nota_Comissarios  ...  \\\n",
       "1745                 NaN              10.0  ...   \n",
       "2627                 NaN              10.0  ...   \n",
       "\n",
       "      O processo de check in web funcionou corretamente?  \\\n",
       "1745                                                NaN    \n",
       "2627                                                Sim    \n",
       "\n",
       "      O processo de check in web foi simples?  \\\n",
       "1745                                      NaN   \n",
       "2627                                      Sim   \n",
       "\n",
       "     O processo de check in pelo celular foi simples?  \\\n",
       "1745                                              NaN   \n",
       "2627                                              NaN   \n",
       "\n",
       "     O processo de check in pelo celular funcionou corretamente?  \\\n",
       "1745                                                NaN            \n",
       "2627                                                NaN            \n",
       "\n",
       "     O sistema de entretenimento apresentou algum problema durante o voo?  \\\n",
       "1745                                                Não                     \n",
       "2627                                                NaN                     \n",
       "\n",
       "     Qual foi o problema? Foi oferecido fone a bordo?  \\\n",
       "1745                  NaN                         Não   \n",
       "2627                  NaN                         NaN   \n",
       "\n",
       "     O tempo de espera pela bagagem no destino foi satisfatório?  \\\n",
       "1745                                                Sim            \n",
       "2627                                                NaN            \n",
       "\n",
       "     Você ficou satisfeito com as condições de sua bagagem na devolução?  \\\n",
       "1745                                                Não                    \n",
       "2627                                                NaN                    \n",
       "\n",
       "     Você ficou satisfeito com o atendimento em caso de dano/extravio?  \n",
       "1745                                                Não                 \n",
       "2627                                                NaN                 \n",
       "\n",
       "[2 rows x 22 columns]"
      ]
     },
     "execution_count": 21,
     "metadata": {},
     "output_type": "execute_result"
    }
   ],
   "source": [
    "# Existe vôo com duração negativa?\n",
    "df_nps_raw.loc[df_nps_raw['Tempo_Voo'] <= 0]\n",
    "\n",
    "# obs: verificação na base original (df_nps_raw), dado que na base processada esse caso já foi removido."
   ]
  },
  {
   "cell_type": "code",
   "execution_count": 22,
   "metadata": {},
   "outputs": [
    {
     "data": {
      "text/html": [
       "<div>\n",
       "<style scoped>\n",
       "    .dataframe tbody tr th:only-of-type {\n",
       "        vertical-align: middle;\n",
       "    }\n",
       "\n",
       "    .dataframe tbody tr th {\n",
       "        vertical-align: top;\n",
       "    }\n",
       "\n",
       "    .dataframe thead th {\n",
       "        text-align: right;\n",
       "    }\n",
       "</style>\n",
       "<table border=\"1\" class=\"dataframe\">\n",
       "  <thead>\n",
       "    <tr style=\"text-align: right;\">\n",
       "      <th></th>\n",
       "      <th>Id</th>\n",
       "      <th>Data_Voo</th>\n",
       "      <th>Minutos_Atraso</th>\n",
       "      <th>Tempo_Voo</th>\n",
       "      <th>AirportLegs</th>\n",
       "      <th>Equipamento_Tipo</th>\n",
       "      <th>Nota_Principal</th>\n",
       "      <th>Nota_CheckinWeb</th>\n",
       "      <th>Nota_CheckinMobile</th>\n",
       "      <th>Nota_Comissarios</th>\n",
       "      <th>...</th>\n",
       "      <th>validacao</th>\n",
       "      <th>perfil_Nota_Principal</th>\n",
       "      <th>perfil_Nota_CheckinWeb</th>\n",
       "      <th>perfil_Nota_CheckinMobile</th>\n",
       "      <th>perfil_Nota_Comissarios</th>\n",
       "      <th>perfil_Nota_Entretenimento</th>\n",
       "      <th>perfil_Nota_Bagagem</th>\n",
       "      <th>periodo</th>\n",
       "      <th>mes</th>\n",
       "      <th>dummy_fds_feriado</th>\n",
       "    </tr>\n",
       "  </thead>\n",
       "  <tbody>\n",
       "    <tr>\n",
       "      <th>1312</th>\n",
       "      <td>1853584</td>\n",
       "      <td>2022-03-22</td>\n",
       "      <td>0.0</td>\n",
       "      <td>10</td>\n",
       "      <td>FEN/REC</td>\n",
       "      <td>Embraer</td>\n",
       "      <td>10</td>\n",
       "      <td>NaN</td>\n",
       "      <td>10.0</td>\n",
       "      <td>10.0</td>\n",
       "      <td>...</td>\n",
       "      <td>ok</td>\n",
       "      <td>promotor</td>\n",
       "      <td>sem_avaliacao</td>\n",
       "      <td>promotor</td>\n",
       "      <td>promotor</td>\n",
       "      <td>promotor</td>\n",
       "      <td>promotor</td>\n",
       "      <td>q1</td>\n",
       "      <td>2022-03-01</td>\n",
       "      <td>0</td>\n",
       "    </tr>\n",
       "  </tbody>\n",
       "</table>\n",
       "<p>1 rows × 32 columns</p>\n",
       "</div>"
      ],
      "text/plain": [
       "           Id   Data_Voo  Minutos_Atraso  Tempo_Voo AirportLegs  \\\n",
       "1312  1853584 2022-03-22             0.0         10     FEN/REC   \n",
       "\n",
       "     Equipamento_Tipo  Nota_Principal  Nota_CheckinWeb  Nota_CheckinMobile  \\\n",
       "1312          Embraer              10              NaN                10.0   \n",
       "\n",
       "      Nota_Comissarios  ...  validacao  perfil_Nota_Principal  \\\n",
       "1312              10.0  ...         ok               promotor   \n",
       "\n",
       "     perfil_Nota_CheckinWeb perfil_Nota_CheckinMobile perfil_Nota_Comissarios  \\\n",
       "1312          sem_avaliacao                  promotor                promotor   \n",
       "\n",
       "     perfil_Nota_Entretenimento perfil_Nota_Bagagem periodo         mes  \\\n",
       "1312                   promotor            promotor      q1  2022-03-01   \n",
       "\n",
       "     dummy_fds_feriado  \n",
       "1312                 0  \n",
       "\n",
       "[1 rows x 32 columns]"
      ]
     },
     "execution_count": 22,
     "metadata": {},
     "output_type": "execute_result"
    }
   ],
   "source": [
    "# Qual vôo tem duração de 10 minutos?\n",
    "df_nps.loc[df_nps['Tempo_Voo'] == df_nps['Tempo_Voo'].min()]"
   ]
  },
  {
   "attachments": {},
   "cell_type": "markdown",
   "metadata": {},
   "source": [
    "##### [risco] Qualidade dado\n",
    "De maneira geral, o comportamento da duração dos vôos é heterogênea, variando de 10 a 1965 minutos. Essa amostra, entretanto, parece conter problemas: a menor duração válida é de 10 minutos, partindo de Fernando de Noronha para Recife. Uma breve pesquisa no site da Azul indica que esse trecho é coberto em aproximadamente 95 minuto, que é muito mais crível que os 10 minutos presentes na amostra. Apesar de promissora, esse dado precisa ser levado com parcimônia."
   ]
  },
  {
   "cell_type": "code",
   "execution_count": 55,
   "metadata": {},
   "outputs": [
    {
     "data": {
      "text/plain": [
       "[Text(0.5, 1.0, 'Vôos longos tendem a ter mais clientes insatisfeitos?')]"
      ]
     },
     "execution_count": 55,
     "metadata": {},
     "output_type": "execute_result"
    },
    {
     "data": {
      "image/png": "[encoded data removed]",
      "text/plain": [
       "<Figure size 432x288 with 1 Axes>"
      ]
     },
     "metadata": {
      "needs_background": "light"
     },
     "output_type": "display_data"
    }
   ],
   "source": [
    "# Será que a duração de vôo influencia na satisfação do cliente?\n",
    "fig = sns.boxplot(data=df_nps, x='perfil_Nota_Principal', y='Tempo_Voo', hue='periodo', showfliers=False)\n",
    "fig.set(title='Vôos longos tendem a ter mais clientes insatisfeitos?')"
   ]
  },
  {
   "attachments": {},
   "cell_type": "markdown",
   "metadata": {},
   "source": [
    "##### [ideia] vôos longos piora NPS\n",
    "Vôos mais longos são mais cansativos e tendem a deixar clientes menos satisfeitos."
   ]
  },
  {
   "attachments": {},
   "cell_type": "markdown",
   "metadata": {},
   "source": [
    "#### Aeroporto"
   ]
  },
  {
   "cell_type": "code",
   "execution_count": 62,
   "metadata": {},
   "outputs": [
    {
     "data": {
      "text/plain": [
       "[SSA, VCP]    29\n",
       "[VCP, SDU]    29\n",
       "[CNF, SDU]    27\n",
       "[CWB, IGU]    25\n",
       "Name: list_airport, dtype: int64"
      ]
     },
     "execution_count": 62,
     "metadata": {},
     "output_type": "execute_result"
    }
   ],
   "source": [
    "# Qual é o comportamento dos Aeroportos?\n",
    "df_nps['list_airport'] = df_nps['AirportLegs'].str.split('/')\n",
    "df_nps['list_airport'].value_counts()[:4]"
   ]
  },
  {
   "cell_type": "code",
   "execution_count": 63,
   "metadata": {},
   "outputs": [
    {
     "name": "stdout",
     "output_type": "stream",
     "text": [
      "Top 5: [('VCP', 1045), ('CNF', 725), ('REC', 471), ('GRU', 373), ('POA', 372)]\n",
      "Bottom 5: [('FEC', 2), ('LAJ', 1), ('CFB', 1), ('VAL', 1), ('PHB', 1)]\n"
     ]
    }
   ],
   "source": [
    "# Quais são os aerportos mais visitados pela Azul?\n",
    "dict_airport = {}\n",
    "for i in df_nps['list_airport']:\n",
    "    for j in i:\n",
    "        if j not in dict_airport.keys():\n",
    "            dict_airport[j] = 1\n",
    "        else:\n",
    "            dict_airport[j] += 1\n",
    "\n",
    "ranking_airports = sorted(dict_airport.items(), key=lambda x:x[1], reverse=True)\n",
    "print(f\"Top 5: {ranking_airports[:5]}\")\n",
    "print(f\"Bottom 5: {ranking_airports[-5:]}\")"
   ]
  },
  {
   "attachments": {},
   "cell_type": "markdown",
   "metadata": {},
   "source": [
    "##### [ideia] aeroporto com melhor estrutura\n",
    "\n",
    "Os top 5 aeroportos mais visitados são:\n",
    "- VRP (ViraCopos, SP): 1045\n",
    "- CNF (Confins, MG): 725\n",
    "- REC (Recife/Guararapes, RE): 471\n",
    "- GRU (Guarulhos, SP): 373\n",
    "- POA (Porto Alegre, RS): 372\n",
    "\n",
    "Já os top 5 aeroportos menos visitados são:\n",
    "- FEC (Feira de Santana, BA): 1\n",
    "- LAJ (Lages, SC): 1\n",
    "- CFB (Cabo Frio, RJ): 1\n",
    "- VAL (Val de Cans, PA): 1\n",
    "- PHB (Parnaíba, PI): 1\n",
    "\n",
    "Coerentemente, a Azul tem maior presença em territórios próximos às sedes de Campinas, Belo Horizonte e Recife. Além disso, é possível que a alta frequência de vôos esteja correlacionada com o NPS, dado que se a Azul faz muitos vôos para determinado aeroporto, faz sentido alocar maior parcela de recursos, melhorando o serviço em geral. "
   ]
  },
  {
   "cell_type": "code",
   "execution_count": 95,
   "metadata": {},
   "outputs": [
    {
     "data": {
      "text/plain": [
       "True"
      ]
     },
     "execution_count": 95,
     "metadata": {},
     "output_type": "execute_result"
    }
   ],
   "source": [
    "df_nps['perfil_Nota_Principal'].value_counts()\n",
    "a = {}\n",
    "a['b']={'c':1, 'd':2}\n",
    "#a['b']['c'] += 10\n",
    "'b' not in a.keys()\n",
    "'REC' not in dict_airport_nps"
   ]
  },
  {
   "cell_type": "code",
   "execution_count": 117,
   "metadata": {},
   "outputs": [],
   "source": [
    "# Quais são os aeroportos que tiverma mais notas promotoras/neutras/detratoras?\n",
    "dict_airport_nps_q1 = {}\n",
    "dict_airport_nps_q2 = {}\n",
    "\n",
    "for index, row in df_nps.iterrows():\n",
    "    if (row['periodo'] == 'q1'):\n",
    "        for i in row['list_airport']:\n",
    "            if (i not in dict_airport_nps_q1.keys()):\n",
    "                dict_airport_nps_q1[i] = {'promotor': 0, 'neutro': 0, 'detrator':0, 'total_q1':0}       \n",
    "            dict_airport_nps_q1[i][row['perfil_Nota_Principal']] += 1\n",
    "            dict_airport_nps_q1[i]['total_q1'] += 1\n",
    "    else:\n",
    "        for i in row['list_airport']:\n",
    "            if (i not in dict_airport_nps_q2.keys()):\n",
    "                dict_airport_nps_q2[i] = {'promotor': 0, 'neutro': 0, 'detrator':0, 'total_q2':0}       \n",
    "            dict_airport_nps_q2[i][row['perfil_Nota_Principal']] += 1\n",
    "            dict_airport_nps_q2[i]['total_q2'] += 1        "
   ]
  },
  {
   "cell_type": "code",
   "execution_count": 136,
   "metadata": {},
   "outputs": [
    {
     "data": {
      "image/png": "[encoded data removed]",
      "text/plain": [
       "<Figure size 432x288 with 1 Axes>"
      ]
     },
     "metadata": {
      "needs_background": "light"
     },
     "output_type": "display_data"
    }
   ],
   "source": [
    "# Unificar os dados organizados em dicionários acima e compará-los.\n",
    "df_nps_air_q1 = pd.DataFrame(dict_airport_nps_q1).T.reset_index()\n",
    "df_nps_air_q1['nps_q1'] = (df_nps_air_q1['promotor'] - df_nps_air_q1['detrator'])/df_nps_air_q1['total_q1']\n",
    "\n",
    "df_nps_air_q2 = pd.DataFrame(dict_airport_nps_q2).T.reset_index()\n",
    "df_nps_air_q2['nps_q2'] = (df_nps_air_q2['promotor'] - df_nps_air_q2['detrator'])/df_nps_air_q2['total_q2']\n",
    "\n",
    "df = pd.merge(df_nps_air_q1, df_nps_air_q2[['index', 'total_q2', 'nps_q2']], on='index', how='outer')\n",
    "\n",
    "# Criar filtros que indiquem quais casos são mais divergentes.\n",
    "df['filtro1'] = np.abs(df['nps_q1'] - df['nps_q2'])\n",
    "df['filtro2'] = df[['total_q1', 'total_q2']].min(axis=1)\n",
    "\n",
    "fig = sns.scatterplot(data=df, x='filtro1', y='filtro2')\n",
    "fig.set(title='Quais aeroportos tiveram mais divergência de NPS entre Q1 e Q2?')\n",
    "plt.show()"
   ]
  },
  {
   "cell_type": "code",
   "execution_count": 194,
   "metadata": {},
   "outputs": [
    {
     "data": {
      "text/html": [
       "<div>\n",
       "<style scoped>\n",
       "    .dataframe tbody tr th:only-of-type {\n",
       "        vertical-align: middle;\n",
       "    }\n",
       "\n",
       "    .dataframe tbody tr th {\n",
       "        vertical-align: top;\n",
       "    }\n",
       "\n",
       "    .dataframe thead th {\n",
       "        text-align: right;\n",
       "    }\n",
       "</style>\n",
       "<table border=\"1\" class=\"dataframe\">\n",
       "  <thead>\n",
       "    <tr style=\"text-align: right;\">\n",
       "      <th></th>\n",
       "      <th>filtro2</th>\n",
       "    </tr>\n",
       "  </thead>\n",
       "  <tbody>\n",
       "    <tr>\n",
       "      <th>count</th>\n",
       "      <td>97.00</td>\n",
       "    </tr>\n",
       "    <tr>\n",
       "      <th>mean</th>\n",
       "      <td>32.25</td>\n",
       "    </tr>\n",
       "    <tr>\n",
       "      <th>std</th>\n",
       "      <td>70.41</td>\n",
       "    </tr>\n",
       "    <tr>\n",
       "      <th>min</th>\n",
       "      <td>1.00</td>\n",
       "    </tr>\n",
       "    <tr>\n",
       "      <th>25%</th>\n",
       "      <td>3.00</td>\n",
       "    </tr>\n",
       "    <tr>\n",
       "      <th>50%</th>\n",
       "      <td>8.00</td>\n",
       "    </tr>\n",
       "    <tr>\n",
       "      <th>75%</th>\n",
       "      <td>26.00</td>\n",
       "    </tr>\n",
       "    <tr>\n",
       "      <th>max</th>\n",
       "      <td>490.00</td>\n",
       "    </tr>\n",
       "  </tbody>\n",
       "</table>\n",
       "</div>"
      ],
      "text/plain": [
       "       filtro2\n",
       "count    97.00\n",
       "mean     32.25\n",
       "std      70.41\n",
       "min       1.00\n",
       "25%       3.00\n",
       "50%       8.00\n",
       "75%      26.00\n",
       "max     490.00"
      ]
     },
     "execution_count": 194,
     "metadata": {},
     "output_type": "execute_result"
    }
   ],
   "source": [
    "# Qual é a distribuição de vôos por aeroporto?\n",
    "df[['filtro2']].describe().round(2)"
   ]
  },
  {
   "cell_type": "code",
   "execution_count": 196,
   "metadata": {},
   "outputs": [
    {
     "data": {
      "text/html": [
       "<div>\n",
       "<style scoped>\n",
       "    .dataframe tbody tr th:only-of-type {\n",
       "        vertical-align: middle;\n",
       "    }\n",
       "\n",
       "    .dataframe tbody tr th {\n",
       "        vertical-align: top;\n",
       "    }\n",
       "\n",
       "    .dataframe thead th {\n",
       "        text-align: right;\n",
       "    }\n",
       "</style>\n",
       "<table border=\"1\" class=\"dataframe\">\n",
       "  <thead>\n",
       "    <tr style=\"text-align: right;\">\n",
       "      <th></th>\n",
       "      <th>index</th>\n",
       "      <th>promotor</th>\n",
       "      <th>neutro</th>\n",
       "      <th>detrator</th>\n",
       "      <th>total_q1</th>\n",
       "      <th>nps_q1</th>\n",
       "      <th>total_q2</th>\n",
       "      <th>nps_q2</th>\n",
       "      <th>filtro1</th>\n",
       "      <th>filtro2</th>\n",
       "    </tr>\n",
       "  </thead>\n",
       "  <tbody>\n",
       "    <tr>\n",
       "      <th>26</th>\n",
       "      <td>CGR</td>\n",
       "      <td>31.0</td>\n",
       "      <td>4.0</td>\n",
       "      <td>2.0</td>\n",
       "      <td>37.0</td>\n",
       "      <td>0.783784</td>\n",
       "      <td>27.0</td>\n",
       "      <td>0.370370</td>\n",
       "      <td>0.413413</td>\n",
       "      <td>27.0</td>\n",
       "    </tr>\n",
       "    <tr>\n",
       "      <th>33</th>\n",
       "      <td>BEL</td>\n",
       "      <td>57.0</td>\n",
       "      <td>13.0</td>\n",
       "      <td>7.0</td>\n",
       "      <td>77.0</td>\n",
       "      <td>0.649351</td>\n",
       "      <td>67.0</td>\n",
       "      <td>0.313433</td>\n",
       "      <td>0.335918</td>\n",
       "      <td>67.0</td>\n",
       "    </tr>\n",
       "    <tr>\n",
       "      <th>32</th>\n",
       "      <td>FOR</td>\n",
       "      <td>57.0</td>\n",
       "      <td>3.0</td>\n",
       "      <td>5.0</td>\n",
       "      <td>65.0</td>\n",
       "      <td>0.800000</td>\n",
       "      <td>93.0</td>\n",
       "      <td>0.505376</td>\n",
       "      <td>0.294624</td>\n",
       "      <td>65.0</td>\n",
       "    </tr>\n",
       "    <tr>\n",
       "      <th>36</th>\n",
       "      <td>THE</td>\n",
       "      <td>22.0</td>\n",
       "      <td>4.0</td>\n",
       "      <td>3.0</td>\n",
       "      <td>29.0</td>\n",
       "      <td>0.655172</td>\n",
       "      <td>36.0</td>\n",
       "      <td>0.388889</td>\n",
       "      <td>0.266284</td>\n",
       "      <td>29.0</td>\n",
       "    </tr>\n",
       "    <tr>\n",
       "      <th>28</th>\n",
       "      <td>SDU</td>\n",
       "      <td>149.0</td>\n",
       "      <td>20.0</td>\n",
       "      <td>17.0</td>\n",
       "      <td>186.0</td>\n",
       "      <td>0.709677</td>\n",
       "      <td>162.0</td>\n",
       "      <td>0.518519</td>\n",
       "      <td>0.191159</td>\n",
       "      <td>162.0</td>\n",
       "    </tr>\n",
       "    <tr>\n",
       "      <th>37</th>\n",
       "      <td>GIG</td>\n",
       "      <td>33.0</td>\n",
       "      <td>6.0</td>\n",
       "      <td>11.0</td>\n",
       "      <td>50.0</td>\n",
       "      <td>0.440000</td>\n",
       "      <td>37.0</td>\n",
       "      <td>0.297297</td>\n",
       "      <td>0.142703</td>\n",
       "      <td>37.0</td>\n",
       "    </tr>\n",
       "    <tr>\n",
       "      <th>14</th>\n",
       "      <td>CGB</td>\n",
       "      <td>108.0</td>\n",
       "      <td>13.0</td>\n",
       "      <td>11.0</td>\n",
       "      <td>132.0</td>\n",
       "      <td>0.734848</td>\n",
       "      <td>114.0</td>\n",
       "      <td>0.614035</td>\n",
       "      <td>0.120813</td>\n",
       "      <td>114.0</td>\n",
       "    </tr>\n",
       "    <tr>\n",
       "      <th>23</th>\n",
       "      <td>CWB</td>\n",
       "      <td>142.0</td>\n",
       "      <td>28.0</td>\n",
       "      <td>24.0</td>\n",
       "      <td>194.0</td>\n",
       "      <td>0.608247</td>\n",
       "      <td>171.0</td>\n",
       "      <td>0.719298</td>\n",
       "      <td>0.111051</td>\n",
       "      <td>171.0</td>\n",
       "    </tr>\n",
       "    <tr>\n",
       "      <th>31</th>\n",
       "      <td>RAO</td>\n",
       "      <td>20.0</td>\n",
       "      <td>3.0</td>\n",
       "      <td>6.0</td>\n",
       "      <td>29.0</td>\n",
       "      <td>0.482759</td>\n",
       "      <td>27.0</td>\n",
       "      <td>0.592593</td>\n",
       "      <td>0.109834</td>\n",
       "      <td>27.0</td>\n",
       "    </tr>\n",
       "    <tr>\n",
       "      <th>22</th>\n",
       "      <td>UDI</td>\n",
       "      <td>22.0</td>\n",
       "      <td>5.0</td>\n",
       "      <td>3.0</td>\n",
       "      <td>30.0</td>\n",
       "      <td>0.633333</td>\n",
       "      <td>21.0</td>\n",
       "      <td>0.523810</td>\n",
       "      <td>0.109524</td>\n",
       "      <td>21.0</td>\n",
       "    </tr>\n",
       "  </tbody>\n",
       "</table>\n",
       "</div>"
      ],
      "text/plain": [
       "   index  promotor  neutro  detrator  total_q1    nps_q1  total_q2    nps_q2  \\\n",
       "26   CGR      31.0     4.0       2.0      37.0  0.783784      27.0  0.370370   \n",
       "33   BEL      57.0    13.0       7.0      77.0  0.649351      67.0  0.313433   \n",
       "32   FOR      57.0     3.0       5.0      65.0  0.800000      93.0  0.505376   \n",
       "36   THE      22.0     4.0       3.0      29.0  0.655172      36.0  0.388889   \n",
       "28   SDU     149.0    20.0      17.0     186.0  0.709677     162.0  0.518519   \n",
       "37   GIG      33.0     6.0      11.0      50.0  0.440000      37.0  0.297297   \n",
       "14   CGB     108.0    13.0      11.0     132.0  0.734848     114.0  0.614035   \n",
       "23   CWB     142.0    28.0      24.0     194.0  0.608247     171.0  0.719298   \n",
       "31   RAO      20.0     3.0       6.0      29.0  0.482759      27.0  0.592593   \n",
       "22   UDI      22.0     5.0       3.0      30.0  0.633333      21.0  0.523810   \n",
       "\n",
       "     filtro1  filtro2  \n",
       "26  0.413413     27.0  \n",
       "33  0.335918     67.0  \n",
       "32  0.294624     65.0  \n",
       "36  0.266284     29.0  \n",
       "28  0.191159    162.0  \n",
       "37  0.142703     37.0  \n",
       "14  0.120813    114.0  \n",
       "23  0.111051    171.0  \n",
       "31  0.109834     27.0  \n",
       "22  0.109524     21.0  "
      ]
     },
     "execution_count": 196,
     "metadata": {},
     "output_type": "execute_result"
    }
   ],
   "source": [
    "# Qual aeroporto que apresentou relevantes número de vôos e variação de NPS?\n",
    "df.loc[(df['filtro1'] >= 0.10) & (df['filtro2'] >= 20)].sort_values('filtro1', ascending=False)"
   ]
  },
  {
   "cell_type": "code",
   "execution_count": 146,
   "metadata": {},
   "outputs": [
    {
     "data": {
      "text/html": [
       "<div>\n",
       "<style scoped>\n",
       "    .dataframe tbody tr th:only-of-type {\n",
       "        vertical-align: middle;\n",
       "    }\n",
       "\n",
       "    .dataframe tbody tr th {\n",
       "        vertical-align: top;\n",
       "    }\n",
       "\n",
       "    .dataframe thead th {\n",
       "        text-align: right;\n",
       "    }\n",
       "</style>\n",
       "<table border=\"1\" class=\"dataframe\">\n",
       "  <thead>\n",
       "    <tr style=\"text-align: right;\">\n",
       "      <th></th>\n",
       "      <th>periodo</th>\n",
       "      <th>Equipamento_Tipo</th>\n",
       "      <th>Id</th>\n",
       "    </tr>\n",
       "  </thead>\n",
       "  <tbody>\n",
       "    <tr>\n",
       "      <th>0</th>\n",
       "      <td>q1</td>\n",
       "      <td>ATR</td>\n",
       "      <td>5</td>\n",
       "    </tr>\n",
       "    <tr>\n",
       "      <th>1</th>\n",
       "      <td>q1</td>\n",
       "      <td>Embraer</td>\n",
       "      <td>149</td>\n",
       "    </tr>\n",
       "    <tr>\n",
       "      <th>2</th>\n",
       "      <td>q1</td>\n",
       "      <td>Embraer-A320</td>\n",
       "      <td>13</td>\n",
       "    </tr>\n",
       "    <tr>\n",
       "      <th>3</th>\n",
       "      <td>q1</td>\n",
       "      <td>Embraer-A330</td>\n",
       "      <td>1</td>\n",
       "    </tr>\n",
       "    <tr>\n",
       "      <th>4</th>\n",
       "      <td>q1</td>\n",
       "      <td>Embraer-ATR</td>\n",
       "      <td>17</td>\n",
       "    </tr>\n",
       "    <tr>\n",
       "      <th>5</th>\n",
       "      <td>q1</td>\n",
       "      <td>MISTO</td>\n",
       "      <td>1</td>\n",
       "    </tr>\n",
       "    <tr>\n",
       "      <th>6</th>\n",
       "      <td>q2</td>\n",
       "      <td>ATR</td>\n",
       "      <td>9</td>\n",
       "    </tr>\n",
       "    <tr>\n",
       "      <th>7</th>\n",
       "      <td>q2</td>\n",
       "      <td>Embraer</td>\n",
       "      <td>128</td>\n",
       "    </tr>\n",
       "    <tr>\n",
       "      <th>8</th>\n",
       "      <td>q2</td>\n",
       "      <td>Embraer-A320</td>\n",
       "      <td>10</td>\n",
       "    </tr>\n",
       "    <tr>\n",
       "      <th>9</th>\n",
       "      <td>q2</td>\n",
       "      <td>Embraer-ATR</td>\n",
       "      <td>15</td>\n",
       "    </tr>\n",
       "  </tbody>\n",
       "</table>\n",
       "</div>"
      ],
      "text/plain": [
       "  periodo Equipamento_Tipo   Id\n",
       "0      q1              ATR    5\n",
       "1      q1          Embraer  149\n",
       "2      q1     Embraer-A320   13\n",
       "3      q1     Embraer-A330    1\n",
       "4      q1      Embraer-ATR   17\n",
       "5      q1            MISTO    1\n",
       "6      q2              ATR    9\n",
       "7      q2          Embraer  128\n",
       "8      q2     Embraer-A320   10\n",
       "9      q2      Embraer-ATR   15"
      ]
     },
     "execution_count": 146,
     "metadata": {},
     "output_type": "execute_result"
    }
   ],
   "source": [
    "# Juntando as hipóteses de aeroporto + avião, será que em SDU houveram muitos vôos com aviões da série A320?\n",
    "df_nps.loc[(df_nps['AirportLegs'].str.contains('SDU'))].groupby(['periodo', 'Equipamento_Tipo'], as_index=False).agg({'Id':'count'})"
   ]
  },
  {
   "cell_type": "code",
   "execution_count": 210,
   "metadata": {},
   "outputs": [
    {
     "data": {
      "text/plain": [
       "['CGR', 'BEL', 'FOR', 'THE', 'SDU']"
      ]
     },
     "execution_count": 210,
     "metadata": {},
     "output_type": "execute_result"
    }
   ],
   "source": [
    "# Lista de aeroportos que tiveram as maiores pioras de NPS.\n",
    "list_airport_bad = df.loc[(df[['total_q1','total_q2']].min(axis=1) >= 20) & (df['nps_q1'] - df['nps_q2'] > 0.05)].sort_values('filtro1', ascending=False).head(5)['index'].tolist()\n",
    "list_airport_bad"
   ]
  },
  {
   "attachments": {},
   "cell_type": "markdown",
   "metadata": {},
   "source": [
    "##### [ideia] Top 5 aeroportos com quedas de NPS\n",
    "Aconteceu algo com os vôos com destino/origem em Santos Drummon, dada seu baixo NPS no Q2."
   ]
  },
  {
   "cell_type": "code",
   "execution_count": 203,
   "metadata": {},
   "outputs": [
    {
     "data": {
      "text/plain": [
       "0    2137\n",
       "1     733\n",
       "Name: dummy_aeroporto_queda_nps, dtype: int64"
      ]
     },
     "metadata": {},
     "output_type": "display_data"
    },
    {
     "data": {
      "text/plain": [
       "<AxesSubplot:xlabel='dummy_aeroporto_queda_nps', ylabel='Minutos_Atraso'>"
      ]
     },
     "execution_count": 203,
     "metadata": {},
     "output_type": "execute_result"
    },
    {
     "data": {
      "image/png": "[encoded data removed]",
      "text/plain": [
       "<Figure size 432x288 with 1 Axes>"
      ]
     },
     "metadata": {
      "needs_background": "light"
     },
     "output_type": "display_data"
    }
   ],
   "source": [
    "# Comparando os aeroportos (a) com maior queda de NPS e (b) outros, será que observamos diferença nos atrasos?\n",
    "list_airport_bad = df.loc[(df[['total_q1','total_q2']].min(axis=1) >= 20) & (df['nps_q1'] - df['nps_q2'] > 0.04)].sort_values('filtro1', ascending=False).head(5)['index'].tolist()\n",
    "\n",
    "df_nps['dummy_aeroporto_queda_nps'] = np.where(df_nps['AirportLegs'].str.contains('|'.join(list_airport_bad)), 1, 0)\n",
    "display(df_nps['dummy_aeroporto_queda_nps'].value_counts())\n",
    "\n",
    "sns.boxplot(data=df_nps, x='dummy_aeroporto_queda_nps', y='Minutos_Atraso', hue='periodo', showfliers=False)"
   ]
  },
  {
   "attachments": {},
   "cell_type": "markdown",
   "metadata": {},
   "source": [
    "#### Equipamento"
   ]
  },
  {
   "cell_type": "code",
   "execution_count": 25,
   "metadata": {},
   "outputs": [
    {
     "data": {
      "text/plain": [
       "Embraer         1635\n",
       "A320             404\n",
       "ATR              250\n",
       "Embraer-ATR      242\n",
       "Embraer-A320     207\n",
       "ATR-A320          94\n",
       "MISTO             18\n",
       "A330              11\n",
       "Embraer-A330       6\n",
       "ATR-A330           3\n",
       "Name: Equipamento_Tipo, dtype: int64"
      ]
     },
     "execution_count": 25,
     "metadata": {},
     "output_type": "execute_result"
    }
   ],
   "source": [
    "# Quais são as principais aeronaves usadas?\n",
    "df_nps['Equipamento_Tipo'].value_counts()"
   ]
  },
  {
   "cell_type": "code",
   "execution_count": 27,
   "metadata": {},
   "outputs": [
    {
     "data": {
      "text/html": [
       "<div>\n",
       "<style scoped>\n",
       "    .dataframe tbody tr th:only-of-type {\n",
       "        vertical-align: middle;\n",
       "    }\n",
       "\n",
       "    .dataframe tbody tr th {\n",
       "        vertical-align: top;\n",
       "    }\n",
       "\n",
       "    .dataframe thead th {\n",
       "        text-align: right;\n",
       "    }\n",
       "</style>\n",
       "<table border=\"1\" class=\"dataframe\">\n",
       "  <thead>\n",
       "    <tr style=\"text-align: right;\">\n",
       "      <th>perfil_Nota_Principal</th>\n",
       "      <th>Equipamento_Tipo</th>\n",
       "      <th>total_q1</th>\n",
       "      <th>total_q2</th>\n",
       "      <th>nps_q1</th>\n",
       "      <th>nps_q2</th>\n",
       "    </tr>\n",
       "  </thead>\n",
       "  <tbody>\n",
       "    <tr>\n",
       "      <th>0</th>\n",
       "      <td>A320</td>\n",
       "      <td>176</td>\n",
       "      <td>228.0</td>\n",
       "      <td>0.64</td>\n",
       "      <td>0.48</td>\n",
       "    </tr>\n",
       "    <tr>\n",
       "      <th>1</th>\n",
       "      <td>A330</td>\n",
       "      <td>11</td>\n",
       "      <td>NaN</td>\n",
       "      <td>0.73</td>\n",
       "      <td>NaN</td>\n",
       "    </tr>\n",
       "    <tr>\n",
       "      <th>2</th>\n",
       "      <td>ATR</td>\n",
       "      <td>134</td>\n",
       "      <td>116.0</td>\n",
       "      <td>0.56</td>\n",
       "      <td>0.52</td>\n",
       "    </tr>\n",
       "    <tr>\n",
       "      <th>3</th>\n",
       "      <td>ATR-A320</td>\n",
       "      <td>50</td>\n",
       "      <td>44.0</td>\n",
       "      <td>0.34</td>\n",
       "      <td>0.55</td>\n",
       "    </tr>\n",
       "    <tr>\n",
       "      <th>4</th>\n",
       "      <td>ATR-A330</td>\n",
       "      <td>3</td>\n",
       "      <td>NaN</td>\n",
       "      <td>0.67</td>\n",
       "      <td>NaN</td>\n",
       "    </tr>\n",
       "    <tr>\n",
       "      <th>5</th>\n",
       "      <td>Embraer</td>\n",
       "      <td>855</td>\n",
       "      <td>780.0</td>\n",
       "      <td>0.66</td>\n",
       "      <td>0.64</td>\n",
       "    </tr>\n",
       "    <tr>\n",
       "      <th>6</th>\n",
       "      <td>Embraer-A320</td>\n",
       "      <td>110</td>\n",
       "      <td>97.0</td>\n",
       "      <td>0.55</td>\n",
       "      <td>0.49</td>\n",
       "    </tr>\n",
       "    <tr>\n",
       "      <th>7</th>\n",
       "      <td>Embraer-A330</td>\n",
       "      <td>6</td>\n",
       "      <td>NaN</td>\n",
       "      <td>0.67</td>\n",
       "      <td>NaN</td>\n",
       "    </tr>\n",
       "    <tr>\n",
       "      <th>8</th>\n",
       "      <td>Embraer-ATR</td>\n",
       "      <td>125</td>\n",
       "      <td>117.0</td>\n",
       "      <td>0.55</td>\n",
       "      <td>0.48</td>\n",
       "    </tr>\n",
       "    <tr>\n",
       "      <th>9</th>\n",
       "      <td>MISTO</td>\n",
       "      <td>6</td>\n",
       "      <td>12.0</td>\n",
       "      <td>0.17</td>\n",
       "      <td>0.00</td>\n",
       "    </tr>\n",
       "  </tbody>\n",
       "</table>\n",
       "</div>"
      ],
      "text/plain": [
       "perfil_Nota_Principal Equipamento_Tipo  total_q1  total_q2  nps_q1  nps_q2\n",
       "0                                 A320       176     228.0    0.64    0.48\n",
       "1                                 A330        11       NaN    0.73     NaN\n",
       "2                                  ATR       134     116.0    0.56    0.52\n",
       "3                             ATR-A320        50      44.0    0.34    0.55\n",
       "4                             ATR-A330         3       NaN    0.67     NaN\n",
       "5                              Embraer       855     780.0    0.66    0.64\n",
       "6                         Embraer-A320       110      97.0    0.55    0.49\n",
       "7                         Embraer-A330         6       NaN    0.67     NaN\n",
       "8                          Embraer-ATR       125     117.0    0.55    0.48\n",
       "9                                MISTO         6      12.0    0.17    0.00"
      ]
     },
     "execution_count": 27,
     "metadata": {},
     "output_type": "execute_result"
    }
   ],
   "source": [
    "azul.compare_nps_categorical(df_nps, 'perfil_Nota_Principal', 'Equipamento_Tipo')"
   ]
  },
  {
   "attachments": {},
   "cell_type": "markdown",
   "metadata": {},
   "source": [
    "##### [ideia] aviões A320 e ATR-A320\n",
    "Por que temos diferença de NPS em aviões A320 e ATR-320?"
   ]
  },
  {
   "attachments": {},
   "cell_type": "markdown",
   "metadata": {},
   "source": [
    "### NPS"
   ]
  },
  {
   "attachments": {},
   "cell_type": "markdown",
   "metadata": {},
   "source": [
    "#### NPS Principal"
   ]
  },
  {
   "cell_type": "code",
   "execution_count": 28,
   "metadata": {},
   "outputs": [
    {
     "data": {
      "image/png": "[encoded data removed]",
      "text/plain": [
       "<Figure size 432x288 with 1 Axes>"
      ]
     },
     "metadata": {
      "needs_background": "light"
     },
     "output_type": "display_data"
    },
    {
     "data": {
      "text/html": [
       "<div>\n",
       "<style scoped>\n",
       "    .dataframe tbody tr th:only-of-type {\n",
       "        vertical-align: middle;\n",
       "    }\n",
       "\n",
       "    .dataframe tbody tr th {\n",
       "        vertical-align: top;\n",
       "    }\n",
       "\n",
       "    .dataframe thead th {\n",
       "        text-align: right;\n",
       "    }\n",
       "</style>\n",
       "<table border=\"1\" class=\"dataframe\">\n",
       "  <thead>\n",
       "    <tr style=\"text-align: right;\">\n",
       "      <th></th>\n",
       "      <th>count</th>\n",
       "      <th>mean</th>\n",
       "      <th>std</th>\n",
       "      <th>min</th>\n",
       "      <th>25%</th>\n",
       "      <th>50%</th>\n",
       "      <th>75%</th>\n",
       "      <th>max</th>\n",
       "    </tr>\n",
       "  </thead>\n",
       "  <tbody>\n",
       "    <tr>\n",
       "      <th>Nota_Principal</th>\n",
       "      <td>2870.0</td>\n",
       "      <td>8.642857</td>\n",
       "      <td>2.36072</td>\n",
       "      <td>0.0</td>\n",
       "      <td>8.0</td>\n",
       "      <td>10.0</td>\n",
       "      <td>10.0</td>\n",
       "      <td>10.0</td>\n",
       "    </tr>\n",
       "  </tbody>\n",
       "</table>\n",
       "</div>"
      ],
      "text/plain": [
       "                 count      mean      std  min  25%   50%   75%   max\n",
       "Nota_Principal  2870.0  8.642857  2.36072  0.0  8.0  10.0  10.0  10.0"
      ]
     },
     "execution_count": 28,
     "metadata": {},
     "output_type": "execute_result"
    }
   ],
   "source": [
    "# NPS em geral.\n",
    "df_plot = df_nps['Nota_Principal'].value_counts().reset_index().sort_values('index', ascending=False)\n",
    "df_plot.columns = ['nota', 'qtd']\n",
    "\n",
    "fig = sns.barplot(data=df_plot, x='nota', y='qtd')\n",
    "fig.set(title='Gráfico 5: distribuição das notas no 1º semestre de 2022.')\n",
    "plt.show()\n",
    "\n",
    "df_nps['Nota_Principal'].describe().to_frame().T"
   ]
  },
  {
   "cell_type": "code",
   "execution_count": 29,
   "metadata": {},
   "outputs": [
    {
     "name": "stdout",
     "output_type": "stream",
     "text": [
      "Quantidade de notas principais: 2870\n"
     ]
    }
   ],
   "source": [
    "# Temos nota principal em todas os vôos?\n",
    "print(f\"Quantidade de notas principais: {df_nps.loc[df_nps['Nota_Principal'].notnull()].shape[0]}\")"
   ]
  },
  {
   "cell_type": "code",
   "execution_count": 30,
   "metadata": {},
   "outputs": [
    {
     "data": {
      "text/html": [
       "<div>\n",
       "<style scoped>\n",
       "    .dataframe tbody tr th:only-of-type {\n",
       "        vertical-align: middle;\n",
       "    }\n",
       "\n",
       "    .dataframe tbody tr th {\n",
       "        vertical-align: top;\n",
       "    }\n",
       "\n",
       "    .dataframe thead th {\n",
       "        text-align: right;\n",
       "    }\n",
       "</style>\n",
       "<table border=\"1\" class=\"dataframe\">\n",
       "  <thead>\n",
       "    <tr style=\"text-align: right;\">\n",
       "      <th>perfil_Nota_Principal</th>\n",
       "      <th>mes</th>\n",
       "      <th>detrator</th>\n",
       "      <th>neutro</th>\n",
       "      <th>promotor</th>\n",
       "      <th>total</th>\n",
       "      <th>nps</th>\n",
       "    </tr>\n",
       "  </thead>\n",
       "  <tbody>\n",
       "    <tr>\n",
       "      <th>0</th>\n",
       "      <td>2022-01-01</td>\n",
       "      <td>65</td>\n",
       "      <td>76</td>\n",
       "      <td>400</td>\n",
       "      <td>541</td>\n",
       "      <td>0.619224</td>\n",
       "    </tr>\n",
       "    <tr>\n",
       "      <th>1</th>\n",
       "      <td>2022-02-01</td>\n",
       "      <td>47</td>\n",
       "      <td>64</td>\n",
       "      <td>294</td>\n",
       "      <td>405</td>\n",
       "      <td>0.609877</td>\n",
       "    </tr>\n",
       "    <tr>\n",
       "      <th>2</th>\n",
       "      <td>2022-03-01</td>\n",
       "      <td>62</td>\n",
       "      <td>76</td>\n",
       "      <td>392</td>\n",
       "      <td>530</td>\n",
       "      <td>0.622642</td>\n",
       "    </tr>\n",
       "    <tr>\n",
       "      <th>3</th>\n",
       "      <td>2022-04-01</td>\n",
       "      <td>50</td>\n",
       "      <td>84</td>\n",
       "      <td>327</td>\n",
       "      <td>461</td>\n",
       "      <td>0.600868</td>\n",
       "    </tr>\n",
       "    <tr>\n",
       "      <th>4</th>\n",
       "      <td>2022-05-01</td>\n",
       "      <td>68</td>\n",
       "      <td>87</td>\n",
       "      <td>367</td>\n",
       "      <td>522</td>\n",
       "      <td>0.572797</td>\n",
       "    </tr>\n",
       "    <tr>\n",
       "      <th>5</th>\n",
       "      <td>2022-06-01</td>\n",
       "      <td>59</td>\n",
       "      <td>70</td>\n",
       "      <td>282</td>\n",
       "      <td>411</td>\n",
       "      <td>0.542579</td>\n",
       "    </tr>\n",
       "  </tbody>\n",
       "</table>\n",
       "</div>"
      ],
      "text/plain": [
       "perfil_Nota_Principal         mes  detrator  neutro  promotor  total       nps\n",
       "0                      2022-01-01        65      76       400    541  0.619224\n",
       "1                      2022-02-01        47      64       294    405  0.609877\n",
       "2                      2022-03-01        62      76       392    530  0.622642\n",
       "3                      2022-04-01        50      84       327    461  0.600868\n",
       "4                      2022-05-01        68      87       367    522  0.572797\n",
       "5                      2022-06-01        59      70       282    411  0.542579"
      ]
     },
     "metadata": {},
     "output_type": "display_data"
    },
    {
     "data": {
      "image/png": "[encoded data removed]",
      "text/plain": [
       "<Figure size 432x288 with 1 Axes>"
      ]
     },
     "metadata": {
      "needs_background": "light"
     },
     "output_type": "display_data"
    }
   ],
   "source": [
    "# Tabela contendo o nps calculado manualmente.\n",
    "df_nps_mes = pd.pivot_table(data=df_nps, values='Id', index='mes', columns='perfil_Nota_Principal', aggfunc='count', margins=True, margins_name='total').reset_index(drop=False).iloc[:-1, :]\n",
    "df_nps_mes['nps'] = (df_nps_mes['promotor'] - df_nps_mes['detrator'])/df_nps_mes['total']\n",
    "display(df_nps_mes)\n",
    "\n",
    "fig = sns.lineplot(data=df_nps_mes, x='mes', y='nps')\n",
    "fig.set(title='Gráfico 6: NPS mensal', ylim=(0,1))\n",
    "plt.show()"
   ]
  },
  {
   "attachments": {},
   "cell_type": "markdown",
   "metadata": {},
   "source": [
    "##### [correção] NPS sem inconsistências\n",
    "\n",
    "As notas de NPS não batem na vírgula com os valores apresentados no Excel pois os casos com inconsistências foram desconsideradas. Apesar disso, o comportamento temporal de crescimentos e quedas se manteve.\n",
    "\n",
    "![nps original](nps.PNG)"
   ]
  },
  {
   "cell_type": "code",
   "execution_count": 48,
   "metadata": {},
   "outputs": [
    {
     "data": {
      "text/plain": [
       "Index(['Nota_Principal', 'Nota_CheckinWeb', 'Nota_CheckinMobile',\n",
       "       'Nota_Comissarios', 'Nota_Entretenimento', 'Nota_Bagagem'],\n",
       "      dtype='object')"
      ]
     },
     "metadata": {},
     "output_type": "display_data"
    },
    {
     "data": {
      "image/png": "[encoded data removed]",
      "text/plain": [
       "<Figure size 432x288 with 2 Axes>"
      ]
     },
     "metadata": {
      "needs_background": "light"
     },
     "output_type": "display_data"
    },
    {
     "data": {
      "image/png": "[encoded data removed]",
      "text/plain": [
       "<Figure size 432x288 with 2 Axes>"
      ]
     },
     "metadata": {
      "needs_background": "light"
     },
     "output_type": "display_data"
    }
   ],
   "source": [
    "# Como as notas de cada avaliação se cruzam?\n",
    "display(list_notas)\n",
    "\n",
    "# Q1\n",
    "fig = sns.heatmap(df_nps.loc[df_nps['periodo'] == 'q1'][list_notas].corr().corr(method='pearson'), vmin=-1, vmax=1, cmap='RdYlGn', annot=True)\n",
    "fig.set(title='Correlação não linear das notas em Q1')\n",
    "plt.show()\n",
    "\n",
    "# Q2\n",
    "fig = sns.heatmap(df_nps.loc[df_nps['periodo'] == 'q2'][list_notas].corr().corr(method='pearson'), vmin=-1, vmax=1, cmap='RdYlGn', annot=True)\n",
    "fig.set(title='Correlação não linear das notas em Q2')\n",
    "plt.show()"
   ]
  },
  {
   "attachments": {},
   "cell_type": "markdown",
   "metadata": {},
   "source": [
    "#### NPS Checkin"
   ]
  },
  {
   "cell_type": "code",
   "execution_count": 32,
   "metadata": {},
   "outputs": [
    {
     "name": "stdout",
     "output_type": "stream",
     "text": [
      "Quantas pessoas deram nota ambos para o Checkin Web e Mobile: 2\n"
     ]
    }
   ],
   "source": [
    "# Será que alguém deu nota ambos para o Checkin Web e Mobile?\n",
    "print(f\"Quantas pessoas deram nota ambos para o Checkin Web e Mobile: {df_nps.loc[(df_nps['Nota_CheckinWeb'].notnull()) & (df_nps['Nota_CheckinMobile'].notnull())].shape[0]}\")\n",
    "\n",
    "# obs: é possível supor que a pessoa se enganou e acabou preenchendo duas vezes. Nesses casos, consdervadoramente, será considerada a menor nota."
   ]
  },
  {
   "cell_type": "code",
   "execution_count": 33,
   "metadata": {},
   "outputs": [
    {
     "data": {
      "image/png": "[encoded data removed]",
      "text/plain": [
       "<Figure size 432x288 with 1 Axes>"
      ]
     },
     "metadata": {
      "needs_background": "light"
     },
     "output_type": "display_data"
    },
    {
     "data": {
      "text/html": [
       "<div>\n",
       "<style scoped>\n",
       "    .dataframe tbody tr th:only-of-type {\n",
       "        vertical-align: middle;\n",
       "    }\n",
       "\n",
       "    .dataframe tbody tr th {\n",
       "        vertical-align: top;\n",
       "    }\n",
       "\n",
       "    .dataframe thead th {\n",
       "        text-align: right;\n",
       "    }\n",
       "</style>\n",
       "<table border=\"1\" class=\"dataframe\">\n",
       "  <thead>\n",
       "    <tr style=\"text-align: right;\">\n",
       "      <th></th>\n",
       "      <th>NaN</th>\n",
       "      <th>10.0</th>\n",
       "      <th>9.0</th>\n",
       "      <th>8.0</th>\n",
       "      <th>7.0</th>\n",
       "      <th>5.0</th>\n",
       "      <th>6.0</th>\n",
       "      <th>0.0</th>\n",
       "      <th>3.0</th>\n",
       "      <th>4.0</th>\n",
       "      <th>1.0</th>\n",
       "      <th>2.0</th>\n",
       "    </tr>\n",
       "  </thead>\n",
       "  <tbody>\n",
       "    <tr>\n",
       "      <th>checkin</th>\n",
       "      <td>1148</td>\n",
       "      <td>1130</td>\n",
       "      <td>276</td>\n",
       "      <td>144</td>\n",
       "      <td>48</td>\n",
       "      <td>33</td>\n",
       "      <td>32</td>\n",
       "      <td>26</td>\n",
       "      <td>14</td>\n",
       "      <td>11</td>\n",
       "      <td>7</td>\n",
       "      <td>1</td>\n",
       "    </tr>\n",
       "  </tbody>\n",
       "</table>\n",
       "</div>"
      ],
      "text/plain": [
       "         NaN   10.0  9.0   8.0   7.0   5.0   6.0   0.0   3.0   4.0   1.0   \\\n",
       "checkin  1148  1130   276   144    48    33    32    26    14    11     7   \n",
       "\n",
       "         2.0   \n",
       "checkin     1  "
      ]
     },
     "execution_count": 33,
     "metadata": {},
     "output_type": "execute_result"
    }
   ],
   "source": [
    "# Unificando as notas de Checkin Web e Mobile\n",
    "df_nps['checkin'] = np.where(df_nps['Nota_CheckinMobile'].isnull(), df_nps['Nota_CheckinWeb'], df_nps['Nota_CheckinMobile'])\n",
    "\n",
    "# Aplicando a regra da menornota.\n",
    "for index, row in df_nps.iterrows():\n",
    "    if (pd.isnull(row['Nota_CheckinWeb'])) & (pd.isnull(row['Nota_CheckinMobile'])):\n",
    "        valor = np.min([row['Nota_CheckinWeb'], row['Nota_CheckinMobile']])\n",
    "        df_nps.at[index, 'checkin'] = valor\n",
    "\n",
    "fig = sns.histplot(df_nps['checkin'])\n",
    "fig.set(title='Gráfico 7: histograma nas notas de Checkin')\n",
    "plt.show()\n",
    "\n",
    "df_nps['checkin'].value_counts(dropna=False).to_frame().T"
   ]
  },
  {
   "cell_type": "code",
   "execution_count": 34,
   "metadata": {},
   "outputs": [
    {
     "name": "stdout",
     "output_type": "stream",
     "text": [
      "Quem respondeu nota, mas não as outras perguntas\n"
     ]
    },
    {
     "data": {
      "text/html": [
       "<div>\n",
       "<style scoped>\n",
       "    .dataframe tbody tr th:only-of-type {\n",
       "        vertical-align: middle;\n",
       "    }\n",
       "\n",
       "    .dataframe tbody tr th {\n",
       "        vertical-align: top;\n",
       "    }\n",
       "\n",
       "    .dataframe thead th {\n",
       "        text-align: right;\n",
       "    }\n",
       "</style>\n",
       "<table border=\"1\" class=\"dataframe\">\n",
       "  <thead>\n",
       "    <tr style=\"text-align: right;\">\n",
       "      <th></th>\n",
       "      <th>Nota_CheckinWeb</th>\n",
       "      <th>O processo de check in web funcionou corretamente?</th>\n",
       "      <th>O processo de check in web foi simples?</th>\n",
       "    </tr>\n",
       "  </thead>\n",
       "  <tbody>\n",
       "    <tr>\n",
       "      <th>105</th>\n",
       "      <td>9.0</td>\n",
       "      <td>NaN</td>\n",
       "      <td>NaN</td>\n",
       "    </tr>\n",
       "    <tr>\n",
       "      <th>981</th>\n",
       "      <td>10.0</td>\n",
       "      <td>NaN</td>\n",
       "      <td>NaN</td>\n",
       "    </tr>\n",
       "    <tr>\n",
       "      <th>1263</th>\n",
       "      <td>9.0</td>\n",
       "      <td>NaN</td>\n",
       "      <td>NaN</td>\n",
       "    </tr>\n",
       "    <tr>\n",
       "      <th>2469</th>\n",
       "      <td>10.0</td>\n",
       "      <td>NaN</td>\n",
       "      <td>NaN</td>\n",
       "    </tr>\n",
       "  </tbody>\n",
       "</table>\n",
       "</div>"
      ],
      "text/plain": [
       "      Nota_CheckinWeb O processo de check in web funcionou corretamente?  \\\n",
       "105               9.0                                                NaN   \n",
       "981              10.0                                                NaN   \n",
       "1263              9.0                                                NaN   \n",
       "2469             10.0                                                NaN   \n",
       "\n",
       "     O processo de check in web foi simples?  \n",
       "105                                      NaN  \n",
       "981                                      NaN  \n",
       "1263                                     NaN  \n",
       "2469                                     NaN  "
      ]
     },
     "metadata": {},
     "output_type": "display_data"
    },
    {
     "name": "stdout",
     "output_type": "stream",
     "text": [
      "Quem não respondeu nota, mas sim as outras perguntas\n"
     ]
    },
    {
     "data": {
      "text/html": [
       "<div>\n",
       "<style scoped>\n",
       "    .dataframe tbody tr th:only-of-type {\n",
       "        vertical-align: middle;\n",
       "    }\n",
       "\n",
       "    .dataframe tbody tr th {\n",
       "        vertical-align: top;\n",
       "    }\n",
       "\n",
       "    .dataframe thead th {\n",
       "        text-align: right;\n",
       "    }\n",
       "</style>\n",
       "<table border=\"1\" class=\"dataframe\">\n",
       "  <thead>\n",
       "    <tr style=\"text-align: right;\">\n",
       "      <th></th>\n",
       "      <th>Nota_CheckinWeb</th>\n",
       "      <th>O processo de check in web funcionou corretamente?</th>\n",
       "      <th>O processo de check in web foi simples?</th>\n",
       "    </tr>\n",
       "  </thead>\n",
       "  <tbody>\n",
       "  </tbody>\n",
       "</table>\n",
       "</div>"
      ],
      "text/plain": [
       "Empty DataFrame\n",
       "Columns: [Nota_CheckinWeb, O processo de check in web funcionou corretamente?, O processo de check in web foi simples?]\n",
       "Index: []"
      ]
     },
     "metadata": {},
     "output_type": "display_data"
    }
   ],
   "source": [
    "# Quem deu nota do Checkn Web também respondeu sobre simplicidade e funcionamento?\n",
    "print('Quem respondeu nota, mas não as outras perguntas')\n",
    "display(df_nps.loc[\n",
    "    (df_nps['Nota_CheckinWeb'].notnull()) &\\\n",
    "    (df_nps['O processo de check in web funcionou corretamente?'].isnull()) &\\\n",
    "    (df_nps['O processo de check in web foi simples?'].isnull())\n",
    "][['Nota_CheckinWeb', 'O processo de check in web funcionou corretamente?', 'O processo de check in web foi simples?']])\n",
    "\n",
    "print('Quem não respondeu nota, mas sim as outras perguntas')\n",
    "display(df_nps.loc[\n",
    "    (df_nps['Nota_CheckinWeb'].isnull()) &\\\n",
    "    (df_nps['O processo de check in web funcionou corretamente?'].notnull()) &\\\n",
    "    (df_nps['O processo de check in web foi simples?'].notnull())\n",
    "][['Nota_CheckinWeb', 'O processo de check in web funcionou corretamente?', 'O processo de check in web foi simples?']]\n",
    ")"
   ]
  },
  {
   "cell_type": "code",
   "execution_count": 35,
   "metadata": {},
   "outputs": [
    {
     "name": "stdout",
     "output_type": "stream",
     "text": [
      "Quem respondeu nota, mas não as outras perguntas\n"
     ]
    },
    {
     "data": {
      "text/html": [
       "<div>\n",
       "<style scoped>\n",
       "    .dataframe tbody tr th:only-of-type {\n",
       "        vertical-align: middle;\n",
       "    }\n",
       "\n",
       "    .dataframe tbody tr th {\n",
       "        vertical-align: top;\n",
       "    }\n",
       "\n",
       "    .dataframe thead th {\n",
       "        text-align: right;\n",
       "    }\n",
       "</style>\n",
       "<table border=\"1\" class=\"dataframe\">\n",
       "  <thead>\n",
       "    <tr style=\"text-align: right;\">\n",
       "      <th></th>\n",
       "      <th>Nota_CheckinMobile</th>\n",
       "      <th>O processo de check in pelo celular funcionou corretamente?</th>\n",
       "      <th>O processo de check in pelo celular foi simples?</th>\n",
       "    </tr>\n",
       "  </thead>\n",
       "  <tbody>\n",
       "    <tr>\n",
       "      <th>842</th>\n",
       "      <td>9.0</td>\n",
       "      <td>NaN</td>\n",
       "      <td>NaN</td>\n",
       "    </tr>\n",
       "    <tr>\n",
       "      <th>843</th>\n",
       "      <td>10.0</td>\n",
       "      <td>NaN</td>\n",
       "      <td>NaN</td>\n",
       "    </tr>\n",
       "    <tr>\n",
       "      <th>889</th>\n",
       "      <td>10.0</td>\n",
       "      <td>NaN</td>\n",
       "      <td>NaN</td>\n",
       "    </tr>\n",
       "    <tr>\n",
       "      <th>1315</th>\n",
       "      <td>0.0</td>\n",
       "      <td>NaN</td>\n",
       "      <td>NaN</td>\n",
       "    </tr>\n",
       "    <tr>\n",
       "      <th>2496</th>\n",
       "      <td>9.0</td>\n",
       "      <td>NaN</td>\n",
       "      <td>NaN</td>\n",
       "    </tr>\n",
       "    <tr>\n",
       "      <th>2810</th>\n",
       "      <td>6.0</td>\n",
       "      <td>NaN</td>\n",
       "      <td>NaN</td>\n",
       "    </tr>\n",
       "  </tbody>\n",
       "</table>\n",
       "</div>"
      ],
      "text/plain": [
       "      Nota_CheckinMobile  \\\n",
       "842                  9.0   \n",
       "843                 10.0   \n",
       "889                 10.0   \n",
       "1315                 0.0   \n",
       "2496                 9.0   \n",
       "2810                 6.0   \n",
       "\n",
       "     O processo de check in pelo celular funcionou corretamente?  \\\n",
       "842                                                 NaN            \n",
       "843                                                 NaN            \n",
       "889                                                 NaN            \n",
       "1315                                                NaN            \n",
       "2496                                                NaN            \n",
       "2810                                                NaN            \n",
       "\n",
       "     O processo de check in pelo celular foi simples?  \n",
       "842                                               NaN  \n",
       "843                                               NaN  \n",
       "889                                               NaN  \n",
       "1315                                              NaN  \n",
       "2496                                              NaN  \n",
       "2810                                              NaN  "
      ]
     },
     "metadata": {},
     "output_type": "display_data"
    },
    {
     "name": "stdout",
     "output_type": "stream",
     "text": [
      "Quem não respondeu nota, mas sim as outras perguntas\n"
     ]
    },
    {
     "data": {
      "text/html": [
       "<div>\n",
       "<style scoped>\n",
       "    .dataframe tbody tr th:only-of-type {\n",
       "        vertical-align: middle;\n",
       "    }\n",
       "\n",
       "    .dataframe tbody tr th {\n",
       "        vertical-align: top;\n",
       "    }\n",
       "\n",
       "    .dataframe thead th {\n",
       "        text-align: right;\n",
       "    }\n",
       "</style>\n",
       "<table border=\"1\" class=\"dataframe\">\n",
       "  <thead>\n",
       "    <tr style=\"text-align: right;\">\n",
       "      <th></th>\n",
       "      <th>Nota_CheckinMobile</th>\n",
       "      <th>O processo de check in pelo celular funcionou corretamente?</th>\n",
       "      <th>O processo de check in pelo celular foi simples?</th>\n",
       "    </tr>\n",
       "  </thead>\n",
       "  <tbody>\n",
       "  </tbody>\n",
       "</table>\n",
       "</div>"
      ],
      "text/plain": [
       "Empty DataFrame\n",
       "Columns: [Nota_CheckinMobile, O processo de check in pelo celular funcionou corretamente?, O processo de check in pelo celular foi simples?]\n",
       "Index: []"
      ]
     },
     "metadata": {},
     "output_type": "display_data"
    }
   ],
   "source": [
    "# Quem deu nota do Checkn Mobile também respondeu sobre simplicidade e funcionamento?\n",
    "print('Quem respondeu nota, mas não as outras perguntas')\n",
    "display(df_nps.loc[\n",
    "    (df_nps['Nota_CheckinMobile'].notnull()) &\\\n",
    "    (df_nps['O processo de check in pelo celular funcionou corretamente?'].isnull()) &\\\n",
    "    (df_nps['O processo de check in pelo celular foi simples?'].isnull())\n",
    "][['Nota_CheckinMobile', 'O processo de check in pelo celular funcionou corretamente?', 'O processo de check in pelo celular foi simples?']])\n",
    "\n",
    "print('Quem não respondeu nota, mas sim as outras perguntas')\n",
    "display(df_nps.loc[\n",
    "    (df_nps['Nota_CheckinMobile'].isnull()) &\\\n",
    "    (df_nps['O processo de check in pelo celular funcionou corretamente?'].notnull()) &\\\n",
    "    (df_nps['O processo de check in pelo celular foi simples?'].notnull())\n",
    "][['Nota_CheckinMobile', 'O processo de check in pelo celular funcionou corretamente?', 'O processo de check in pelo celular foi simples?']]\n",
    ")"
   ]
  },
  {
   "attachments": {},
   "cell_type": "markdown",
   "metadata": {},
   "source": [
    "##### Aprendizado\n",
    "\n",
    "Temos praticamente 55% de respondentes sobre o Checkin, sendo que praticamente todos também responderam as perguntas sobre o funcionamento e a simplicidade de uso do Checkin. "
   ]
  },
  {
   "attachments": {},
   "cell_type": "markdown",
   "metadata": {},
   "source": [
    "#### Correlação de NPS"
   ]
  },
  {
   "cell_type": "code",
   "execution_count": 36,
   "metadata": {},
   "outputs": [
    {
     "data": {
      "text/html": [
       "<div>\n",
       "<style scoped>\n",
       "    .dataframe tbody tr th:only-of-type {\n",
       "        vertical-align: middle;\n",
       "    }\n",
       "\n",
       "    .dataframe tbody tr th {\n",
       "        vertical-align: top;\n",
       "    }\n",
       "\n",
       "    .dataframe thead th {\n",
       "        text-align: right;\n",
       "    }\n",
       "</style>\n",
       "<table border=\"1\" class=\"dataframe\">\n",
       "  <thead>\n",
       "    <tr style=\"text-align: right;\">\n",
       "      <th></th>\n",
       "      <th>Nota_Principal</th>\n",
       "      <th>checkin</th>\n",
       "      <th>Nota_Comissarios</th>\n",
       "      <th>Nota_Entretenimento</th>\n",
       "      <th>Nota_Bagagem</th>\n",
       "    </tr>\n",
       "  </thead>\n",
       "  <tbody>\n",
       "    <tr>\n",
       "      <th>count</th>\n",
       "      <td>2870.00</td>\n",
       "      <td>1722.00</td>\n",
       "      <td>2738.00</td>\n",
       "      <td>1377.00</td>\n",
       "      <td>1260.00</td>\n",
       "    </tr>\n",
       "    <tr>\n",
       "      <th>mean</th>\n",
       "      <td>8.64</td>\n",
       "      <td>9.13</td>\n",
       "      <td>9.32</td>\n",
       "      <td>8.76</td>\n",
       "      <td>8.17</td>\n",
       "    </tr>\n",
       "    <tr>\n",
       "      <th>std</th>\n",
       "      <td>2.36</td>\n",
       "      <td>1.81</td>\n",
       "      <td>1.43</td>\n",
       "      <td>1.92</td>\n",
       "      <td>2.51</td>\n",
       "    </tr>\n",
       "    <tr>\n",
       "      <th>min</th>\n",
       "      <td>0.00</td>\n",
       "      <td>0.00</td>\n",
       "      <td>0.00</td>\n",
       "      <td>0.00</td>\n",
       "      <td>0.00</td>\n",
       "    </tr>\n",
       "    <tr>\n",
       "      <th>25%</th>\n",
       "      <td>8.00</td>\n",
       "      <td>9.00</td>\n",
       "      <td>9.00</td>\n",
       "      <td>8.00</td>\n",
       "      <td>8.00</td>\n",
       "    </tr>\n",
       "    <tr>\n",
       "      <th>50%</th>\n",
       "      <td>10.00</td>\n",
       "      <td>10.00</td>\n",
       "      <td>10.00</td>\n",
       "      <td>10.00</td>\n",
       "      <td>9.00</td>\n",
       "    </tr>\n",
       "    <tr>\n",
       "      <th>75%</th>\n",
       "      <td>10.00</td>\n",
       "      <td>10.00</td>\n",
       "      <td>10.00</td>\n",
       "      <td>10.00</td>\n",
       "      <td>10.00</td>\n",
       "    </tr>\n",
       "    <tr>\n",
       "      <th>max</th>\n",
       "      <td>10.00</td>\n",
       "      <td>10.00</td>\n",
       "      <td>10.00</td>\n",
       "      <td>10.00</td>\n",
       "      <td>10.00</td>\n",
       "    </tr>\n",
       "  </tbody>\n",
       "</table>\n",
       "</div>"
      ],
      "text/plain": [
       "       Nota_Principal  checkin  Nota_Comissarios  Nota_Entretenimento  \\\n",
       "count         2870.00  1722.00           2738.00              1377.00   \n",
       "mean             8.64     9.13              9.32                 8.76   \n",
       "std              2.36     1.81              1.43                 1.92   \n",
       "min              0.00     0.00              0.00                 0.00   \n",
       "25%              8.00     9.00              9.00                 8.00   \n",
       "50%             10.00    10.00             10.00                10.00   \n",
       "75%             10.00    10.00             10.00                10.00   \n",
       "max             10.00    10.00             10.00                10.00   \n",
       "\n",
       "       Nota_Bagagem  \n",
       "count       1260.00  \n",
       "mean           8.17  \n",
       "std            2.51  \n",
       "min            0.00  \n",
       "25%            8.00  \n",
       "50%            9.00  \n",
       "75%           10.00  \n",
       "max           10.00  "
      ]
     },
     "execution_count": 36,
     "metadata": {},
     "output_type": "execute_result"
    }
   ],
   "source": [
    "# Como estão as notas de forma geral?\n",
    "df_nps[['Nota_Principal', 'checkin', 'Nota_Comissarios', 'Nota_Entretenimento', 'Nota_Bagagem']].describe().round(2)"
   ]
  },
  {
   "cell_type": "code",
   "execution_count": 37,
   "metadata": {},
   "outputs": [
    {
     "ename": "NameError",
     "evalue": "name 'calcular_nps' is not defined",
     "output_type": "error",
     "traceback": [
      "\u001b[1;31m---------------------------------------------------------------------------\u001b[0m",
      "\u001b[1;31mNameError\u001b[0m                                 Traceback (most recent call last)",
      "\u001b[1;32mc:\\Users\\Kenji\\GitHub\\azul\\notebook.ipynb Cell 58\u001b[0m in \u001b[0;36m<cell line: 2>\u001b[1;34m()\u001b[0m\n\u001b[0;32m      <a href='vscode-notebook-cell:/c%3A/Users/Kenji/GitHub/azul/notebook.ipynb#Y111sZmlsZQ%3D%3D?line=0'>1</a>\u001b[0m \u001b[39m# Unificar os NPS de cada categoria\u001b[39;00m\n\u001b[1;32m----> <a href='vscode-notebook-cell:/c%3A/Users/Kenji/GitHub/azul/notebook.ipynb#Y111sZmlsZQ%3D%3D?line=1'>2</a>\u001b[0m df_checkin \u001b[39m=\u001b[39m calcular_nps(df_nps, \u001b[39m'\u001b[39m\u001b[39mcheckin\u001b[39m\u001b[39m'\u001b[39m)\n\u001b[0;32m      <a href='vscode-notebook-cell:/c%3A/Users/Kenji/GitHub/azul/notebook.ipynb#Y111sZmlsZQ%3D%3D?line=2'>3</a>\u001b[0m df_comissar \u001b[39m=\u001b[39m calcular_nps(df_nps, \u001b[39m'\u001b[39m\u001b[39mNota_Comissarios\u001b[39m\u001b[39m'\u001b[39m)\n\u001b[0;32m      <a href='vscode-notebook-cell:/c%3A/Users/Kenji/GitHub/azul/notebook.ipynb#Y111sZmlsZQ%3D%3D?line=3'>4</a>\u001b[0m df_entrete \u001b[39m=\u001b[39m calcular_nps(df_nps, \u001b[39m'\u001b[39m\u001b[39mNota_Entretenimento\u001b[39m\u001b[39m'\u001b[39m)\n",
      "\u001b[1;31mNameError\u001b[0m: name 'calcular_nps' is not defined"
     ]
    }
   ],
   "source": [
    "# Unificar os NPS de cada categoria\n",
    "df_checkin = calcular_nps(df_nps, 'checkin')\n",
    "df_comissar = calcular_nps(df_nps, 'Nota_Comissarios')\n",
    "df_entrete = calcular_nps(df_nps, 'Nota_Entretenimento')\n",
    "df_bag = calcular_nps(df_nps, 'Nota_Bagagem')\n",
    "\n",
    "df_nps_merge = df_nps_mes\n",
    "df_nps_merge = pd.merge(df_nps_merge[['mes', 'nps']], df_checkin[['mes', 'nps']].rename(columns={'nps':'checkin'}), on='mes', how='left')\n",
    "df_nps_merge = pd.merge(df_nps_merge[['mes', 'nps', 'checkin']], df_comissar[['mes', 'nps']].rename(columns={'nps':'comissario'}), on='mes', how='left')\n",
    "df_nps_merge = pd.merge(df_nps_merge[['mes', 'nps', 'checkin', 'comissario']], df_entrete[['mes', 'nps']].rename(columns={'nps':'entretenimento'}), on='mes', how='left')\n",
    "df_nps_merge = pd.merge(df_nps_merge[['mes', 'nps', 'checkin', 'comissario', 'entretenimento']], df_bag[['mes', 'nps']].rename(columns={'nps':'bagagem'}), on='mes', how='left')\n",
    "\n",
    "df_nps_merge"
   ]
  },
  {
   "cell_type": "code",
   "execution_count": null,
   "metadata": {},
   "outputs": [],
   "source": [
    "df_nps_merge['periodo'] = np.where(df_nps_merge['mes'] >= '2022-04-01', 'q2', 'q1')"
   ]
  },
  {
   "cell_type": "code",
   "execution_count": null,
   "metadata": {},
   "outputs": [
    {
     "data": {
      "image/png": "[encoded data removed]",
      "text/plain": [
       "<Figure size 432x288 with 2 Axes>"
      ]
     },
     "metadata": {
      "needs_background": "light"
     },
     "output_type": "display_data"
    },
    {
     "data": {
      "image/png": "[encoded data removed]",
      "text/plain": [
       "<Figure size 432x288 with 2 Axes>"
      ]
     },
     "metadata": {
      "needs_background": "light"
     },
     "output_type": "display_data"
    }
   ],
   "source": [
    "# Correlação linear das notas entre períodos\n",
    "fig = sns.heatmap(df_nps_merge.loc[df_nps_merge['periodo'] == 'q1'].corr(method='pearson'), vmin=-1, vmax=1, cmap='RdYlGn', annot=True)\n",
    "fig.set(title='Gráfico 8: mapa de calor para correlações lineares (Pearson)')\n",
    "plt.show()\n",
    "\n",
    "fig = sns.heatmap(df_nps_merge.loc[df_nps_merge['periodo'] == 'q2'].corr(method='pearson'), vmin=-1, vmax=1, cmap='RdYlGn', annot=True)\n",
    "fig.set(title='Gráfico 9: mapa de calor para correlações lineares (Pearson)')\n",
    "plt.show()"
   ]
  },
  {
   "cell_type": "code",
   "execution_count": null,
   "metadata": {},
   "outputs": [
    {
     "data": {
      "image/png": "[encoded data removed]",
      "text/plain": [
       "<Figure size 432x288 with 2 Axes>"
      ]
     },
     "metadata": {
      "needs_background": "light"
     },
     "output_type": "display_data"
    },
    {
     "data": {
      "image/png": "[encoded data removed]",
      "text/plain": [
       "<Figure size 432x288 with 2 Axes>"
      ]
     },
     "metadata": {
      "needs_background": "light"
     },
     "output_type": "display_data"
    }
   ],
   "source": [
    "# Correlação não linear das notas entre períodos\n",
    "fig = sns.heatmap(df_nps_merge.loc[df_nps_merge['periodo'] == 'q1'].corr(method='spearman'), vmin=-1, vmax=1, cmap='RdYlGn', annot=True)\n",
    "fig.set(title='Gráfico 10: mapa de calor para correlações não lineares (Spearman)')\n",
    "plt.show()\n",
    "\n",
    "fig = sns.heatmap(df_nps_merge.loc[df_nps_merge['periodo'] == 'q2'].corr(method='spearman'), vmin=-1, vmax=1, cmap='RdYlGn', annot=True)\n",
    "fig.set(title='Gráfico 11: mapa de calor para correlações não lineares (Spearman)')\n",
    "plt.show()"
   ]
  },
  {
   "cell_type": "code",
   "execution_count": null,
   "metadata": {},
   "outputs": [
    {
     "data": {
      "image/png": "[encoded data removed]",
      "text/plain": [
       "<Figure size 432x288 with 1 Axes>"
      ]
     },
     "metadata": {
      "needs_background": "light"
     },
     "output_type": "display_data"
    }
   ],
   "source": [
    "# Plot do NPS de todas as categorias.\n",
    "fig = sns.lineplot(data=pd.melt(df_nps_merge, id_vars='mes', value_vars=['nps', 'checkin', 'comissario', 'entretenimento', 'bagagem']), x='mes', y='value', hue='perfil_nota')\n",
    "fig.set(title='Gráfico 8: evolução de NPS por categoria', ylim=(0,1))\n",
    "plt.show()"
   ]
  },
  {
   "attachments": {},
   "cell_type": "markdown",
   "metadata": {},
   "source": [
    "##### Aprendizado\n",
    "\n",
    "A correlação de NPS vs comissário e NPS vs entretenimento mudou de Q1 a Q2. Esse pode ser um indício de onde começar a explorar as mudanças que ocorridas."
   ]
  },
  {
   "attachments": {},
   "cell_type": "markdown",
   "metadata": {},
   "source": [
    "#### NPS Comissário"
   ]
  },
  {
   "cell_type": "code",
   "execution_count": null,
   "metadata": {},
   "outputs": [
    {
     "name": "stdout",
     "output_type": "stream",
     "text": [
      "Temos 2738 de 2870 notas de comissários.\n"
     ]
    }
   ],
   "source": [
    "# Quantas notas temos?\n",
    "print(f\"Temos {df_nps.loc[df_nps['Nota_Comissarios'].notnull()].shape[0]} de {df_nps.shape[0]} notas de comissários.\")"
   ]
  },
  {
   "cell_type": "code",
   "execution_count": null,
   "metadata": {},
   "outputs": [
    {
     "data": {
      "text/html": [
       "<div>\n",
       "<style scoped>\n",
       "    .dataframe tbody tr th:only-of-type {\n",
       "        vertical-align: middle;\n",
       "    }\n",
       "\n",
       "    .dataframe tbody tr th {\n",
       "        vertical-align: top;\n",
       "    }\n",
       "\n",
       "    .dataframe thead th {\n",
       "        text-align: right;\n",
       "    }\n",
       "</style>\n",
       "<table border=\"1\" class=\"dataframe\">\n",
       "  <thead>\n",
       "    <tr style=\"text-align: right;\">\n",
       "      <th></th>\n",
       "      <th>mes</th>\n",
       "      <th>Id</th>\n",
       "      <th>Nota_Comissarios</th>\n",
       "      <th>tx_resposta</th>\n",
       "    </tr>\n",
       "  </thead>\n",
       "  <tbody>\n",
       "    <tr>\n",
       "      <th>0</th>\n",
       "      <td>2022-01-01</td>\n",
       "      <td>541</td>\n",
       "      <td>541</td>\n",
       "      <td>100.0</td>\n",
       "    </tr>\n",
       "    <tr>\n",
       "      <th>1</th>\n",
       "      <td>2022-02-01</td>\n",
       "      <td>405</td>\n",
       "      <td>382</td>\n",
       "      <td>94.3</td>\n",
       "    </tr>\n",
       "    <tr>\n",
       "      <th>2</th>\n",
       "      <td>2022-03-01</td>\n",
       "      <td>530</td>\n",
       "      <td>497</td>\n",
       "      <td>93.8</td>\n",
       "    </tr>\n",
       "    <tr>\n",
       "      <th>3</th>\n",
       "      <td>2022-04-01</td>\n",
       "      <td>461</td>\n",
       "      <td>440</td>\n",
       "      <td>95.4</td>\n",
       "    </tr>\n",
       "    <tr>\n",
       "      <th>4</th>\n",
       "      <td>2022-05-01</td>\n",
       "      <td>522</td>\n",
       "      <td>491</td>\n",
       "      <td>94.1</td>\n",
       "    </tr>\n",
       "    <tr>\n",
       "      <th>5</th>\n",
       "      <td>2022-06-01</td>\n",
       "      <td>411</td>\n",
       "      <td>387</td>\n",
       "      <td>94.2</td>\n",
       "    </tr>\n",
       "  </tbody>\n",
       "</table>\n",
       "</div>"
      ],
      "text/plain": [
       "          mes   Id  Nota_Comissarios  tx_resposta\n",
       "0  2022-01-01  541               541        100.0\n",
       "1  2022-02-01  405               382         94.3\n",
       "2  2022-03-01  530               497         93.8\n",
       "3  2022-04-01  461               440         95.4\n",
       "4  2022-05-01  522               491         94.1\n",
       "5  2022-06-01  411               387         94.2"
      ]
     },
     "metadata": {},
     "output_type": "display_data"
    },
    {
     "name": "stdout",
     "output_type": "stream",
     "text": [
      "\n",
      "Em Q1 tivemos 1420 de 1476 respostas (96.2%).\n",
      "Em Q2 tivemos 1318 de 1394 respostas (94.5%).\n",
      "\n"
     ]
    }
   ],
   "source": [
    "# Qual a taxa de respostas por mês?\n",
    "df_tx = df_nps.groupby('mes', as_index=False).agg({'Id':'count', 'Nota_Comissarios':'count'})\n",
    "df_tx['tx_resposta'] = round(df_tx['Nota_Comissarios'] / df_tx['Id'] * 100, 1)\n",
    "\n",
    "display(df_tx)\n",
    "\n",
    "total_q1 = df_tx.loc[df_tx['mes'] <='2022-03-01', 'Id'].sum()\n",
    "nota_q1 = df_tx.loc[df_tx['mes'] <='2022-03-01', 'Nota_Comissarios'].sum()\n",
    "total_q2 = df_tx.loc[df_tx['mes'] > '2022-03-01', 'Id'].sum()\n",
    "nota_q2 = df_tx.loc[df_tx['mes'] > '2022-03-01', 'Nota_Comissarios'].sum()\n",
    "\n",
    "print(f\"\"\"\n",
    "Em Q1 tivemos {nota_q1} de {total_q1} respostas ({round(nota_q1/total_q1 * 100, 1)}%).\n",
    "Em Q2 tivemos {nota_q2} de {total_q2} respostas ({round(nota_q2/total_q2 * 100, 1)}%).\n",
    "\"\"\")"
   ]
  },
  {
   "cell_type": "code",
   "execution_count": null,
   "metadata": {},
   "outputs": [
    {
     "data": {
      "image/png": "[encoded data removed]",
      "text/plain": [
       "<Figure size 720x360 with 2 Axes>"
      ]
     },
     "metadata": {
      "needs_background": "light"
     },
     "output_type": "display_data"
    },
    {
     "data": {
      "image/png": "[encoded data removed]",
      "text/plain": [
       "<Figure size 720x360 with 2 Axes>"
      ]
     },
     "metadata": {
      "needs_background": "light"
     },
     "output_type": "display_data"
    }
   ],
   "source": [
    "# O NPS Comissário apresentou mudou a maneira com que se relaciona com outras variáveis?\n",
    "df_q1 = df_nps.loc[df_nps['Data_Voo'] < '2022-04-01']\n",
    "df_q2 = df_nps.loc[df_nps['Data_Voo'] >= '2022-04-01']\n",
    "\n",
    "plt.figure(figsize=(10,5))\n",
    "fig = sns.heatmap(df_q1.corr(method='pearson'), vmin=-1, vmax=1, cmap='RdYlGn', annot=True)\n",
    "fig.set(title='Correlação não linear entre nota de comissários e todo o resto em Q1')\n",
    "plt.show()\n",
    "\n",
    "plt.figure(figsize=(10,5))\n",
    "fig = sns.heatmap(df_q2.corr(method='pearson'), vmin=-1, vmax=1, cmap='RdYlGn', annot=True)\n",
    "fig.set(title='Correlação não linear entre nota de comissários e todo o resto em Q2')\n",
    "plt.show()"
   ]
  },
  {
   "cell_type": "code",
   "execution_count": null,
   "metadata": {},
   "outputs": [
    {
     "data": {
      "text/html": [
       "<div>\n",
       "<style scoped>\n",
       "    .dataframe tbody tr th:only-of-type {\n",
       "        vertical-align: middle;\n",
       "    }\n",
       "\n",
       "    .dataframe tbody tr th {\n",
       "        vertical-align: top;\n",
       "    }\n",
       "\n",
       "    .dataframe thead th {\n",
       "        text-align: right;\n",
       "    }\n",
       "</style>\n",
       "<table border=\"1\" class=\"dataframe\">\n",
       "  <thead>\n",
       "    <tr style=\"text-align: right;\">\n",
       "      <th>perfil_Nota_Comissarios</th>\n",
       "      <th>Equipamento_Tipo</th>\n",
       "      <th>detrator</th>\n",
       "      <th>neutro</th>\n",
       "      <th>promotor</th>\n",
       "      <th>sem_avaliacao</th>\n",
       "      <th>total_q1</th>\n",
       "      <th>nps_q1</th>\n",
       "      <th>total_q2</th>\n",
       "      <th>nps_q2</th>\n",
       "    </tr>\n",
       "  </thead>\n",
       "  <tbody>\n",
       "    <tr>\n",
       "      <th>0</th>\n",
       "      <td>A320</td>\n",
       "      <td>1</td>\n",
       "      <td>30</td>\n",
       "      <td>135</td>\n",
       "      <td>10</td>\n",
       "      <td>176</td>\n",
       "      <td>0.76</td>\n",
       "      <td>228.0</td>\n",
       "      <td>0.69</td>\n",
       "    </tr>\n",
       "    <tr>\n",
       "      <th>1</th>\n",
       "      <td>A330</td>\n",
       "      <td>0</td>\n",
       "      <td>1</td>\n",
       "      <td>9</td>\n",
       "      <td>1</td>\n",
       "      <td>11</td>\n",
       "      <td>0.82</td>\n",
       "      <td>0.0</td>\n",
       "      <td>0.00</td>\n",
       "    </tr>\n",
       "    <tr>\n",
       "      <th>2</th>\n",
       "      <td>ATR</td>\n",
       "      <td>5</td>\n",
       "      <td>12</td>\n",
       "      <td>110</td>\n",
       "      <td>7</td>\n",
       "      <td>134</td>\n",
       "      <td>0.78</td>\n",
       "      <td>116.0</td>\n",
       "      <td>0.73</td>\n",
       "    </tr>\n",
       "    <tr>\n",
       "      <th>3</th>\n",
       "      <td>ATR-A320</td>\n",
       "      <td>7</td>\n",
       "      <td>7</td>\n",
       "      <td>34</td>\n",
       "      <td>2</td>\n",
       "      <td>50</td>\n",
       "      <td>0.54</td>\n",
       "      <td>44.0</td>\n",
       "      <td>0.73</td>\n",
       "    </tr>\n",
       "    <tr>\n",
       "      <th>4</th>\n",
       "      <td>ATR-A330</td>\n",
       "      <td>0</td>\n",
       "      <td>0</td>\n",
       "      <td>3</td>\n",
       "      <td>0</td>\n",
       "      <td>3</td>\n",
       "      <td>1.00</td>\n",
       "      <td>0.0</td>\n",
       "      <td>0.00</td>\n",
       "    </tr>\n",
       "    <tr>\n",
       "      <th>5</th>\n",
       "      <td>Embraer</td>\n",
       "      <td>24</td>\n",
       "      <td>94</td>\n",
       "      <td>704</td>\n",
       "      <td>33</td>\n",
       "      <td>855</td>\n",
       "      <td>0.80</td>\n",
       "      <td>780.0</td>\n",
       "      <td>0.78</td>\n",
       "    </tr>\n",
       "    <tr>\n",
       "      <th>6</th>\n",
       "      <td>Embraer-A320</td>\n",
       "      <td>8</td>\n",
       "      <td>10</td>\n",
       "      <td>90</td>\n",
       "      <td>2</td>\n",
       "      <td>110</td>\n",
       "      <td>0.75</td>\n",
       "      <td>97.0</td>\n",
       "      <td>0.78</td>\n",
       "    </tr>\n",
       "    <tr>\n",
       "      <th>7</th>\n",
       "      <td>Embraer-A330</td>\n",
       "      <td>0</td>\n",
       "      <td>0</td>\n",
       "      <td>6</td>\n",
       "      <td>0</td>\n",
       "      <td>6</td>\n",
       "      <td>1.00</td>\n",
       "      <td>0.0</td>\n",
       "      <td>0.00</td>\n",
       "    </tr>\n",
       "    <tr>\n",
       "      <th>8</th>\n",
       "      <td>Embraer-ATR</td>\n",
       "      <td>2</td>\n",
       "      <td>14</td>\n",
       "      <td>108</td>\n",
       "      <td>1</td>\n",
       "      <td>125</td>\n",
       "      <td>0.85</td>\n",
       "      <td>117.0</td>\n",
       "      <td>0.73</td>\n",
       "    </tr>\n",
       "    <tr>\n",
       "      <th>9</th>\n",
       "      <td>MISTO</td>\n",
       "      <td>1</td>\n",
       "      <td>0</td>\n",
       "      <td>5</td>\n",
       "      <td>0</td>\n",
       "      <td>6</td>\n",
       "      <td>0.67</td>\n",
       "      <td>12.0</td>\n",
       "      <td>0.75</td>\n",
       "    </tr>\n",
       "  </tbody>\n",
       "</table>\n",
       "</div>"
      ],
      "text/plain": [
       "perfil_Nota_Comissarios Equipamento_Tipo  detrator  neutro  promotor  \\\n",
       "0                                   A320         1      30       135   \n",
       "1                                   A330         0       1         9   \n",
       "2                                    ATR         5      12       110   \n",
       "3                               ATR-A320         7       7        34   \n",
       "4                               ATR-A330         0       0         3   \n",
       "5                                Embraer        24      94       704   \n",
       "6                           Embraer-A320         8      10        90   \n",
       "7                           Embraer-A330         0       0         6   \n",
       "8                            Embraer-ATR         2      14       108   \n",
       "9                                  MISTO         1       0         5   \n",
       "\n",
       "perfil_Nota_Comissarios  sem_avaliacao  total_q1  nps_q1  total_q2  nps_q2  \n",
       "0                                   10       176    0.76     228.0    0.69  \n",
       "1                                    1        11    0.82       0.0    0.00  \n",
       "2                                    7       134    0.78     116.0    0.73  \n",
       "3                                    2        50    0.54      44.0    0.73  \n",
       "4                                    0         3    1.00       0.0    0.00  \n",
       "5                                   33       855    0.80     780.0    0.78  \n",
       "6                                    2       110    0.75      97.0    0.78  \n",
       "7                                    0         6    1.00       0.0    0.00  \n",
       "8                                    1       125    0.85     117.0    0.73  \n",
       "9                                    0         6    0.67      12.0    0.75  "
      ]
     },
     "execution_count": 141,
     "metadata": {},
     "output_type": "execute_result"
    }
   ],
   "source": [
    "# Existe alguma relação entre nota de comissários e variáveis categóricas?\n",
    "df_q1 = pd.pivot_table(data=df_nps_q1, values='Id', index='Equipamento_Tipo', columns='perfil_Nota_Comissarios', aggfunc='count', margins=True, margins_name='total', fill_value=0).iloc[:-1].reset_index()\n",
    "df_q1['nps'] = (df_q1['promotor'] - df_q1['detrator'])/df_q1['total']\n",
    "df_q1.rename(columns={'total':'total_q1', 'nps':'nps_q1'}, inplace=True)\n",
    "\n",
    "df_q2 = pd.pivot_table(data=df_nps_q2, values='Id', index='Equipamento_Tipo', columns='perfil_Nota_Comissarios', aggfunc='count', margins=True, margins_name='total', fill_value=0).iloc[:-1].reset_index()\n",
    "df_q2['nps'] = (df_q2['promotor'] - df_q2['detrator'])/df_q2['total']\n",
    "df_q2.rename(columns={'total':'total_q2', 'nps':'nps_q2'}, inplace=True)\n",
    "\n",
    "pd.merge(df_q1, df_q2[['Equipamento_Tipo', 'total_q2', 'nps_q2']], on='Equipamento_Tipo', how='left').fillna(0).round(2)"
   ]
  },
  {
   "attachments": {},
   "cell_type": "markdown",
   "metadata": {},
   "source": [
    "##### Aprendizado\n",
    "\n",
    "Ao comparar os períodos, a taxa de respostas de nota de comissários caiu de 96,2% para 94,5%. A diferença parece ser pequena, sendo improvável que essa seja um fator relevante para a mudança de comportamento do NPS Comissários.\n",
    "- a correlação não linear entre as variáveis numéricas não apresentou grandes diferentes entre os períodos."
   ]
  },
  {
   "attachments": {},
   "cell_type": "markdown",
   "metadata": {},
   "source": [
    "#### NPS Entretenimento"
   ]
  },
  {
   "cell_type": "code",
   "execution_count": null,
   "metadata": {},
   "outputs": [],
   "source": []
  },
  {
   "attachments": {},
   "cell_type": "markdown",
   "metadata": {},
   "source": [
    "## Análise de hipóteses\n",
    "\n",
    "- Atrasos diminuem a satisfação.\n",
    "- Atrasos pequenos em vôos longos são indiferentes ao NPS.\n",
    "- NPS em vôos no fim de semana/feriado são maiores. \n",
    "- Dado tudo o mais constante, quanto maior a duração do vôo menor o NPS.\n",
    "- Aeroportos com menos circulação de vôos tem menor NPS.\n",
    "- Vôos com muitas conexões têm menor NPS.\n",
    "- Vôos com baixa nota de comissários também apresentam mais atrasos.\n",
    "- Entretenimento tem pouca influência em NPS\n",
    "- Bagagem é raro, mas quando acontece, é o maior detrator de NPS.\n",
    "- Onde há mais problemas de Checkin também há maiores atrasos."
   ]
  },
  {
   "attachments": {},
   "cell_type": "markdown",
   "metadata": {},
   "source": [
    "### Conjunto: atrasos"
   ]
  },
  {
   "attachments": {},
   "cell_type": "markdown",
   "metadata": {},
   "source": [
    "##### H1. \"Atrasos estão associados a insatisfação.\"\n",
    "Hipótese: atrasos estão associados a NPS baixos."
   ]
  },
  {
   "cell_type": "code",
   "execution_count": null,
   "metadata": {},
   "outputs": [
    {
     "data": {
      "image/png": "[encoded data removed]",
      "text/plain": [
       "<Figure size 432x288 with 1 Axes>"
      ]
     },
     "metadata": {
      "needs_background": "light"
     },
     "output_type": "display_data"
    }
   ],
   "source": [
    "# Formulação mais básica da hipótese.\n",
    "amostra1 = df_nps.loc[df_nps['Minutos_Atraso'] == 0]\n",
    "amostra2 = df_nps.loc[df_nps['Minutos_Atraso'] > 0]\n",
    "\n",
    "df1 = calcular_nps(amostra1, 'Nota_Principal')\n",
    "df1['grupo'] = 'no horário'\n",
    "\n",
    "df2 = calcular_nps(amostra2, 'Nota_Principal')\n",
    "df2['grupo'] = 'atraso'\n",
    "\n",
    "df_plot = pd.concat([df1, df2], axis=0, ignore_index=True)\n",
    "\n",
    "fig = sns.lineplot(data=df_plot, x='mes', y='nps', hue='grupo')\n",
    "fig.set(title='Gráfico 9: comparação entre vôos sem atraso vs com atraso', ylim=(0,1))\n",
    "plt.show()"
   ]
  },
  {
   "attachments": {},
   "cell_type": "markdown",
   "metadata": {},
   "source": [
    "Insight\n",
    "\n",
    "O gráfico acima mostra o NPS consistentemente superior em vôos sem atraso, apontando a relevância da variável para o NPS."
   ]
  },
  {
   "attachments": {},
   "cell_type": "markdown",
   "metadata": {},
   "source": [
    "##### H2. \"Pequenos atrasos são toleráveis.\"\n",
    "Hipótese: atrasos de até 14 minutos não impactam NPS"
   ]
  },
  {
   "cell_type": "code",
   "execution_count": null,
   "metadata": {},
   "outputs": [
    {
     "data": {
      "text/html": [
       "<div>\n",
       "<style scoped>\n",
       "    .dataframe tbody tr th:only-of-type {\n",
       "        vertical-align: middle;\n",
       "    }\n",
       "\n",
       "    .dataframe tbody tr th {\n",
       "        vertical-align: top;\n",
       "    }\n",
       "\n",
       "    .dataframe thead th {\n",
       "        text-align: right;\n",
       "    }\n",
       "</style>\n",
       "<table border=\"1\" class=\"dataframe\">\n",
       "  <thead>\n",
       "    <tr style=\"text-align: right;\">\n",
       "      <th></th>\n",
       "      <th>count</th>\n",
       "      <th>mean</th>\n",
       "      <th>std</th>\n",
       "      <th>min</th>\n",
       "      <th>0%</th>\n",
       "      <th>10%</th>\n",
       "      <th>20%</th>\n",
       "      <th>30%</th>\n",
       "      <th>40%</th>\n",
       "      <th>50%</th>\n",
       "      <th>60%</th>\n",
       "      <th>70%</th>\n",
       "      <th>80%</th>\n",
       "      <th>90%</th>\n",
       "      <th>max</th>\n",
       "    </tr>\n",
       "  </thead>\n",
       "  <tbody>\n",
       "    <tr>\n",
       "      <th>Minutos_Atraso</th>\n",
       "      <td>1030.0</td>\n",
       "      <td>18.578641</td>\n",
       "      <td>24.349678</td>\n",
       "      <td>1.0</td>\n",
       "      <td>1.0</td>\n",
       "      <td>2.0</td>\n",
       "      <td>3.0</td>\n",
       "      <td>5.0</td>\n",
       "      <td>8.0</td>\n",
       "      <td>11.0</td>\n",
       "      <td>14.0</td>\n",
       "      <td>19.3</td>\n",
       "      <td>28.0</td>\n",
       "      <td>44.0</td>\n",
       "      <td>275.0</td>\n",
       "    </tr>\n",
       "  </tbody>\n",
       "</table>\n",
       "</div>"
      ],
      "text/plain": [
       "                 count       mean        std  min   0%  10%  20%  30%  40%  \\\n",
       "Minutos_Atraso  1030.0  18.578641  24.349678  1.0  1.0  2.0  3.0  5.0  8.0   \n",
       "\n",
       "                 50%   60%   70%   80%   90%    max  \n",
       "Minutos_Atraso  11.0  14.0  19.3  28.0  44.0  275.0  "
      ]
     },
     "execution_count": 40,
     "metadata": {},
     "output_type": "execute_result"
    }
   ],
   "source": [
    "# Primeiro verificaremos se é possível agrupar tipos de atraso (ex: pequeno atraso, etc)\n",
    "df_nps.loc[df_nps['Minutos_Atraso'] > 0, 'Minutos_Atraso'].describe(percentiles=np.arange(0, 10, 1)/10).to_frame().T"
   ]
  },
  {
   "cell_type": "code",
   "execution_count": null,
   "metadata": {},
   "outputs": [
    {
     "data": {
      "image/png": "[encoded data removed]",
      "text/plain": [
       "<Figure size 432x288 with 1 Axes>"
      ]
     },
     "metadata": {
      "needs_background": "light"
     },
     "output_type": "display_data"
    }
   ],
   "source": [
    "# Classificando o tipo de atraso dado uma tolerância pré estabelecida.\n",
    "tolerancia = 14\n",
    "\n",
    "amostra1 = df_nps.loc[df_nps['Minutos_Atraso'] == 0]\n",
    "amostra2 = df_nps.loc[df_nps['Minutos_Atraso'].between(0, tolerancia)]\n",
    "amostra3 = df_nps.loc[df_nps['Minutos_Atraso'] > tolerancia]\n",
    "\n",
    "df1 = calcular_nps(amostra1, 'Nota_Principal')\n",
    "df1['grupo'] = 'no horário'\n",
    "\n",
    "df2 = calcular_nps(amostra2, 'Nota_Principal')\n",
    "df2['grupo'] = 'pequeno atraso'\n",
    "\n",
    "df3 = calcular_nps(amostra3, 'Nota_Principal')\n",
    "df3['grupo'] = 'grande atraso'\n",
    "\n",
    "df_plot = pd.concat([df1, df2], axis=0, ignore_index=True)\n",
    "df_plot = pd.concat([df_plot, df3], axis=0, ignore_index=True)\n",
    "\n",
    "fig = sns.lineplot(data=df_plot, x='mes', y='nps', hue='grupo')\n",
    "fig.set(title='Gráfico 10: comparação entre diferentes tipos de atraso', ylim=(0,1))\n",
    "plt.show()"
   ]
  },
  {
   "attachments": {},
   "cell_type": "markdown",
   "metadata": {},
   "source": [
    "##### Insight\n",
    "A comparação de NPS de vôos (a) sem atraso, (b) com atraso de até 15 minutos e (c) com atraso superior a 15 minutos, observamos que os dois primeiros grupos apresentaram NPS semelhante. Isso indica que, apesar do atraso ser algo relevante ao NPS, o público foi tolerante em relação a pequenos atrasos."
   ]
  },
  {
   "attachments": {},
   "cell_type": "markdown",
   "metadata": {},
   "source": [
    "##### H3. \"Há maior probabilidade de atrasos em vôos longos.\"\n",
    "Hipótese: a correlação entre atrasos e vôos longos é relevante."
   ]
  },
  {
   "cell_type": "code",
   "execution_count": null,
   "metadata": {},
   "outputs": [
    {
     "name": "stdout",
     "output_type": "stream",
     "text": [
      "Correlação linear:\n"
     ]
    },
    {
     "data": {
      "text/html": [
       "<div>\n",
       "<style scoped>\n",
       "    .dataframe tbody tr th:only-of-type {\n",
       "        vertical-align: middle;\n",
       "    }\n",
       "\n",
       "    .dataframe tbody tr th {\n",
       "        vertical-align: top;\n",
       "    }\n",
       "\n",
       "    .dataframe thead th {\n",
       "        text-align: right;\n",
       "    }\n",
       "</style>\n",
       "<table border=\"1\" class=\"dataframe\">\n",
       "  <thead>\n",
       "    <tr style=\"text-align: right;\">\n",
       "      <th></th>\n",
       "      <th>Tempo_Voo</th>\n",
       "      <th>Minutos_Atraso</th>\n",
       "    </tr>\n",
       "  </thead>\n",
       "  <tbody>\n",
       "    <tr>\n",
       "      <th>Tempo_Voo</th>\n",
       "      <td>1.000000</td>\n",
       "      <td>0.050947</td>\n",
       "    </tr>\n",
       "    <tr>\n",
       "      <th>Minutos_Atraso</th>\n",
       "      <td>0.050947</td>\n",
       "      <td>1.000000</td>\n",
       "    </tr>\n",
       "  </tbody>\n",
       "</table>\n",
       "</div>"
      ],
      "text/plain": [
       "                Tempo_Voo  Minutos_Atraso\n",
       "Tempo_Voo        1.000000        0.050947\n",
       "Minutos_Atraso   0.050947        1.000000"
      ]
     },
     "metadata": {},
     "output_type": "display_data"
    },
    {
     "name": "stdout",
     "output_type": "stream",
     "text": [
      "Correlação não-linear:\n"
     ]
    },
    {
     "data": {
      "text/html": [
       "<div>\n",
       "<style scoped>\n",
       "    .dataframe tbody tr th:only-of-type {\n",
       "        vertical-align: middle;\n",
       "    }\n",
       "\n",
       "    .dataframe tbody tr th {\n",
       "        vertical-align: top;\n",
       "    }\n",
       "\n",
       "    .dataframe thead th {\n",
       "        text-align: right;\n",
       "    }\n",
       "</style>\n",
       "<table border=\"1\" class=\"dataframe\">\n",
       "  <thead>\n",
       "    <tr style=\"text-align: right;\">\n",
       "      <th></th>\n",
       "      <th>Tempo_Voo</th>\n",
       "      <th>Minutos_Atraso</th>\n",
       "    </tr>\n",
       "  </thead>\n",
       "  <tbody>\n",
       "    <tr>\n",
       "      <th>Tempo_Voo</th>\n",
       "      <td>1.000000</td>\n",
       "      <td>0.073554</td>\n",
       "    </tr>\n",
       "    <tr>\n",
       "      <th>Minutos_Atraso</th>\n",
       "      <td>0.073554</td>\n",
       "      <td>1.000000</td>\n",
       "    </tr>\n",
       "  </tbody>\n",
       "</table>\n",
       "</div>"
      ],
      "text/plain": [
       "                Tempo_Voo  Minutos_Atraso\n",
       "Tempo_Voo        1.000000        0.073554\n",
       "Minutos_Atraso   0.073554        1.000000"
      ]
     },
     "metadata": {},
     "output_type": "display_data"
    }
   ],
   "source": [
    "# Correlação linear entre tempo de vôo vs atraso.\n",
    "print('Correlação linear:')\n",
    "display(df_nps[['Tempo_Voo', 'Minutos_Atraso']].corr(method='pearson'))\n",
    "\n",
    "print('Correlação não-linear:')\n",
    "display(df_nps[['Tempo_Voo', 'Minutos_Atraso']].corr(method='spearman'))"
   ]
  },
  {
   "cell_type": "code",
   "execution_count": null,
   "metadata": {},
   "outputs": [
    {
     "data": {
      "image/png": "[encoded data removed]",
      "text/plain": [
       "<Figure size 432x288 with 1 Axes>"
      ]
     },
     "metadata": {
      "needs_background": "light"
     },
     "output_type": "display_data"
    }
   ],
   "source": [
    "fig = sns.scatterplot(data=df_nps, x='Tempo_Voo', y='Minutos_Atraso')\n",
    "fig.set(title='Gráfico 11: gráfico de dispersão entre tempo de vôo e atraso.')\n",
    "plt.show()"
   ]
  },
  {
   "attachments": {},
   "cell_type": "markdown",
   "metadata": {},
   "source": [
    "##### Insight\n",
    "A correlação fraca entre tempo de vôo e minutos de atraso é evidência contrária a hipótese.\n",
    "\n"
   ]
  },
  {
   "attachments": {},
   "cell_type": "markdown",
   "metadata": {},
   "source": [
    "##### H4. \"Clientes em fim de semana/feriado estão mais satisfeitos.\"\n",
    "Hipótese: Vôos em fim de semana/feriado tem melhores NPS."
   ]
  },
  {
   "cell_type": "code",
   "execution_count": null,
   "metadata": {},
   "outputs": [],
   "source": [
    "# Quantas df_nps"
   ]
  },
  {
   "attachments": {},
   "cell_type": "markdown",
   "metadata": {},
   "source": [
    "##### H5. \"Baixa performance de comissários estão associados a atrasos.\"\n",
    "Hipótese: a correlação entre NPS Comissários e atraso é relevante em Q2."
   ]
  },
  {
   "cell_type": "code",
   "execution_count": null,
   "metadata": {},
   "outputs": [
    {
     "data": {
      "text/html": [
       "<div>\n",
       "<style scoped>\n",
       "    .dataframe tbody tr th:only-of-type {\n",
       "        vertical-align: middle;\n",
       "    }\n",
       "\n",
       "    .dataframe tbody tr th {\n",
       "        vertical-align: top;\n",
       "    }\n",
       "\n",
       "    .dataframe thead th {\n",
       "        text-align: right;\n",
       "    }\n",
       "</style>\n",
       "<table border=\"1\" class=\"dataframe\">\n",
       "  <thead>\n",
       "    <tr style=\"text-align: right;\">\n",
       "      <th></th>\n",
       "      <th>Minutos_Atraso</th>\n",
       "      <th>Nota_Comissarios</th>\n",
       "    </tr>\n",
       "  </thead>\n",
       "  <tbody>\n",
       "    <tr>\n",
       "      <th>Minutos_Atraso</th>\n",
       "      <td>1.00000</td>\n",
       "      <td>-0.10961</td>\n",
       "    </tr>\n",
       "    <tr>\n",
       "      <th>Nota_Comissarios</th>\n",
       "      <td>-0.10961</td>\n",
       "      <td>1.00000</td>\n",
       "    </tr>\n",
       "  </tbody>\n",
       "</table>\n",
       "</div>"
      ],
      "text/plain": [
       "                  Minutos_Atraso  Nota_Comissarios\n",
       "Minutos_Atraso           1.00000          -0.10961\n",
       "Nota_Comissarios        -0.10961           1.00000"
      ]
     },
     "execution_count": 45,
     "metadata": {},
     "output_type": "execute_result"
    }
   ],
   "source": [
    "# Qual é a correlação entre as notas de comissários e atraso no geral?\n",
    "df_nps[['Minutos_Atraso', 'Nota_Comissarios']].corr()"
   ]
  },
  {
   "cell_type": "code",
   "execution_count": null,
   "metadata": {},
   "outputs": [
    {
     "data": {
      "text/html": [
       "<div>\n",
       "<style scoped>\n",
       "    .dataframe tbody tr th:only-of-type {\n",
       "        vertical-align: middle;\n",
       "    }\n",
       "\n",
       "    .dataframe tbody tr th {\n",
       "        vertical-align: top;\n",
       "    }\n",
       "\n",
       "    .dataframe thead tr th {\n",
       "        text-align: left;\n",
       "    }\n",
       "\n",
       "    .dataframe thead tr:last-of-type th {\n",
       "        text-align: right;\n",
       "    }\n",
       "</style>\n",
       "<table border=\"1\" class=\"dataframe\">\n",
       "  <thead>\n",
       "    <tr>\n",
       "      <th></th>\n",
       "      <th colspan=\"4\" halign=\"left\">Nota_Comissarios</th>\n",
       "    </tr>\n",
       "    <tr>\n",
       "      <th></th>\n",
       "      <th>min</th>\n",
       "      <th>mean</th>\n",
       "      <th>median</th>\n",
       "      <th>max</th>\n",
       "    </tr>\n",
       "    <tr>\n",
       "      <th>tp_atraso</th>\n",
       "      <th></th>\n",
       "      <th></th>\n",
       "      <th></th>\n",
       "      <th></th>\n",
       "    </tr>\n",
       "  </thead>\n",
       "  <tbody>\n",
       "    <tr>\n",
       "      <th>muito_atraso</th>\n",
       "      <td>0.0</td>\n",
       "      <td>8.948187</td>\n",
       "      <td>10.0</td>\n",
       "      <td>10.0</td>\n",
       "    </tr>\n",
       "    <tr>\n",
       "      <th>pouco_atraso</th>\n",
       "      <td>0.0</td>\n",
       "      <td>9.409475</td>\n",
       "      <td>10.0</td>\n",
       "      <td>10.0</td>\n",
       "    </tr>\n",
       "    <tr>\n",
       "      <th>sem_atraso</th>\n",
       "      <td>0.0</td>\n",
       "      <td>9.375923</td>\n",
       "      <td>10.0</td>\n",
       "      <td>10.0</td>\n",
       "    </tr>\n",
       "  </tbody>\n",
       "</table>\n",
       "</div>"
      ],
      "text/plain": [
       "             Nota_Comissarios                       \n",
       "                          min      mean median   max\n",
       "tp_atraso                                           \n",
       "muito_atraso              0.0  8.948187   10.0  10.0\n",
       "pouco_atraso              0.0  9.409475   10.0  10.0\n",
       "sem_atraso                0.0  9.375923   10.0  10.0"
      ]
     },
     "execution_count": 46,
     "metadata": {},
     "output_type": "execute_result"
    },
    {
     "data": {
      "image/png": "[encoded data removed]",
      "text/plain": [
       "<Figure size 432x288 with 1 Axes>"
      ]
     },
     "metadata": {
      "needs_background": "light"
     },
     "output_type": "display_data"
    }
   ],
   "source": [
    "# Considerando vôos (a) sem atraso, (b) atraso até 14 minutos e (c) atraso a partir de 15 minutos, avaliar as notas.\n",
    "df_nps['tp_atraso'] = np.select(\n",
    "    [\n",
    "        df_nps['Minutos_Atraso'] == 0,\n",
    "        df_nps['Minutos_Atraso'].between(0, 14),\n",
    "        df_nps['Minutos_Atraso'] >= 15,\n",
    "    ],['sem_atraso', 'pouco_atraso', 'muito_atraso'], '?'\n",
    ")\n",
    "\n",
    "fig = sns.boxplot(data=df_nps, x='tp_atraso', y='Nota_Comissarios')\n",
    "fig.set(title='Gráfico 12: notas de comissários por tipo de atraso')\n",
    "\n",
    "df_nps.groupby('tp_atraso').agg({'Nota_Comissarios':['min', 'mean', 'median', 'max']})"
   ]
  },
  {
   "cell_type": "code",
   "execution_count": null,
   "metadata": {},
   "outputs": [
    {
     "data": {
      "image/png": "[encoded data removed]",
      "text/plain": [
       "<Figure size 432x288 with 1 Axes>"
      ]
     },
     "metadata": {
      "needs_background": "light"
     },
     "output_type": "display_data"
    }
   ],
   "source": [
    "# Cálculo do NPS Comissários por tipo de atraso.\n",
    "df1 = calcular_nps(df_nps.loc[df_nps['tp_atraso'] == 'sem_atraso'], 'Nota_Comissarios')\n",
    "df2 = calcular_nps(df_nps.loc[df_nps['tp_atraso'] == 'pouco_atraso'], 'Nota_Comissarios')\n",
    "df3 = calcular_nps(df_nps.loc[df_nps['tp_atraso'] == 'muito_atraso'], 'Nota_Comissarios')\n",
    "\n",
    "df1['tipo'] = f\"sem_atraso ({df_nps.loc[df_nps['tp_atraso'] == 'sem_atraso'].shape[0]} casos)\"\n",
    "df2['tipo'] = f\"pouco_atraso ({df_nps.loc[df_nps['tp_atraso'] == 'pouco_atraso'].shape[0]} casos)\"\n",
    "df3['tipo'] = f\"muito_atraso ({df_nps.loc[df_nps['tp_atraso'] == 'muito_atraso'].shape[0]} casos)\"\n",
    "\n",
    "df_plot = pd.concat([df1, df2], axis=0, ignore_index=True)\n",
    "df_plot = pd.concat([df_plot, df3], axis=0, ignore_index=True)\n",
    "\n",
    "fig = sns.lineplot(data=df_plot, x='mes', y='nps', hue='tipo')\n",
    "fig.set(title='Comparação de NPS Comissário condicional a intensidade de atrasos.', ylim=(0, 1))\n",
    "plt.show()"
   ]
  },
  {
   "cell_type": "code",
   "execution_count": null,
   "metadata": {},
   "outputs": [
    {
     "data": {
      "text/html": [
       "<div>\n",
       "<style scoped>\n",
       "    .dataframe tbody tr th:only-of-type {\n",
       "        vertical-align: middle;\n",
       "    }\n",
       "\n",
       "    .dataframe tbody tr th {\n",
       "        vertical-align: top;\n",
       "    }\n",
       "\n",
       "    .dataframe thead th {\n",
       "        text-align: right;\n",
       "    }\n",
       "</style>\n",
       "<table border=\"1\" class=\"dataframe\">\n",
       "  <thead>\n",
       "    <tr style=\"text-align: right;\">\n",
       "      <th>tp_atraso</th>\n",
       "      <th>muito_atraso</th>\n",
       "      <th>pouco_atraso</th>\n",
       "      <th>sem_atraso</th>\n",
       "      <th>All</th>\n",
       "    </tr>\n",
       "    <tr>\n",
       "      <th>mes</th>\n",
       "      <th></th>\n",
       "      <th></th>\n",
       "      <th></th>\n",
       "      <th></th>\n",
       "    </tr>\n",
       "  </thead>\n",
       "  <tbody>\n",
       "    <tr>\n",
       "      <th>2022-01-01</th>\n",
       "      <td>0.109057</td>\n",
       "      <td>0.188540</td>\n",
       "      <td>0.702403</td>\n",
       "      <td>1.0</td>\n",
       "    </tr>\n",
       "    <tr>\n",
       "      <th>2022-02-01</th>\n",
       "      <td>0.128395</td>\n",
       "      <td>0.207407</td>\n",
       "      <td>0.664198</td>\n",
       "      <td>1.0</td>\n",
       "    </tr>\n",
       "    <tr>\n",
       "      <th>2022-03-01</th>\n",
       "      <td>0.109434</td>\n",
       "      <td>0.209434</td>\n",
       "      <td>0.681132</td>\n",
       "      <td>1.0</td>\n",
       "    </tr>\n",
       "    <tr>\n",
       "      <th>2022-04-01</th>\n",
       "      <td>0.164859</td>\n",
       "      <td>0.212581</td>\n",
       "      <td>0.622560</td>\n",
       "      <td>1.0</td>\n",
       "    </tr>\n",
       "    <tr>\n",
       "      <th>2022-05-01</th>\n",
       "      <td>0.126437</td>\n",
       "      <td>0.222222</td>\n",
       "      <td>0.651341</td>\n",
       "      <td>1.0</td>\n",
       "    </tr>\n",
       "    <tr>\n",
       "      <th>2022-06-01</th>\n",
       "      <td>0.240876</td>\n",
       "      <td>0.265207</td>\n",
       "      <td>0.493917</td>\n",
       "      <td>1.0</td>\n",
       "    </tr>\n",
       "    <tr>\n",
       "      <th>All</th>\n",
       "      <td>0.142857</td>\n",
       "      <td>0.216028</td>\n",
       "      <td>0.641115</td>\n",
       "      <td>1.0</td>\n",
       "    </tr>\n",
       "  </tbody>\n",
       "</table>\n",
       "</div>"
      ],
      "text/plain": [
       "tp_atraso   muito_atraso  pouco_atraso  sem_atraso  All\n",
       "mes                                                    \n",
       "2022-01-01      0.109057      0.188540    0.702403  1.0\n",
       "2022-02-01      0.128395      0.207407    0.664198  1.0\n",
       "2022-03-01      0.109434      0.209434    0.681132  1.0\n",
       "2022-04-01      0.164859      0.212581    0.622560  1.0\n",
       "2022-05-01      0.126437      0.222222    0.651341  1.0\n",
       "2022-06-01      0.240876      0.265207    0.493917  1.0\n",
       "All             0.142857      0.216028    0.641115  1.0"
      ]
     },
     "execution_count": 48,
     "metadata": {},
     "output_type": "execute_result"
    }
   ],
   "source": [
    "df_pivot = pd.pivot_table(data=df_nps, index='mes', columns='tp_atraso', values='Id', aggfunc='count', margins=True)\n",
    "df_pivot.div(df_pivot.iloc[:, -1], axis=0)"
   ]
  },
  {
   "attachments": {},
   "cell_type": "markdown",
   "metadata": {},
   "source": [
    "##### Insight\n",
    "\n",
    "Os resultados obtidos não apresentam um único comportamento. \n",
    "- NPS Comissário é esperadamente pior quando há maior atraso em alguns meses.\n",
    "- NPS Comissário é parecido em vôos sem atraso e com pouco atraso.  \n"
   ]
  },
  {
   "attachments": {},
   "cell_type": "markdown",
   "metadata": {},
   "source": [
    "## Conclusão"
   ]
  },
  {
   "attachments": {},
   "cell_type": "markdown",
   "metadata": {},
   "source": [
    "Aprendizados:\n",
    "\n",
    "- Dia 29/02/2022: existem 18 vôos erroneamente registrados em 29/02/2022, os quais serão omitidos da amostra.\n",
    "- Atrasos: os atrasos no vôos podem ser decorrentes de fatores internos (ex: atraso no fluxo operacional dos técnicos da Azul) mas também externos (ex: controle de segurança no aeroporto ou atraso na pista causadas por outras aeronaves). Seria valioso contar com alguma base que pudesse capturar esse efeito.\n",
    "- Nota de Comissários: apresenta alta correlação com a nota principal, logo seria interessante contar com um formulário de serviço de bordo.\n",
    "- Aviões da série A320 apresentaram NPS ruim."
   ]
  }
 ],
 "metadata": {
  "kernelspec": {
   "display_name": "Python 3",
   "language": "python",
   "name": "python3"
  },
  "language_info": {
   "codemirror_mode": {
    "name": "ipython",
    "version": 3
   },
   "file_extension": ".py",
   "mimetype": "text/x-python",
   "name": "python",
   "nbconvert_exporter": "python",
   "pygments_lexer": "ipython3",
   "version": "3.10.4"
  },
  "orig_nbformat": 4
 },
 "nbformat": 4,
 "nbformat_minor": 2
}
