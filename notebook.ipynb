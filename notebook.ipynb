{
 "cells": [
  {
   "attachments": {},
   "cell_type": "markdown",
   "metadata": {},
   "source": [
    "# Notebook\n",
    "\n",
    "1. Quais foram os principais motivos que fizeram o NPS cair nos meses de abril, maio e junho? Foram motivos diferentes ou há algum problema que é constante em todos os meses?\n",
    "2. Avaliando todos os pontos de contato da jornada, você identifica alguma oportunidade que precisa ser direcionada para tratativa das equipes responsáveis?\n",
    "3. Há alguma relação entre os indicadores operacionais e os dados coletados na base de dados da Pesquisa NPS?\n",
    "4. Para enriquecer essa análise, você sente necessidade de explorar alguma informação adicional além dos dados trazidos nesse estudo? Se sim, quais indicadores você buscaria para cruzar com os dados que você já possui?\n",
    "\n",
    "\n"
   ]
  },
  {
   "cell_type": "code",
   "execution_count": 149,
   "metadata": {},
   "outputs": [],
   "source": [
    "# Manipulação\n",
    "import numpy as np\n",
    "import pandas as pd\n",
    "\n",
    "# Visualização\n",
    "import matplotlib.pyplot as plt\n",
    "import seaborn as sns"
   ]
  },
  {
   "attachments": {},
   "cell_type": "markdown",
   "metadata": {},
   "source": [
    "## Extração"
   ]
  },
  {
   "attachments": {},
   "cell_type": "markdown",
   "metadata": {},
   "source": [
    "Aba 1: NPS"
   ]
  },
  {
   "cell_type": "code",
   "execution_count": 56,
   "metadata": {},
   "outputs": [
    {
     "data": {
      "text/html": [
       "<div>\n",
       "<style scoped>\n",
       "    .dataframe tbody tr th:only-of-type {\n",
       "        vertical-align: middle;\n",
       "    }\n",
       "\n",
       "    .dataframe tbody tr th {\n",
       "        vertical-align: top;\n",
       "    }\n",
       "\n",
       "    .dataframe thead th {\n",
       "        text-align: right;\n",
       "    }\n",
       "</style>\n",
       "<table border=\"1\" class=\"dataframe\">\n",
       "  <thead>\n",
       "    <tr style=\"text-align: right;\">\n",
       "      <th></th>\n",
       "      <th>Id</th>\n",
       "      <th>Data_Voo</th>\n",
       "      <th>Minutos_Atraso</th>\n",
       "      <th>Tempo_Voo</th>\n",
       "      <th>AirportLegs</th>\n",
       "      <th>Equipamento_Tipo</th>\n",
       "      <th>Nota_Principal</th>\n",
       "      <th>Nota_CheckinWeb</th>\n",
       "      <th>Nota_CheckinMobile</th>\n",
       "      <th>Nota_Comissarios</th>\n",
       "      <th>...</th>\n",
       "      <th>O processo de check in web funcionou corretamente?</th>\n",
       "      <th>O processo de check in web foi simples?</th>\n",
       "      <th>O processo de check in pelo celular foi simples?</th>\n",
       "      <th>O processo de check in pelo celular funcionou corretamente?</th>\n",
       "      <th>O sistema de entretenimento apresentou algum problema durante o voo?</th>\n",
       "      <th>Qual foi o problema?</th>\n",
       "      <th>Foi oferecido fone a bordo?</th>\n",
       "      <th>O tempo de espera pela bagagem no destino foi satisfatório?</th>\n",
       "      <th>Você ficou satisfeito com as condições de sua bagagem na devolução?</th>\n",
       "      <th>Você ficou satisfeito com o atendimento em caso de dano/extravio?</th>\n",
       "    </tr>\n",
       "  </thead>\n",
       "  <tbody>\n",
       "    <tr>\n",
       "      <th>0</th>\n",
       "      <td>1814257</td>\n",
       "      <td>2022-01-01 00:00:00</td>\n",
       "      <td>0.0</td>\n",
       "      <td>210</td>\n",
       "      <td>REC/GRU</td>\n",
       "      <td>A320</td>\n",
       "      <td>10</td>\n",
       "      <td>NaN</td>\n",
       "      <td>10.0</td>\n",
       "      <td>10.0</td>\n",
       "      <td>...</td>\n",
       "      <td>NaN</td>\n",
       "      <td>NaN</td>\n",
       "      <td>Sim</td>\n",
       "      <td>Sim</td>\n",
       "      <td>NaN</td>\n",
       "      <td>NaN</td>\n",
       "      <td>NaN</td>\n",
       "      <td>Não</td>\n",
       "      <td>Sim</td>\n",
       "      <td>NaN</td>\n",
       "    </tr>\n",
       "    <tr>\n",
       "      <th>1</th>\n",
       "      <td>1813841</td>\n",
       "      <td>2022-01-01 00:00:00</td>\n",
       "      <td>5.0</td>\n",
       "      <td>225</td>\n",
       "      <td>GYN/VCP/POA</td>\n",
       "      <td>Embraer-A320</td>\n",
       "      <td>8</td>\n",
       "      <td>NaN</td>\n",
       "      <td>NaN</td>\n",
       "      <td>10.0</td>\n",
       "      <td>...</td>\n",
       "      <td>NaN</td>\n",
       "      <td>NaN</td>\n",
       "      <td>NaN</td>\n",
       "      <td>NaN</td>\n",
       "      <td>NaN</td>\n",
       "      <td>NaN</td>\n",
       "      <td>NaN</td>\n",
       "      <td>Sim</td>\n",
       "      <td>Sim</td>\n",
       "      <td>NaN</td>\n",
       "    </tr>\n",
       "    <tr>\n",
       "      <th>2</th>\n",
       "      <td>1814905</td>\n",
       "      <td>2022-01-01 00:00:00</td>\n",
       "      <td>0.0</td>\n",
       "      <td>385</td>\n",
       "      <td>DOU/VCP/SSA</td>\n",
       "      <td>ATR-A320</td>\n",
       "      <td>10</td>\n",
       "      <td>10.0</td>\n",
       "      <td>NaN</td>\n",
       "      <td>10.0</td>\n",
       "      <td>...</td>\n",
       "      <td>Sim</td>\n",
       "      <td>Sim</td>\n",
       "      <td>NaN</td>\n",
       "      <td>NaN</td>\n",
       "      <td>NaN</td>\n",
       "      <td>NaN</td>\n",
       "      <td>NaN</td>\n",
       "      <td>Sim</td>\n",
       "      <td>Sim</td>\n",
       "      <td>Sim</td>\n",
       "    </tr>\n",
       "  </tbody>\n",
       "</table>\n",
       "<p>3 rows × 22 columns</p>\n",
       "</div>"
      ],
      "text/plain": [
       "        Id             Data_Voo  Minutos_Atraso  Tempo_Voo  AirportLegs  \\\n",
       "0  1814257  2022-01-01 00:00:00             0.0        210      REC/GRU   \n",
       "1  1813841  2022-01-01 00:00:00             5.0        225  GYN/VCP/POA   \n",
       "2  1814905  2022-01-01 00:00:00             0.0        385  DOU/VCP/SSA   \n",
       "\n",
       "  Equipamento_Tipo  Nota_Principal  Nota_CheckinWeb  Nota_CheckinMobile  \\\n",
       "0             A320              10              NaN                10.0   \n",
       "1     Embraer-A320               8              NaN                 NaN   \n",
       "2         ATR-A320              10             10.0                 NaN   \n",
       "\n",
       "   Nota_Comissarios  ...  O processo de check in web funcionou corretamente?  \\\n",
       "0              10.0  ...                                                NaN    \n",
       "1              10.0  ...                                                NaN    \n",
       "2              10.0  ...                                                Sim    \n",
       "\n",
       "   O processo de check in web foi simples?  \\\n",
       "0                                      NaN   \n",
       "1                                      NaN   \n",
       "2                                      Sim   \n",
       "\n",
       "  O processo de check in pelo celular foi simples?  \\\n",
       "0                                              Sim   \n",
       "1                                              NaN   \n",
       "2                                              NaN   \n",
       "\n",
       "  O processo de check in pelo celular funcionou corretamente?  \\\n",
       "0                                                Sim            \n",
       "1                                                NaN            \n",
       "2                                                NaN            \n",
       "\n",
       "  O sistema de entretenimento apresentou algum problema durante o voo?  \\\n",
       "0                                                NaN                     \n",
       "1                                                NaN                     \n",
       "2                                                NaN                     \n",
       "\n",
       "  Qual foi o problema? Foi oferecido fone a bordo?  \\\n",
       "0                  NaN                         NaN   \n",
       "1                  NaN                         NaN   \n",
       "2                  NaN                         NaN   \n",
       "\n",
       "  O tempo de espera pela bagagem no destino foi satisfatório?  \\\n",
       "0                                                Não            \n",
       "1                                                Sim            \n",
       "2                                                Sim            \n",
       "\n",
       "  Você ficou satisfeito com as condições de sua bagagem na devolução?  \\\n",
       "0                                                Sim                    \n",
       "1                                                Sim                    \n",
       "2                                                Sim                    \n",
       "\n",
       "  Você ficou satisfeito com o atendimento em caso de dano/extravio?  \n",
       "0                                                NaN                 \n",
       "1                                                NaN                 \n",
       "2                                                Sim                 \n",
       "\n",
       "[3 rows x 22 columns]"
      ]
     },
     "execution_count": 56,
     "metadata": {},
     "output_type": "execute_result"
    }
   ],
   "source": [
    "df_nps_raw = pd.read_excel('Case_Análise Semestral - NPS - V2.xlsx', sheet_name='BASE_DADOS_NPS')\n",
    "df_nps_raw.head(3)"
   ]
  },
  {
   "cell_type": "code",
   "execution_count": 222,
   "metadata": {},
   "outputs": [
    {
     "data": {
      "text/plain": [
       "ok                     2870\n",
       "voo em 29/02/2022        18\n",
       "duracao de voo <= 0       2\n",
       "Name: inconsistencia, dtype: int64"
      ]
     },
     "execution_count": 222,
     "metadata": {},
     "output_type": "execute_result"
    }
   ],
   "source": [
    "# Ao longo do estudo foram encontradas inconsistência na base. Para evitar replicar análises anteriores, as inconsistências foram concentradas no início do notebook.\n",
    "df_nps = df_nps_raw.copy(deep=True)\n",
    "\n",
    "df_nps['inconsistencia'] = np.select(\n",
    "    [\n",
    "        df_nps['Data_Voo'].astype(str).str.contains('29/02'),\n",
    "        df_nps_raw['Tempo_Voo'] <= 0\n",
    "    ],\n",
    "    [\n",
    "        'voo em 29/02/2022',\n",
    "        'duracao de voo <= 0'\n",
    "    ], 'ok'\n",
    ")\n",
    "\n",
    "df_nps['inconsistencia'].value_counts()"
   ]
  },
  {
   "cell_type": "code",
   "execution_count": 223,
   "metadata": {},
   "outputs": [
    {
     "data": {
      "text/html": [
       "<div>\n",
       "<style scoped>\n",
       "    .dataframe tbody tr th:only-of-type {\n",
       "        vertical-align: middle;\n",
       "    }\n",
       "\n",
       "    .dataframe tbody tr th {\n",
       "        vertical-align: top;\n",
       "    }\n",
       "\n",
       "    .dataframe thead th {\n",
       "        text-align: right;\n",
       "    }\n",
       "</style>\n",
       "<table border=\"1\" class=\"dataframe\">\n",
       "  <thead>\n",
       "    <tr style=\"text-align: right;\">\n",
       "      <th></th>\n",
       "      <th>Id</th>\n",
       "      <th>Data_Voo</th>\n",
       "      <th>Minutos_Atraso</th>\n",
       "      <th>Tempo_Voo</th>\n",
       "      <th>AirportLegs</th>\n",
       "      <th>Equipamento_Tipo</th>\n",
       "      <th>Nota_Principal</th>\n",
       "      <th>Nota_CheckinWeb</th>\n",
       "      <th>Nota_CheckinMobile</th>\n",
       "      <th>Nota_Comissarios</th>\n",
       "      <th>...</th>\n",
       "      <th>O processo de check in web foi simples?</th>\n",
       "      <th>O processo de check in pelo celular foi simples?</th>\n",
       "      <th>O processo de check in pelo celular funcionou corretamente?</th>\n",
       "      <th>O sistema de entretenimento apresentou algum problema durante o voo?</th>\n",
       "      <th>Qual foi o problema?</th>\n",
       "      <th>Foi oferecido fone a bordo?</th>\n",
       "      <th>O tempo de espera pela bagagem no destino foi satisfatório?</th>\n",
       "      <th>Você ficou satisfeito com as condições de sua bagagem na devolução?</th>\n",
       "      <th>Você ficou satisfeito com o atendimento em caso de dano/extravio?</th>\n",
       "      <th>inconsistencia</th>\n",
       "    </tr>\n",
       "  </thead>\n",
       "  <tbody>\n",
       "    <tr>\n",
       "      <th>0</th>\n",
       "      <td>1814257</td>\n",
       "      <td>2022-01-01</td>\n",
       "      <td>0.0</td>\n",
       "      <td>210</td>\n",
       "      <td>REC/GRU</td>\n",
       "      <td>A320</td>\n",
       "      <td>10</td>\n",
       "      <td>NaN</td>\n",
       "      <td>10.0</td>\n",
       "      <td>10.0</td>\n",
       "      <td>...</td>\n",
       "      <td>NaN</td>\n",
       "      <td>Sim</td>\n",
       "      <td>Sim</td>\n",
       "      <td>NaN</td>\n",
       "      <td>NaN</td>\n",
       "      <td>NaN</td>\n",
       "      <td>Não</td>\n",
       "      <td>Sim</td>\n",
       "      <td>NaN</td>\n",
       "      <td>ok</td>\n",
       "    </tr>\n",
       "    <tr>\n",
       "      <th>1</th>\n",
       "      <td>1813841</td>\n",
       "      <td>2022-01-01</td>\n",
       "      <td>5.0</td>\n",
       "      <td>225</td>\n",
       "      <td>GYN/VCP/POA</td>\n",
       "      <td>Embraer-A320</td>\n",
       "      <td>8</td>\n",
       "      <td>NaN</td>\n",
       "      <td>NaN</td>\n",
       "      <td>10.0</td>\n",
       "      <td>...</td>\n",
       "      <td>NaN</td>\n",
       "      <td>NaN</td>\n",
       "      <td>NaN</td>\n",
       "      <td>NaN</td>\n",
       "      <td>NaN</td>\n",
       "      <td>NaN</td>\n",
       "      <td>Sim</td>\n",
       "      <td>Sim</td>\n",
       "      <td>NaN</td>\n",
       "      <td>ok</td>\n",
       "    </tr>\n",
       "    <tr>\n",
       "      <th>2</th>\n",
       "      <td>1814905</td>\n",
       "      <td>2022-01-01</td>\n",
       "      <td>0.0</td>\n",
       "      <td>385</td>\n",
       "      <td>DOU/VCP/SSA</td>\n",
       "      <td>ATR-A320</td>\n",
       "      <td>10</td>\n",
       "      <td>10.0</td>\n",
       "      <td>NaN</td>\n",
       "      <td>10.0</td>\n",
       "      <td>...</td>\n",
       "      <td>Sim</td>\n",
       "      <td>NaN</td>\n",
       "      <td>NaN</td>\n",
       "      <td>NaN</td>\n",
       "      <td>NaN</td>\n",
       "      <td>NaN</td>\n",
       "      <td>Sim</td>\n",
       "      <td>Sim</td>\n",
       "      <td>Sim</td>\n",
       "      <td>ok</td>\n",
       "    </tr>\n",
       "  </tbody>\n",
       "</table>\n",
       "<p>3 rows × 23 columns</p>\n",
       "</div>"
      ],
      "text/plain": [
       "        Id   Data_Voo  Minutos_Atraso  Tempo_Voo  AirportLegs  \\\n",
       "0  1814257 2022-01-01             0.0        210      REC/GRU   \n",
       "1  1813841 2022-01-01             5.0        225  GYN/VCP/POA   \n",
       "2  1814905 2022-01-01             0.0        385  DOU/VCP/SSA   \n",
       "\n",
       "  Equipamento_Tipo  Nota_Principal  Nota_CheckinWeb  Nota_CheckinMobile  \\\n",
       "0             A320              10              NaN                10.0   \n",
       "1     Embraer-A320               8              NaN                 NaN   \n",
       "2         ATR-A320              10             10.0                 NaN   \n",
       "\n",
       "   Nota_Comissarios  ...  O processo de check in web foi simples?  \\\n",
       "0              10.0  ...                                      NaN   \n",
       "1              10.0  ...                                      NaN   \n",
       "2              10.0  ...                                      Sim   \n",
       "\n",
       "   O processo de check in pelo celular foi simples?  \\\n",
       "0                                               Sim   \n",
       "1                                               NaN   \n",
       "2                                               NaN   \n",
       "\n",
       "  O processo de check in pelo celular funcionou corretamente?  \\\n",
       "0                                                Sim            \n",
       "1                                                NaN            \n",
       "2                                                NaN            \n",
       "\n",
       "  O sistema de entretenimento apresentou algum problema durante o voo?  \\\n",
       "0                                                NaN                     \n",
       "1                                                NaN                     \n",
       "2                                                NaN                     \n",
       "\n",
       "  Qual foi o problema? Foi oferecido fone a bordo?  \\\n",
       "0                  NaN                         NaN   \n",
       "1                  NaN                         NaN   \n",
       "2                  NaN                         NaN   \n",
       "\n",
       "  O tempo de espera pela bagagem no destino foi satisfatório?  \\\n",
       "0                                                Não            \n",
       "1                                                Sim            \n",
       "2                                                Sim            \n",
       "\n",
       "  Você ficou satisfeito com as condições de sua bagagem na devolução?  \\\n",
       "0                                                Sim                    \n",
       "1                                                Sim                    \n",
       "2                                                Sim                    \n",
       "\n",
       "  Você ficou satisfeito com o atendimento em caso de dano/extravio?  \\\n",
       "0                                                NaN                  \n",
       "1                                                NaN                  \n",
       "2                                                Sim                  \n",
       "\n",
       "  inconsistencia  \n",
       "0             ok  \n",
       "1             ok  \n",
       "2             ok  \n",
       "\n",
       "[3 rows x 23 columns]"
      ]
     },
     "execution_count": 223,
     "metadata": {},
     "output_type": "execute_result"
    }
   ],
   "source": [
    "# Preprocessamento básico.\n",
    "df_nps = df_nps.loc[df_nps['inconsistencia'] == 'ok'].reset_index(drop=True)\n",
    "df_nps['Data_Voo'] = pd.to_datetime(df_nps['Data_Voo'], format='%Y-%m-%d %H:%M:%S')\n",
    "\n",
    "df_nps.head(3)"
   ]
  },
  {
   "attachments": {},
   "cell_type": "markdown",
   "metadata": {},
   "source": [
    "Aba 2: Outros indicadores"
   ]
  },
  {
   "cell_type": "code",
   "execution_count": 224,
   "metadata": {},
   "outputs": [
    {
     "data": {
      "text/html": [
       "<div>\n",
       "<style scoped>\n",
       "    .dataframe tbody tr th:only-of-type {\n",
       "        vertical-align: middle;\n",
       "    }\n",
       "\n",
       "    .dataframe tbody tr th {\n",
       "        vertical-align: top;\n",
       "    }\n",
       "\n",
       "    .dataframe thead th {\n",
       "        text-align: right;\n",
       "    }\n",
       "</style>\n",
       "<table border=\"1\" class=\"dataframe\">\n",
       "  <thead>\n",
       "    <tr style=\"text-align: right;\">\n",
       "      <th></th>\n",
       "      <th>Unnamed: 0</th>\n",
       "      <th>Unnamed: 1</th>\n",
       "      <th>Unnamed: 2</th>\n",
       "      <th>Unnamed: 3</th>\n",
       "      <th>Unnamed: 4</th>\n",
       "      <th>Unnamed: 5</th>\n",
       "      <th>Unnamed: 6</th>\n",
       "      <th>Unnamed: 7</th>\n",
       "    </tr>\n",
       "  </thead>\n",
       "  <tbody>\n",
       "    <tr>\n",
       "      <th>0</th>\n",
       "      <td>NaN</td>\n",
       "      <td>Indicador</td>\n",
       "      <td>jan/22</td>\n",
       "      <td>fev/22</td>\n",
       "      <td>mar/22</td>\n",
       "      <td>abr/22</td>\n",
       "      <td>mai/22</td>\n",
       "      <td>jun/22</td>\n",
       "    </tr>\n",
       "    <tr>\n",
       "      <th>1</th>\n",
       "      <td>NaN</td>\n",
       "      <td>Dark Flight ⁽¹⁾</td>\n",
       "      <td>2.34</td>\n",
       "      <td>2.17</td>\n",
       "      <td>1.69</td>\n",
       "      <td>2.24</td>\n",
       "      <td>1.88</td>\n",
       "      <td>3.59</td>\n",
       "    </tr>\n",
       "    <tr>\n",
       "      <th>2</th>\n",
       "      <td>NaN</td>\n",
       "      <td>MBR ⁽²⁾</td>\n",
       "      <td>1.467711</td>\n",
       "      <td>1.484345</td>\n",
       "      <td>1.426646</td>\n",
       "      <td>1.555159</td>\n",
       "      <td>1.66</td>\n",
       "      <td>2.21882</td>\n",
       "    </tr>\n",
       "    <tr>\n",
       "      <th>3</th>\n",
       "      <td>NaN</td>\n",
       "      <td>Pontualidade D14  ⁽³⁾</td>\n",
       "      <td>0.911643</td>\n",
       "      <td>0.909311</td>\n",
       "      <td>0.909455</td>\n",
       "      <td>0.882785</td>\n",
       "      <td>0.865582</td>\n",
       "      <td>0.810266</td>\n",
       "    </tr>\n",
       "    <tr>\n",
       "      <th>4</th>\n",
       "      <td>NaN</td>\n",
       "      <td>NaN</td>\n",
       "      <td>NaN</td>\n",
       "      <td>NaN</td>\n",
       "      <td>NaN</td>\n",
       "      <td>NaN</td>\n",
       "      <td>NaN</td>\n",
       "      <td>NaN</td>\n",
       "    </tr>\n",
       "    <tr>\n",
       "      <th>5</th>\n",
       "      <td>NaN</td>\n",
       "      <td>NaN</td>\n",
       "      <td>NaN</td>\n",
       "      <td>NaN</td>\n",
       "      <td>NaN</td>\n",
       "      <td>NaN</td>\n",
       "      <td>NaN</td>\n",
       "      <td>NaN</td>\n",
       "    </tr>\n",
       "    <tr>\n",
       "      <th>6</th>\n",
       "      <td>NaN</td>\n",
       "      <td>⁽¹⁾ Dark Flights = Índice que determina o % de...</td>\n",
       "      <td>NaN</td>\n",
       "      <td>NaN</td>\n",
       "      <td>NaN</td>\n",
       "      <td>NaN</td>\n",
       "      <td>NaN</td>\n",
       "      <td>NaN</td>\n",
       "    </tr>\n",
       "    <tr>\n",
       "      <th>7</th>\n",
       "      <td>NaN</td>\n",
       "      <td>⁽²⁾ MBR = índice que determina a quantidade de...</td>\n",
       "      <td>NaN</td>\n",
       "      <td>NaN</td>\n",
       "      <td>NaN</td>\n",
       "      <td>NaN</td>\n",
       "      <td>NaN</td>\n",
       "      <td>NaN</td>\n",
       "    </tr>\n",
       "    <tr>\n",
       "      <th>8</th>\n",
       "      <td>NaN</td>\n",
       "      <td>⁽³⁾ Pontualidade D14 = índice que determina o ...</td>\n",
       "      <td>NaN</td>\n",
       "      <td>NaN</td>\n",
       "      <td>NaN</td>\n",
       "      <td>NaN</td>\n",
       "      <td>NaN</td>\n",
       "      <td>NaN</td>\n",
       "    </tr>\n",
       "  </tbody>\n",
       "</table>\n",
       "</div>"
      ],
      "text/plain": [
       "   Unnamed: 0                                         Unnamed: 1 Unnamed: 2  \\\n",
       "0         NaN                                          Indicador     jan/22   \n",
       "1         NaN                                    Dark Flight ⁽¹⁾       2.34   \n",
       "2         NaN                                            MBR ⁽²⁾   1.467711   \n",
       "3         NaN                              Pontualidade D14  ⁽³⁾   0.911643   \n",
       "4         NaN                                                NaN        NaN   \n",
       "5         NaN                                                NaN        NaN   \n",
       "6         NaN  ⁽¹⁾ Dark Flights = Índice que determina o % de...        NaN   \n",
       "7         NaN  ⁽²⁾ MBR = índice que determina a quantidade de...        NaN   \n",
       "8         NaN  ⁽³⁾ Pontualidade D14 = índice que determina o ...        NaN   \n",
       "\n",
       "  Unnamed: 3 Unnamed: 4 Unnamed: 5 Unnamed: 6 Unnamed: 7  \n",
       "0     fev/22     mar/22     abr/22     mai/22     jun/22  \n",
       "1       2.17       1.69       2.24       1.88       3.59  \n",
       "2   1.484345   1.426646   1.555159       1.66    2.21882  \n",
       "3   0.909311   0.909455   0.882785   0.865582   0.810266  \n",
       "4        NaN        NaN        NaN        NaN        NaN  \n",
       "5        NaN        NaN        NaN        NaN        NaN  \n",
       "6        NaN        NaN        NaN        NaN        NaN  \n",
       "7        NaN        NaN        NaN        NaN        NaN  \n",
       "8        NaN        NaN        NaN        NaN        NaN  "
      ]
     },
     "execution_count": 224,
     "metadata": {},
     "output_type": "execute_result"
    }
   ],
   "source": [
    "df_kpi_raw = pd.read_excel('Case_Análise Semestral - NPS - V2.xlsx', sheet_name='Outros Indicadores')\n",
    "df_kpi_raw"
   ]
  },
  {
   "cell_type": "code",
   "execution_count": 225,
   "metadata": {},
   "outputs": [
    {
     "data": {
      "text/html": [
       "<div>\n",
       "<style scoped>\n",
       "    .dataframe tbody tr th:only-of-type {\n",
       "        vertical-align: middle;\n",
       "    }\n",
       "\n",
       "    .dataframe tbody tr th {\n",
       "        vertical-align: top;\n",
       "    }\n",
       "\n",
       "    .dataframe thead th {\n",
       "        text-align: right;\n",
       "    }\n",
       "</style>\n",
       "<table border=\"1\" class=\"dataframe\">\n",
       "  <thead>\n",
       "    <tr style=\"text-align: right;\">\n",
       "      <th></th>\n",
       "      <th>data</th>\n",
       "      <th>dark_flight</th>\n",
       "      <th>mbr</th>\n",
       "      <th>pontualidade</th>\n",
       "    </tr>\n",
       "  </thead>\n",
       "  <tbody>\n",
       "    <tr>\n",
       "      <th>0</th>\n",
       "      <td>jan/22</td>\n",
       "      <td>2.34</td>\n",
       "      <td>1.467711</td>\n",
       "      <td>0.911643</td>\n",
       "    </tr>\n",
       "    <tr>\n",
       "      <th>1</th>\n",
       "      <td>fev/22</td>\n",
       "      <td>2.17</td>\n",
       "      <td>1.484345</td>\n",
       "      <td>0.909311</td>\n",
       "    </tr>\n",
       "    <tr>\n",
       "      <th>2</th>\n",
       "      <td>mar/22</td>\n",
       "      <td>1.69</td>\n",
       "      <td>1.426646</td>\n",
       "      <td>0.909455</td>\n",
       "    </tr>\n",
       "    <tr>\n",
       "      <th>3</th>\n",
       "      <td>abr/22</td>\n",
       "      <td>2.24</td>\n",
       "      <td>1.555159</td>\n",
       "      <td>0.882785</td>\n",
       "    </tr>\n",
       "    <tr>\n",
       "      <th>4</th>\n",
       "      <td>mai/22</td>\n",
       "      <td>1.88</td>\n",
       "      <td>1.660000</td>\n",
       "      <td>0.865582</td>\n",
       "    </tr>\n",
       "    <tr>\n",
       "      <th>5</th>\n",
       "      <td>jun/22</td>\n",
       "      <td>3.59</td>\n",
       "      <td>2.218820</td>\n",
       "      <td>0.810266</td>\n",
       "    </tr>\n",
       "  </tbody>\n",
       "</table>\n",
       "</div>"
      ],
      "text/plain": [
       "     data  dark_flight       mbr  pontualidade\n",
       "0  jan/22         2.34  1.467711      0.911643\n",
       "1  fev/22         2.17  1.484345      0.909311\n",
       "2  mar/22         1.69  1.426646      0.909455\n",
       "3  abr/22         2.24  1.555159      0.882785\n",
       "4  mai/22         1.88  1.660000      0.865582\n",
       "5  jun/22         3.59  2.218820      0.810266"
      ]
     },
     "execution_count": 225,
     "metadata": {},
     "output_type": "execute_result"
    }
   ],
   "source": [
    "# Processamento básico.\n",
    "df_kpi = df_kpi_raw.T\n",
    "df_kpi = df_kpi.iloc[2:, :4].reset_index(drop=True)\n",
    "df_kpi.columns = ['data', 'dark_flight', 'mbr', 'pontualidade']\n",
    "df_kpi[['dark_flight', 'mbr', 'pontualidade']]= df_kpi[['dark_flight', 'mbr', 'pontualidade']].astype('float')\n",
    "\n",
    "df_kpi"
   ]
  },
  {
   "attachments": {},
   "cell_type": "markdown",
   "metadata": {},
   "source": [
    "## Validações"
   ]
  },
  {
   "cell_type": "code",
   "execution_count": 226,
   "metadata": {},
   "outputs": [
    {
     "name": "stdout",
     "output_type": "stream",
     "text": [
      "Qtd. de vôos: 2870\n",
      "Qtd. de ids únicos: 2870\n"
     ]
    }
   ],
   "source": [
    "# Temos realmente um ID por vôo?\n",
    "print(f\"Qtd. de vôos: {df_nps.shape[0]}\")\n",
    "print(f\"Qtd. de ids únicos: {df_nps['Id'].nunique()}\")"
   ]
  },
  {
   "cell_type": "code",
   "execution_count": 227,
   "metadata": {},
   "outputs": [
    {
     "name": "stdout",
     "output_type": "stream",
     "text": [
      "Data do primeiro registro: 2022-01-01 00:00:00\n",
      "Data do último registro: 2022-06-30 00:00:00\n"
     ]
    }
   ],
   "source": [
    "# Realmente temos vôos apenas entre jan/22 a jun22?\n",
    "print(f\"Data do primeiro registro: {df_nps['Data_Voo'].min()}\")\n",
    "print(f\"Data do último registro: {df_nps['Data_Voo'].max()}\")"
   ]
  },
  {
   "attachments": {},
   "cell_type": "markdown",
   "metadata": {},
   "source": [
    "## Exploração"
   ]
  },
  {
   "cell_type": "code",
   "execution_count": 228,
   "metadata": {},
   "outputs": [
    {
     "name": "stdout",
     "output_type": "stream",
     "text": [
      "     count    mean    std    min    25%    50%    75%    max\n",
      "mes    6.0  478.33  61.18  405.0  423.5  491.5  528.0  541.0\n"
     ]
    },
    {
     "data": {
      "image/png": "[encoded data removed]",
      "text/plain": [
       "<Figure size 432x288 with 1 Axes>"
      ]
     },
     "metadata": {
      "needs_background": "light"
     },
     "output_type": "display_data"
    }
   ],
   "source": [
    "# Quantos registros por mês?\n",
    "df_nps['mes'] = df_nps['Data_Voo'].dt.strftime('%Y-%m-01')\n",
    "df_plot = df_nps['mes'].value_counts().reset_index().sort_values('index', ascending=True)\n",
    "print(df_plot.describe().T.round(2))\n",
    "\n",
    "fig = sns.lineplot(data=df_plot, x='index', y='mes')\n",
    "fig.set(title='Gráfico 1: quantidade de vôos por mês', ylim=(0, 600), ylabel='Qtd. vôos', xlabel='Mês')\n",
    "plt.show()"
   ]
  },
  {
   "attachments": {},
   "cell_type": "markdown",
   "metadata": {},
   "source": [
    "Datas\n",
    "\n",
    "Durante o primeiro semestre registrou-se em média 478 vôos por mês. A distribuição dos vôos mostrou-se relativamente comportada, porém é curiosa a queda de vôos em fev/22. A princípio, considerando os feriados de Carnaval, é de se imaginar que há maior quantidade de viagens, contudo, os dados mostram o contrário: queda de aproximadamente 20% em relação a janeiro. Por outro lado, é importante em 2022 fevereiro foi um mês mais curto, com apenas 28 dias."
   ]
  },
  {
   "cell_type": "code",
   "execution_count": 315,
   "metadata": {},
   "outputs": [
    {
     "name": "stdout",
     "output_type": "stream",
     "text": [
      "0    1962\n",
      "1     908\n",
      "Name: dummy_fds_feriado, dtype: int64\n"
     ]
    }
   ],
   "source": [
    "# Quais os comportamentos entre (1) dia de semana e (2) fim de semana/feriados?\n",
    "feriados_br = [\n",
    "    '2022-01-01',\n",
    "    '2022-02-28',\n",
    "    '2022-03-01',\n",
    "    '2022-04-15',\n",
    "    '2022-04-21',\n",
    "    '2022-05-01',\n",
    "    '2022-06-16',\n",
    "    ]\n",
    "\n",
    "df_nps['dummy_fds_feriado'] = np.select(\n",
    "    [\n",
    "        df_nps['Data_Voo'].astype(str).isin(feriados_br),\n",
    "        df_nps['Data_Voo'].dt.dayofweek.isin([5, 6])\n",
    "    ],\n",
    "    [\n",
    "        1,\n",
    "        1\n",
    "    ], 0\n",
    ") \n",
    "\n",
    "print(df_nps['dummy_fds_feriado'].value_counts())\n",
    "# obs: é uma pena que a amostra não contém horas, pois isso facilitaria diferenciar vôos comerciais e de lazer.\n",
    "# Ex: vôos de sexta a noite, que podem significar o início de uma viagem de lazer, ainda serão considerados como vôos comerciais a trabalho."
   ]
  },
  {
   "attachments": {},
   "cell_type": "markdown",
   "metadata": {},
   "source": [
    "Fim de semana/feriado\n",
    "\n",
    "Praticamente 1/3 da amostra é de vôos em fim de semana/feriado. Essa pode ser uma variável promissora, dada que em viagens de lazer a satisfação do cliente pode estar viesada positivamente."
   ]
  },
  {
   "cell_type": "code",
   "execution_count": 229,
   "metadata": {},
   "outputs": [
    {
     "data": {
      "image/png": "[encoded data removed]",
      "text/plain": [
       "<Figure size 432x288 with 1 Axes>"
      ]
     },
     "metadata": {
      "needs_background": "light"
     },
     "output_type": "display_data"
    },
    {
     "data": {
      "image/png": "[encoded data removed]",
      "text/plain": [
       "<Figure size 432x288 with 1 Axes>"
      ]
     },
     "metadata": {
      "needs_background": "light"
     },
     "output_type": "display_data"
    },
    {
     "data": {
      "text/html": [
       "<div>\n",
       "<style scoped>\n",
       "    .dataframe tbody tr th:only-of-type {\n",
       "        vertical-align: middle;\n",
       "    }\n",
       "\n",
       "    .dataframe tbody tr th {\n",
       "        vertical-align: top;\n",
       "    }\n",
       "\n",
       "    .dataframe thead th {\n",
       "        text-align: right;\n",
       "    }\n",
       "</style>\n",
       "<table border=\"1\" class=\"dataframe\">\n",
       "  <thead>\n",
       "    <tr style=\"text-align: right;\">\n",
       "      <th></th>\n",
       "      <th>count</th>\n",
       "      <th>mean</th>\n",
       "      <th>std</th>\n",
       "      <th>min</th>\n",
       "      <th>25%</th>\n",
       "      <th>50%</th>\n",
       "      <th>75%</th>\n",
       "      <th>max</th>\n",
       "    </tr>\n",
       "  </thead>\n",
       "  <tbody>\n",
       "    <tr>\n",
       "      <th>Minutos_Atraso</th>\n",
       "      <td>1030.0</td>\n",
       "      <td>18.578641</td>\n",
       "      <td>24.349678</td>\n",
       "      <td>1.0</td>\n",
       "      <td>4.0</td>\n",
       "      <td>11.0</td>\n",
       "      <td>23.0</td>\n",
       "      <td>275.0</td>\n",
       "    </tr>\n",
       "  </tbody>\n",
       "</table>\n",
       "</div>"
      ],
      "text/plain": [
       "                 count       mean        std  min  25%   50%   75%    max\n",
       "Minutos_Atraso  1030.0  18.578641  24.349678  1.0  4.0  11.0  23.0  275.0"
      ]
     },
     "execution_count": 229,
     "metadata": {},
     "output_type": "execute_result"
    }
   ],
   "source": [
    "# Qual o comportamento geral dos atrasos?\n",
    "fig1 = sns.histplot(df_nps['Minutos_Atraso'])\n",
    "fig1.set(title='Gráfico 2: histograma dos atrasos de todos os registros.')\n",
    "plt.show()\n",
    "\n",
    "fig2 = sns.histplot(df_nps.loc[df_nps['Minutos_Atraso'] > 0, 'Minutos_Atraso'])\n",
    "fig2.set(title='Gráfico 3: histograma apenas dos vôos com atraso.')\n",
    "plt.show()\n",
    "\n",
    "df_nps.loc[df_nps['Minutos_Atraso'] > 0][['Minutos_Atraso']].describe().T"
   ]
  },
  {
   "attachments": {},
   "cell_type": "markdown",
   "metadata": {},
   "source": [
    "Atrasos\n",
    "\n",
    "De todos os vôos, 1030 (aproximadamente 37%) registraram atrasos. Enquanto a metade dos atrasos foram de até 11 minutos, também houveram atrasos de 275 minutos. Essa variável é promissora na análise de NPS, dada a alta frequência de atrasos."
   ]
  },
  {
   "cell_type": "code",
   "execution_count": 235,
   "metadata": {},
   "outputs": [
    {
     "data": {
      "image/png": "[encoded data removed]",
      "text/plain": [
       "<Figure size 432x288 with 1 Axes>"
      ]
     },
     "metadata": {
      "needs_background": "light"
     },
     "output_type": "display_data"
    },
    {
     "data": {
      "text/html": [
       "<div>\n",
       "<style scoped>\n",
       "    .dataframe tbody tr th:only-of-type {\n",
       "        vertical-align: middle;\n",
       "    }\n",
       "\n",
       "    .dataframe tbody tr th {\n",
       "        vertical-align: top;\n",
       "    }\n",
       "\n",
       "    .dataframe thead th {\n",
       "        text-align: right;\n",
       "    }\n",
       "</style>\n",
       "<table border=\"1\" class=\"dataframe\">\n",
       "  <thead>\n",
       "    <tr style=\"text-align: right;\">\n",
       "      <th></th>\n",
       "      <th>count</th>\n",
       "      <th>mean</th>\n",
       "      <th>std</th>\n",
       "      <th>min</th>\n",
       "      <th>25%</th>\n",
       "      <th>50%</th>\n",
       "      <th>75%</th>\n",
       "      <th>max</th>\n",
       "    </tr>\n",
       "  </thead>\n",
       "  <tbody>\n",
       "    <tr>\n",
       "      <th>Tempo_Voo</th>\n",
       "      <td>2870.0</td>\n",
       "      <td>192.906272</td>\n",
       "      <td>174.611831</td>\n",
       "      <td>10.0</td>\n",
       "      <td>80.0</td>\n",
       "      <td>115.0</td>\n",
       "      <td>255.0</td>\n",
       "      <td>1965.0</td>\n",
       "    </tr>\n",
       "  </tbody>\n",
       "</table>\n",
       "</div>"
      ],
      "text/plain": [
       "            count        mean         std   min   25%    50%    75%     max\n",
       "Tempo_Voo  2870.0  192.906272  174.611831  10.0  80.0  115.0  255.0  1965.0"
      ]
     },
     "execution_count": 235,
     "metadata": {},
     "output_type": "execute_result"
    }
   ],
   "source": [
    "# Qual comportamento do tempo de vôo?\n",
    "fig1 = sns.histplot(df_nps['Tempo_Voo'])\n",
    "fig1.set(title='Gráfico 4: histograma do tempo de vôo.')\n",
    "plt.show()\n",
    "\n",
    "df_nps['Tempo_Voo'].describe().to_frame().T"
   ]
  },
  {
   "cell_type": "code",
   "execution_count": 249,
   "metadata": {},
   "outputs": [
    {
     "data": {
      "text/html": [
       "<div>\n",
       "<style scoped>\n",
       "    .dataframe tbody tr th:only-of-type {\n",
       "        vertical-align: middle;\n",
       "    }\n",
       "\n",
       "    .dataframe tbody tr th {\n",
       "        vertical-align: top;\n",
       "    }\n",
       "\n",
       "    .dataframe thead th {\n",
       "        text-align: right;\n",
       "    }\n",
       "</style>\n",
       "<table border=\"1\" class=\"dataframe\">\n",
       "  <thead>\n",
       "    <tr style=\"text-align: right;\">\n",
       "      <th></th>\n",
       "      <th>Id</th>\n",
       "      <th>Data_Voo</th>\n",
       "      <th>Minutos_Atraso</th>\n",
       "      <th>Tempo_Voo</th>\n",
       "      <th>AirportLegs</th>\n",
       "      <th>Equipamento_Tipo</th>\n",
       "      <th>Nota_Principal</th>\n",
       "      <th>Nota_CheckinWeb</th>\n",
       "      <th>Nota_CheckinMobile</th>\n",
       "      <th>Nota_Comissarios</th>\n",
       "      <th>...</th>\n",
       "      <th>O processo de check in web funcionou corretamente?</th>\n",
       "      <th>O processo de check in web foi simples?</th>\n",
       "      <th>O processo de check in pelo celular foi simples?</th>\n",
       "      <th>O processo de check in pelo celular funcionou corretamente?</th>\n",
       "      <th>O sistema de entretenimento apresentou algum problema durante o voo?</th>\n",
       "      <th>Qual foi o problema?</th>\n",
       "      <th>Foi oferecido fone a bordo?</th>\n",
       "      <th>O tempo de espera pela bagagem no destino foi satisfatório?</th>\n",
       "      <th>Você ficou satisfeito com as condições de sua bagagem na devolução?</th>\n",
       "      <th>Você ficou satisfeito com o atendimento em caso de dano/extravio?</th>\n",
       "    </tr>\n",
       "  </thead>\n",
       "  <tbody>\n",
       "    <tr>\n",
       "      <th>1745</th>\n",
       "      <td>1887425</td>\n",
       "      <td>2022-04-17 00:00:00</td>\n",
       "      <td>0.0</td>\n",
       "      <td>-790</td>\n",
       "      <td>JDO/PNZ/VCP/CWB/IGU</td>\n",
       "      <td>Embraer</td>\n",
       "      <td>10</td>\n",
       "      <td>NaN</td>\n",
       "      <td>NaN</td>\n",
       "      <td>10.0</td>\n",
       "      <td>...</td>\n",
       "      <td>NaN</td>\n",
       "      <td>NaN</td>\n",
       "      <td>NaN</td>\n",
       "      <td>NaN</td>\n",
       "      <td>Não</td>\n",
       "      <td>NaN</td>\n",
       "      <td>Não</td>\n",
       "      <td>Sim</td>\n",
       "      <td>Não</td>\n",
       "      <td>Não</td>\n",
       "    </tr>\n",
       "    <tr>\n",
       "      <th>2627</th>\n",
       "      <td>1905642</td>\n",
       "      <td>2022-06-12 00:00:00</td>\n",
       "      <td>NaN</td>\n",
       "      <td>0</td>\n",
       "      <td>FOR/SLZ</td>\n",
       "      <td>A320</td>\n",
       "      <td>10</td>\n",
       "      <td>10.0</td>\n",
       "      <td>NaN</td>\n",
       "      <td>10.0</td>\n",
       "      <td>...</td>\n",
       "      <td>Sim</td>\n",
       "      <td>Sim</td>\n",
       "      <td>NaN</td>\n",
       "      <td>NaN</td>\n",
       "      <td>NaN</td>\n",
       "      <td>NaN</td>\n",
       "      <td>NaN</td>\n",
       "      <td>NaN</td>\n",
       "      <td>NaN</td>\n",
       "      <td>NaN</td>\n",
       "    </tr>\n",
       "  </tbody>\n",
       "</table>\n",
       "<p>2 rows × 22 columns</p>\n",
       "</div>"
      ],
      "text/plain": [
       "           Id             Data_Voo  Minutos_Atraso  Tempo_Voo  \\\n",
       "1745  1887425  2022-04-17 00:00:00             0.0       -790   \n",
       "2627  1905642  2022-06-12 00:00:00             NaN          0   \n",
       "\n",
       "              AirportLegs Equipamento_Tipo  Nota_Principal  Nota_CheckinWeb  \\\n",
       "1745  JDO/PNZ/VCP/CWB/IGU          Embraer              10              NaN   \n",
       "2627              FOR/SLZ             A320              10             10.0   \n",
       "\n",
       "      Nota_CheckinMobile  Nota_Comissarios  ...  \\\n",
       "1745                 NaN              10.0  ...   \n",
       "2627                 NaN              10.0  ...   \n",
       "\n",
       "      O processo de check in web funcionou corretamente?  \\\n",
       "1745                                                NaN    \n",
       "2627                                                Sim    \n",
       "\n",
       "      O processo de check in web foi simples?  \\\n",
       "1745                                      NaN   \n",
       "2627                                      Sim   \n",
       "\n",
       "     O processo de check in pelo celular foi simples?  \\\n",
       "1745                                              NaN   \n",
       "2627                                              NaN   \n",
       "\n",
       "     O processo de check in pelo celular funcionou corretamente?  \\\n",
       "1745                                                NaN            \n",
       "2627                                                NaN            \n",
       "\n",
       "     O sistema de entretenimento apresentou algum problema durante o voo?  \\\n",
       "1745                                                Não                     \n",
       "2627                                                NaN                     \n",
       "\n",
       "     Qual foi o problema? Foi oferecido fone a bordo?  \\\n",
       "1745                  NaN                         Não   \n",
       "2627                  NaN                         NaN   \n",
       "\n",
       "     O tempo de espera pela bagagem no destino foi satisfatório?  \\\n",
       "1745                                                Sim            \n",
       "2627                                                NaN            \n",
       "\n",
       "     Você ficou satisfeito com as condições de sua bagagem na devolução?  \\\n",
       "1745                                                Não                    \n",
       "2627                                                NaN                    \n",
       "\n",
       "     Você ficou satisfeito com o atendimento em caso de dano/extravio?  \n",
       "1745                                                Não                 \n",
       "2627                                                NaN                 \n",
       "\n",
       "[2 rows x 22 columns]"
      ]
     },
     "execution_count": 249,
     "metadata": {},
     "output_type": "execute_result"
    }
   ],
   "source": [
    "# Como pode existir um tempo de vôo negativo?\n",
    "df_nps_raw.loc[df_nps_raw['Tempo_Voo'] <= 0]\n",
    "\n",
    "# obs: verificação na base original (df_nps_raw), dado que na base processada esse caso já foi removido."
   ]
  },
  {
   "cell_type": "code",
   "execution_count": 250,
   "metadata": {},
   "outputs": [
    {
     "data": {
      "text/html": [
       "<div>\n",
       "<style scoped>\n",
       "    .dataframe tbody tr th:only-of-type {\n",
       "        vertical-align: middle;\n",
       "    }\n",
       "\n",
       "    .dataframe tbody tr th {\n",
       "        vertical-align: top;\n",
       "    }\n",
       "\n",
       "    .dataframe thead th {\n",
       "        text-align: right;\n",
       "    }\n",
       "</style>\n",
       "<table border=\"1\" class=\"dataframe\">\n",
       "  <thead>\n",
       "    <tr style=\"text-align: right;\">\n",
       "      <th></th>\n",
       "      <th>Id</th>\n",
       "      <th>Data_Voo</th>\n",
       "      <th>Minutos_Atraso</th>\n",
       "      <th>Tempo_Voo</th>\n",
       "      <th>AirportLegs</th>\n",
       "      <th>Equipamento_Tipo</th>\n",
       "      <th>Nota_Principal</th>\n",
       "      <th>Nota_CheckinWeb</th>\n",
       "      <th>Nota_CheckinMobile</th>\n",
       "      <th>Nota_Comissarios</th>\n",
       "      <th>...</th>\n",
       "      <th>O processo de check in pelo celular foi simples?</th>\n",
       "      <th>O processo de check in pelo celular funcionou corretamente?</th>\n",
       "      <th>O sistema de entretenimento apresentou algum problema durante o voo?</th>\n",
       "      <th>Qual foi o problema?</th>\n",
       "      <th>Foi oferecido fone a bordo?</th>\n",
       "      <th>O tempo de espera pela bagagem no destino foi satisfatório?</th>\n",
       "      <th>Você ficou satisfeito com as condições de sua bagagem na devolução?</th>\n",
       "      <th>Você ficou satisfeito com o atendimento em caso de dano/extravio?</th>\n",
       "      <th>inconsistencia</th>\n",
       "      <th>mes</th>\n",
       "    </tr>\n",
       "  </thead>\n",
       "  <tbody>\n",
       "    <tr>\n",
       "      <th>1312</th>\n",
       "      <td>1853584</td>\n",
       "      <td>2022-03-22</td>\n",
       "      <td>0.0</td>\n",
       "      <td>10</td>\n",
       "      <td>FEN/REC</td>\n",
       "      <td>Embraer</td>\n",
       "      <td>10</td>\n",
       "      <td>NaN</td>\n",
       "      <td>10.0</td>\n",
       "      <td>10.0</td>\n",
       "      <td>...</td>\n",
       "      <td>Sim</td>\n",
       "      <td>Sim</td>\n",
       "      <td>Não</td>\n",
       "      <td>NaN</td>\n",
       "      <td>Sim</td>\n",
       "      <td>Sim</td>\n",
       "      <td>Sim</td>\n",
       "      <td>NaN</td>\n",
       "      <td>ok</td>\n",
       "      <td>2022-03-01</td>\n",
       "    </tr>\n",
       "  </tbody>\n",
       "</table>\n",
       "<p>1 rows × 24 columns</p>\n",
       "</div>"
      ],
      "text/plain": [
       "           Id   Data_Voo  Minutos_Atraso  Tempo_Voo AirportLegs  \\\n",
       "1312  1853584 2022-03-22             0.0         10     FEN/REC   \n",
       "\n",
       "     Equipamento_Tipo  Nota_Principal  Nota_CheckinWeb  Nota_CheckinMobile  \\\n",
       "1312          Embraer              10              NaN                10.0   \n",
       "\n",
       "      Nota_Comissarios  ...  O processo de check in pelo celular foi simples?  \\\n",
       "1312              10.0  ...                                               Sim   \n",
       "\n",
       "      O processo de check in pelo celular funcionou corretamente?  \\\n",
       "1312                                                Sim             \n",
       "\n",
       "     O sistema de entretenimento apresentou algum problema durante o voo?  \\\n",
       "1312                                                Não                     \n",
       "\n",
       "     Qual foi o problema? Foi oferecido fone a bordo?  \\\n",
       "1312                  NaN                         Sim   \n",
       "\n",
       "     O tempo de espera pela bagagem no destino foi satisfatório?  \\\n",
       "1312                                                Sim            \n",
       "\n",
       "     Você ficou satisfeito com as condições de sua bagagem na devolução?  \\\n",
       "1312                                                Sim                    \n",
       "\n",
       "     Você ficou satisfeito com o atendimento em caso de dano/extravio?  \\\n",
       "1312                                                NaN                  \n",
       "\n",
       "     inconsistencia         mes  \n",
       "1312             ok  2022-03-01  \n",
       "\n",
       "[1 rows x 24 columns]"
      ]
     },
     "execution_count": 250,
     "metadata": {},
     "output_type": "execute_result"
    }
   ],
   "source": [
    "# Qual vôo tem tempo de 10 minutos?\n",
    "df_nps.loc[df_nps['Tempo_Voo'] == df_nps['Tempo_Voo'].min()]"
   ]
  },
  {
   "attachments": {},
   "cell_type": "markdown",
   "metadata": {},
   "source": [
    "Duração\n",
    "\n",
    "A duração dos vôos é heterogênea, apresentando durações de 10 a 1965 minutos. Essa amostra, entretanto, parece conter problemas: a menor duração válida é de 10 minutos, partindo de Fernando de Noronha para Recife. Uma breve pesquisa na internet indica que esse trecho é coberto em aproximadamente 95 minuto pela própria Azul, que é muito mais crível que os 10 minutos presentes na amostra. Apesar de promissora, esse dado precisa ser levado com parcimônia."
   ]
  },
  {
   "cell_type": "code",
   "execution_count": 333,
   "metadata": {},
   "outputs": [
    {
     "data": {
      "text/plain": [
       "[SSA, VCP]    29\n",
       "[VCP, SDU]    29\n",
       "[CNF, SDU]    27\n",
       "[CWB, IGU]    25\n",
       "Name: list_airport, dtype: int64"
      ]
     },
     "execution_count": 333,
     "metadata": {},
     "output_type": "execute_result"
    }
   ],
   "source": [
    "# Qual é o comportamento dos Aeroportos?\n",
    "df_nps['list_airport'] = df_nps['AirportLegs'].str.split('/')\n",
    "df_nps['list_airport'].value_counts()[:4]"
   ]
  },
  {
   "cell_type": "code",
   "execution_count": 287,
   "metadata": {},
   "outputs": [
    {
     "name": "stdout",
     "output_type": "stream",
     "text": [
      "Top 5: [('VCP', 1045), ('CNF', 725), ('REC', 471), ('GRU', 373), ('POA', 372)]\n",
      "Bottom 5: [('FEC', 2), ('LAJ', 1), ('CFB', 1), ('VAL', 1), ('PHB', 1)]\n"
     ]
    }
   ],
   "source": [
    "# Quais são os aerportos mais visitados pela Azul?\n",
    "dict_airport = {}\n",
    "for i in df_nps['list_airport']:\n",
    "    for j in i:\n",
    "        if j not in dict_airport.keys():\n",
    "            dict_airport[j] = 1\n",
    "        else:\n",
    "            dict_airport[j] += 1\n",
    "\n",
    "ranking_airports = sorted(dict_airport.items(), key=lambda x:x[1], reverse=True)\n",
    "print(f\"Top 5: {ranking_airports[:5]}\")\n",
    "print(f\"Bottom 5: {ranking_airports[-5:]}\")"
   ]
  },
  {
   "attachments": {},
   "cell_type": "markdown",
   "metadata": {},
   "source": [
    "Aeroportos\n",
    "\n",
    "Os top 5 aeroportos mais visitados são:\n",
    "- VRP (ViraCopos, SP): 1045\n",
    "- CNF (Confins, MG): 725\n",
    "- REC (Recife/Guararapes, RE): 471\n",
    "- GRU (Guarulhos, SP): 373\n",
    "- POA (Porto Alegre, RS): 372\n",
    "\n",
    "Já os top 5 aeroportos menos visitados são:\n",
    "- FEC (Feira de Santana, BA): 1\n",
    "- LAJ (Lages, SC): 1\n",
    "- CFB (Cabo Frio, RJ): 1\n",
    "- VAL (Val de Cans, PA): 1\n",
    "- PHB (Parnaíba, PI): 1\n",
    "\n",
    "Faz sentido que a presença da Azul seja maior em Campinas, dada a localização de sua sede. Além disso, é possível que a alta frequência de vôos esteja correlacionada com o NPS, dado que se a Azul faz muitos vôos para determinado aeroporto, faz sentido alocar maior parcela de recursos, melhorando o serviço em geral. "
   ]
  },
  {
   "cell_type": "code",
   "execution_count": 282,
   "metadata": {},
   "outputs": [
    {
     "data": {
      "text/plain": [
       "Embraer         1635\n",
       "A320             404\n",
       "ATR              250\n",
       "Embraer-ATR      242\n",
       "Embraer-A320     207\n",
       "ATR-A320          94\n",
       "MISTO             18\n",
       "A330              11\n",
       "Embraer-A330       6\n",
       "ATR-A330           3\n",
       "Name: Equipamento_Tipo, dtype: int64"
      ]
     },
     "execution_count": 282,
     "metadata": {},
     "output_type": "execute_result"
    }
   ],
   "source": [
    "# Quais são as principais aeronaves usadas?\n",
    "df_nps['Equipamento_Tipo'].value_counts()"
   ]
  },
  {
   "attachments": {},
   "cell_type": "markdown",
   "metadata": {},
   "source": [
    "Equipamentos\n",
    "\n",
    "A grande maioria dos vôos conta com equipamentos da Embraer (principal), ATR e Airbus. Dos 1635 registros `Embraer`, entretanto, não é possível extrair mais detalhes da aeronave, o que pode camuflar comportamentos que ocorrem exclusivamente com determinados equipamentos."
   ]
  },
  {
   "cell_type": "code",
   "execution_count": 335,
   "metadata": {},
   "outputs": [
    {
     "data": {
      "image/png": "[encoded data removed]",
      "text/plain": [
       "<Figure size 432x288 with 1 Axes>"
      ]
     },
     "metadata": {
      "needs_background": "light"
     },
     "output_type": "display_data"
    },
    {
     "data": {
      "text/html": [
       "<div>\n",
       "<style scoped>\n",
       "    .dataframe tbody tr th:only-of-type {\n",
       "        vertical-align: middle;\n",
       "    }\n",
       "\n",
       "    .dataframe tbody tr th {\n",
       "        vertical-align: top;\n",
       "    }\n",
       "\n",
       "    .dataframe thead th {\n",
       "        text-align: right;\n",
       "    }\n",
       "</style>\n",
       "<table border=\"1\" class=\"dataframe\">\n",
       "  <thead>\n",
       "    <tr style=\"text-align: right;\">\n",
       "      <th></th>\n",
       "      <th>count</th>\n",
       "      <th>mean</th>\n",
       "      <th>std</th>\n",
       "      <th>min</th>\n",
       "      <th>25%</th>\n",
       "      <th>50%</th>\n",
       "      <th>75%</th>\n",
       "      <th>max</th>\n",
       "    </tr>\n",
       "  </thead>\n",
       "  <tbody>\n",
       "    <tr>\n",
       "      <th>Nota_Principal</th>\n",
       "      <td>2870.0</td>\n",
       "      <td>8.642857</td>\n",
       "      <td>2.36072</td>\n",
       "      <td>0.0</td>\n",
       "      <td>8.0</td>\n",
       "      <td>10.0</td>\n",
       "      <td>10.0</td>\n",
       "      <td>10.0</td>\n",
       "    </tr>\n",
       "  </tbody>\n",
       "</table>\n",
       "</div>"
      ],
      "text/plain": [
       "                 count      mean      std  min  25%   50%   75%   max\n",
       "Nota_Principal  2870.0  8.642857  2.36072  0.0  8.0  10.0  10.0  10.0"
      ]
     },
     "execution_count": 335,
     "metadata": {},
     "output_type": "execute_result"
    }
   ],
   "source": [
    "# NPS em geral.\n",
    "df_plot = df_nps['Nota_Principal'].value_counts().reset_index().sort_values('index', ascending=False)\n",
    "df_plot.columns = ['nota', 'qtd']\n",
    "\n",
    "fig = sns.barplot(data=df_plot, x='nota', y='qtd')\n",
    "fig.set(title='Gráfico 5: distribuição das notas no 1º semestre de 2022.')\n",
    "plt.show()\n",
    "\n",
    "df_nps['Nota_Principal'].describe().to_frame().T"
   ]
  },
  {
   "cell_type": "code",
   "execution_count": 340,
   "metadata": {},
   "outputs": [
    {
     "name": "stdout",
     "output_type": "stream",
     "text": [
      "Quantidade de notas principais: 2870\n"
     ]
    }
   ],
   "source": [
    "# Temos nota principal em todas os vôos?\n",
    "print(f\"Quantidade de notas principais: {df_nps.loc[df_nps['Nota_Principal'].notnull()].shape[0]}\")"
   ]
  },
  {
   "cell_type": "code",
   "execution_count": 422,
   "metadata": {},
   "outputs": [],
   "source": [
    "def calcular_nps(df, coluna):\n",
    "    # Definição de perfil de votos por vôo.\n",
    "    df['perfil_cliente'] = np.select(\n",
    "        [\n",
    "            df[coluna] <= 6,\n",
    "            df[coluna].between(7, 8),\n",
    "            df[coluna] >= 9,\n",
    "        ],\n",
    "        [\n",
    "            'detrator',\n",
    "            'neutro',\n",
    "            'promotor'\n",
    "        ], '?'\n",
    "    )\n",
    "\n",
    "    # Cálculo de NPS por mês.\n",
    "    df_mes = pd.pivot_table(data=df, values='Id', index='mes', columns='perfil_cliente', aggfunc='count', margins=True, margins_name='total').reset_index(drop=False).iloc[:-1, :]\n",
    "    df_mes['nps'] = (df_mes['promotor'] - df_mes['detrator'])/df_mes['total']\n",
    "\n",
    "    return df_mes"
   ]
  },
  {
   "cell_type": "code",
   "execution_count": 428,
   "metadata": {},
   "outputs": [
    {
     "data": {
      "image/png": "[encoded data removed]",
      "text/plain": [
       "<Figure size 432x288 with 1 Axes>"
      ]
     },
     "metadata": {
      "needs_background": "light"
     },
     "output_type": "display_data"
    }
   ],
   "source": [
    "# Tabela contendo o nps calculado manualmente.\n",
    "df_nps_mes = calcular_nps(df_nps, 'Nota_Principal')\n",
    "\n",
    "fig = sns.lineplot(data=df_nps_mes, x='mes', y='nps')\n",
    "fig.set(title='Gráfico 6: NPS mensal', ylim=(0,1))\n",
    "plt.show()"
   ]
  },
  {
   "attachments": {},
   "cell_type": "markdown",
   "metadata": {},
   "source": [
    "NPS mensal\n",
    "\n",
    "As notas de NPS não batem na vírgula com os valores apresentados no Excel pois os casos com inconsistências foram desconsideradas. Apesar disso, o comportamento temporal de crescimentos e quedas se manteve.\n",
    "\n",
    "![nps original](nps.PNG)"
   ]
  },
  {
   "cell_type": "code",
   "execution_count": 366,
   "metadata": {},
   "outputs": [
    {
     "name": "stdout",
     "output_type": "stream",
     "text": [
      "Quantas pessoas deram nota ambos para o Checkin Web e Mobile: 2\n"
     ]
    }
   ],
   "source": [
    "# Será que alguém deu nota ambos para o Checkin Web e Mobile?\n",
    "print(f\"Quantas pessoas deram nota ambos para o Checkin Web e Mobile: {df_nps.loc[(df_nps['Nota_CheckinWeb'].notnull()) & (df_nps['Nota_CheckinMobile'].notnull())].shape[0]}\")\n",
    "\n",
    "# obs: é possível supor que a pessoa se enganou e acabou preenchendo duas vezes. Nesses casos, consdervadoramente, será considerada a menor nota."
   ]
  },
  {
   "cell_type": "code",
   "execution_count": 429,
   "metadata": {},
   "outputs": [
    {
     "data": {
      "image/png": "[encoded data removed]",
      "text/plain": [
       "<Figure size 432x288 with 1 Axes>"
      ]
     },
     "metadata": {
      "needs_background": "light"
     },
     "output_type": "display_data"
    },
    {
     "data": {
      "text/html": [
       "<div>\n",
       "<style scoped>\n",
       "    .dataframe tbody tr th:only-of-type {\n",
       "        vertical-align: middle;\n",
       "    }\n",
       "\n",
       "    .dataframe tbody tr th {\n",
       "        vertical-align: top;\n",
       "    }\n",
       "\n",
       "    .dataframe thead th {\n",
       "        text-align: right;\n",
       "    }\n",
       "</style>\n",
       "<table border=\"1\" class=\"dataframe\">\n",
       "  <thead>\n",
       "    <tr style=\"text-align: right;\">\n",
       "      <th></th>\n",
       "      <th>NaN</th>\n",
       "      <th>10.0</th>\n",
       "      <th>9.0</th>\n",
       "      <th>8.0</th>\n",
       "      <th>7.0</th>\n",
       "      <th>5.0</th>\n",
       "      <th>6.0</th>\n",
       "      <th>0.0</th>\n",
       "      <th>3.0</th>\n",
       "      <th>4.0</th>\n",
       "      <th>1.0</th>\n",
       "      <th>2.0</th>\n",
       "    </tr>\n",
       "  </thead>\n",
       "  <tbody>\n",
       "    <tr>\n",
       "      <th>checkin</th>\n",
       "      <td>1148</td>\n",
       "      <td>1130</td>\n",
       "      <td>276</td>\n",
       "      <td>144</td>\n",
       "      <td>48</td>\n",
       "      <td>33</td>\n",
       "      <td>32</td>\n",
       "      <td>26</td>\n",
       "      <td>14</td>\n",
       "      <td>11</td>\n",
       "      <td>7</td>\n",
       "      <td>1</td>\n",
       "    </tr>\n",
       "  </tbody>\n",
       "</table>\n",
       "</div>"
      ],
      "text/plain": [
       "         NaN   10.0  9.0   8.0   7.0   5.0   6.0   0.0   3.0   4.0   1.0   \\\n",
       "checkin  1148  1130   276   144    48    33    32    26    14    11     7   \n",
       "\n",
       "         2.0   \n",
       "checkin     1  "
      ]
     },
     "execution_count": 429,
     "metadata": {},
     "output_type": "execute_result"
    }
   ],
   "source": [
    "# Unificando as notas de Checkin Web e Mobile\n",
    "df_nps['checkin'] = np.where(df_nps['Nota_CheckinMobile'].isnull(), df_nps['Nota_CheckinWeb'], df_nps['Nota_CheckinMobile'])\n",
    "\n",
    "# Aplicando a regra da menornota.\n",
    "for index, row in df_nps.iterrows():\n",
    "    if (pd.isnull(row['Nota_CheckinWeb'])) & (pd.isnull(row['Nota_CheckinMobile'])):\n",
    "        valor = np.min([row['Nota_CheckinWeb'], row['Nota_CheckinMobile']])\n",
    "        df_nps.at[index, 'checkin'] = valor\n",
    "\n",
    "fig = sns.histplot(df_nps['checkin'])\n",
    "fig.set(title='Gráfico 7: histograma nas notas de Checkin')\n",
    "plt.show()\n",
    "\n",
    "df_nps['checkin'].value_counts(dropna=False).to_frame().T"
   ]
  },
  {
   "cell_type": "code",
   "execution_count": 410,
   "metadata": {},
   "outputs": [
    {
     "name": "stdout",
     "output_type": "stream",
     "text": [
      "Quem respondeu nota, mas não as outras perguntas\n"
     ]
    },
    {
     "data": {
      "text/html": [
       "<div>\n",
       "<style scoped>\n",
       "    .dataframe tbody tr th:only-of-type {\n",
       "        vertical-align: middle;\n",
       "    }\n",
       "\n",
       "    .dataframe tbody tr th {\n",
       "        vertical-align: top;\n",
       "    }\n",
       "\n",
       "    .dataframe thead th {\n",
       "        text-align: right;\n",
       "    }\n",
       "</style>\n",
       "<table border=\"1\" class=\"dataframe\">\n",
       "  <thead>\n",
       "    <tr style=\"text-align: right;\">\n",
       "      <th></th>\n",
       "      <th>Nota_CheckinWeb</th>\n",
       "      <th>O processo de check in web funcionou corretamente?</th>\n",
       "      <th>O processo de check in web foi simples?</th>\n",
       "    </tr>\n",
       "  </thead>\n",
       "  <tbody>\n",
       "    <tr>\n",
       "      <th>105</th>\n",
       "      <td>9.0</td>\n",
       "      <td>NaN</td>\n",
       "      <td>NaN</td>\n",
       "    </tr>\n",
       "    <tr>\n",
       "      <th>981</th>\n",
       "      <td>10.0</td>\n",
       "      <td>NaN</td>\n",
       "      <td>NaN</td>\n",
       "    </tr>\n",
       "    <tr>\n",
       "      <th>1263</th>\n",
       "      <td>9.0</td>\n",
       "      <td>NaN</td>\n",
       "      <td>NaN</td>\n",
       "    </tr>\n",
       "    <tr>\n",
       "      <th>2469</th>\n",
       "      <td>10.0</td>\n",
       "      <td>NaN</td>\n",
       "      <td>NaN</td>\n",
       "    </tr>\n",
       "  </tbody>\n",
       "</table>\n",
       "</div>"
      ],
      "text/plain": [
       "      Nota_CheckinWeb O processo de check in web funcionou corretamente?  \\\n",
       "105               9.0                                                NaN   \n",
       "981              10.0                                                NaN   \n",
       "1263              9.0                                                NaN   \n",
       "2469             10.0                                                NaN   \n",
       "\n",
       "     O processo de check in web foi simples?  \n",
       "105                                      NaN  \n",
       "981                                      NaN  \n",
       "1263                                     NaN  \n",
       "2469                                     NaN  "
      ]
     },
     "metadata": {},
     "output_type": "display_data"
    },
    {
     "name": "stdout",
     "output_type": "stream",
     "text": [
      "Quem não respondeu nota, mas sim as outras perguntas\n"
     ]
    },
    {
     "data": {
      "text/html": [
       "<div>\n",
       "<style scoped>\n",
       "    .dataframe tbody tr th:only-of-type {\n",
       "        vertical-align: middle;\n",
       "    }\n",
       "\n",
       "    .dataframe tbody tr th {\n",
       "        vertical-align: top;\n",
       "    }\n",
       "\n",
       "    .dataframe thead th {\n",
       "        text-align: right;\n",
       "    }\n",
       "</style>\n",
       "<table border=\"1\" class=\"dataframe\">\n",
       "  <thead>\n",
       "    <tr style=\"text-align: right;\">\n",
       "      <th></th>\n",
       "      <th>Nota_CheckinWeb</th>\n",
       "      <th>O processo de check in web funcionou corretamente?</th>\n",
       "      <th>O processo de check in web foi simples?</th>\n",
       "    </tr>\n",
       "  </thead>\n",
       "  <tbody>\n",
       "  </tbody>\n",
       "</table>\n",
       "</div>"
      ],
      "text/plain": [
       "Empty DataFrame\n",
       "Columns: [Nota_CheckinWeb, O processo de check in web funcionou corretamente?, O processo de check in web foi simples?]\n",
       "Index: []"
      ]
     },
     "metadata": {},
     "output_type": "display_data"
    }
   ],
   "source": [
    "# Quem deu nota do Checkn Web também respondeu sobre simplicidade e funcionamento?\n",
    "print('Quem respondeu nota, mas não as outras perguntas')\n",
    "display(df_nps.loc[\n",
    "    (df_nps['Nota_CheckinWeb'].notnull()) &\\\n",
    "    (df_nps['O processo de check in web funcionou corretamente?'].isnull()) &\\\n",
    "    (df_nps['O processo de check in web foi simples?'].isnull())\n",
    "][['Nota_CheckinWeb', 'O processo de check in web funcionou corretamente?', 'O processo de check in web foi simples?']])\n",
    "\n",
    "print('Quem não respondeu nota, mas sim as outras perguntas')\n",
    "display(df_nps.loc[\n",
    "    (df_nps['Nota_CheckinWeb'].isnull()) &\\\n",
    "    (df_nps['O processo de check in web funcionou corretamente?'].notnull()) &\\\n",
    "    (df_nps['O processo de check in web foi simples?'].notnull())\n",
    "][['Nota_CheckinWeb', 'O processo de check in web funcionou corretamente?', 'O processo de check in web foi simples?']]\n",
    ")"
   ]
  },
  {
   "cell_type": "code",
   "execution_count": 414,
   "metadata": {},
   "outputs": [
    {
     "name": "stdout",
     "output_type": "stream",
     "text": [
      "Quem respondeu nota, mas não as outras perguntas\n"
     ]
    },
    {
     "data": {
      "text/html": [
       "<div>\n",
       "<style scoped>\n",
       "    .dataframe tbody tr th:only-of-type {\n",
       "        vertical-align: middle;\n",
       "    }\n",
       "\n",
       "    .dataframe tbody tr th {\n",
       "        vertical-align: top;\n",
       "    }\n",
       "\n",
       "    .dataframe thead th {\n",
       "        text-align: right;\n",
       "    }\n",
       "</style>\n",
       "<table border=\"1\" class=\"dataframe\">\n",
       "  <thead>\n",
       "    <tr style=\"text-align: right;\">\n",
       "      <th></th>\n",
       "      <th>Nota_CheckinMobile</th>\n",
       "      <th>O processo de check in pelo celular funcionou corretamente?</th>\n",
       "      <th>O processo de check in pelo celular foi simples?</th>\n",
       "    </tr>\n",
       "  </thead>\n",
       "  <tbody>\n",
       "    <tr>\n",
       "      <th>842</th>\n",
       "      <td>9.0</td>\n",
       "      <td>NaN</td>\n",
       "      <td>NaN</td>\n",
       "    </tr>\n",
       "    <tr>\n",
       "      <th>843</th>\n",
       "      <td>10.0</td>\n",
       "      <td>NaN</td>\n",
       "      <td>NaN</td>\n",
       "    </tr>\n",
       "    <tr>\n",
       "      <th>889</th>\n",
       "      <td>10.0</td>\n",
       "      <td>NaN</td>\n",
       "      <td>NaN</td>\n",
       "    </tr>\n",
       "    <tr>\n",
       "      <th>1315</th>\n",
       "      <td>0.0</td>\n",
       "      <td>NaN</td>\n",
       "      <td>NaN</td>\n",
       "    </tr>\n",
       "    <tr>\n",
       "      <th>2496</th>\n",
       "      <td>9.0</td>\n",
       "      <td>NaN</td>\n",
       "      <td>NaN</td>\n",
       "    </tr>\n",
       "    <tr>\n",
       "      <th>2810</th>\n",
       "      <td>6.0</td>\n",
       "      <td>NaN</td>\n",
       "      <td>NaN</td>\n",
       "    </tr>\n",
       "  </tbody>\n",
       "</table>\n",
       "</div>"
      ],
      "text/plain": [
       "      Nota_CheckinMobile  \\\n",
       "842                  9.0   \n",
       "843                 10.0   \n",
       "889                 10.0   \n",
       "1315                 0.0   \n",
       "2496                 9.0   \n",
       "2810                 6.0   \n",
       "\n",
       "     O processo de check in pelo celular funcionou corretamente?  \\\n",
       "842                                                 NaN            \n",
       "843                                                 NaN            \n",
       "889                                                 NaN            \n",
       "1315                                                NaN            \n",
       "2496                                                NaN            \n",
       "2810                                                NaN            \n",
       "\n",
       "     O processo de check in pelo celular foi simples?  \n",
       "842                                               NaN  \n",
       "843                                               NaN  \n",
       "889                                               NaN  \n",
       "1315                                              NaN  \n",
       "2496                                              NaN  \n",
       "2810                                              NaN  "
      ]
     },
     "metadata": {},
     "output_type": "display_data"
    },
    {
     "name": "stdout",
     "output_type": "stream",
     "text": [
      "Quem não respondeu nota, mas sim as outras perguntas\n"
     ]
    },
    {
     "data": {
      "text/html": [
       "<div>\n",
       "<style scoped>\n",
       "    .dataframe tbody tr th:only-of-type {\n",
       "        vertical-align: middle;\n",
       "    }\n",
       "\n",
       "    .dataframe tbody tr th {\n",
       "        vertical-align: top;\n",
       "    }\n",
       "\n",
       "    .dataframe thead th {\n",
       "        text-align: right;\n",
       "    }\n",
       "</style>\n",
       "<table border=\"1\" class=\"dataframe\">\n",
       "  <thead>\n",
       "    <tr style=\"text-align: right;\">\n",
       "      <th></th>\n",
       "      <th>Nota_CheckinMobile</th>\n",
       "      <th>O processo de check in pelo celular funcionou corretamente?</th>\n",
       "      <th>O processo de check in pelo celular foi simples?</th>\n",
       "    </tr>\n",
       "  </thead>\n",
       "  <tbody>\n",
       "  </tbody>\n",
       "</table>\n",
       "</div>"
      ],
      "text/plain": [
       "Empty DataFrame\n",
       "Columns: [Nota_CheckinMobile, O processo de check in pelo celular funcionou corretamente?, O processo de check in pelo celular foi simples?]\n",
       "Index: []"
      ]
     },
     "metadata": {},
     "output_type": "display_data"
    }
   ],
   "source": [
    "# Quem deu nota do Checkn Mobile também respondeu sobre simplicidade e funcionamento?\n",
    "print('Quem respondeu nota, mas não as outras perguntas')\n",
    "display(df_nps.loc[\n",
    "    (df_nps['Nota_CheckinMobile'].notnull()) &\\\n",
    "    (df_nps['O processo de check in pelo celular funcionou corretamente?'].isnull()) &\\\n",
    "    (df_nps['O processo de check in pelo celular foi simples?'].isnull())\n",
    "][['Nota_CheckinMobile', 'O processo de check in pelo celular funcionou corretamente?', 'O processo de check in pelo celular foi simples?']])\n",
    "\n",
    "print('Quem não respondeu nota, mas sim as outras perguntas')\n",
    "display(df_nps.loc[\n",
    "    (df_nps['Nota_CheckinMobile'].isnull()) &\\\n",
    "    (df_nps['O processo de check in pelo celular funcionou corretamente?'].notnull()) &\\\n",
    "    (df_nps['O processo de check in pelo celular foi simples?'].notnull())\n",
    "][['Nota_CheckinMobile', 'O processo de check in pelo celular funcionou corretamente?', 'O processo de check in pelo celular foi simples?']]\n",
    ")"
   ]
  },
  {
   "attachments": {},
   "cell_type": "markdown",
   "metadata": {},
   "source": [
    "Checkin\n",
    "\n",
    "Temos praticamente 55% de respondentes sobre o Checkin, sendo que praticamente todos também responderam as perguntas sobre o funcionamento e a simplicidade de uso do Checkin. "
   ]
  },
  {
   "cell_type": "code",
   "execution_count": 421,
   "metadata": {},
   "outputs": [
    {
     "data": {
      "text/html": [
       "<div>\n",
       "<style scoped>\n",
       "    .dataframe tbody tr th:only-of-type {\n",
       "        vertical-align: middle;\n",
       "    }\n",
       "\n",
       "    .dataframe tbody tr th {\n",
       "        vertical-align: top;\n",
       "    }\n",
       "\n",
       "    .dataframe thead th {\n",
       "        text-align: right;\n",
       "    }\n",
       "</style>\n",
       "<table border=\"1\" class=\"dataframe\">\n",
       "  <thead>\n",
       "    <tr style=\"text-align: right;\">\n",
       "      <th></th>\n",
       "      <th>Nota_Principal</th>\n",
       "      <th>checkin</th>\n",
       "      <th>Nota_Comissarios</th>\n",
       "      <th>Nota_Entretenimento</th>\n",
       "      <th>Nota_Bagagem</th>\n",
       "    </tr>\n",
       "  </thead>\n",
       "  <tbody>\n",
       "    <tr>\n",
       "      <th>count</th>\n",
       "      <td>2870.00</td>\n",
       "      <td>1722.00</td>\n",
       "      <td>2738.00</td>\n",
       "      <td>1377.00</td>\n",
       "      <td>1260.00</td>\n",
       "    </tr>\n",
       "    <tr>\n",
       "      <th>mean</th>\n",
       "      <td>8.64</td>\n",
       "      <td>9.13</td>\n",
       "      <td>9.32</td>\n",
       "      <td>8.76</td>\n",
       "      <td>8.17</td>\n",
       "    </tr>\n",
       "    <tr>\n",
       "      <th>std</th>\n",
       "      <td>2.36</td>\n",
       "      <td>1.81</td>\n",
       "      <td>1.43</td>\n",
       "      <td>1.92</td>\n",
       "      <td>2.51</td>\n",
       "    </tr>\n",
       "    <tr>\n",
       "      <th>min</th>\n",
       "      <td>0.00</td>\n",
       "      <td>0.00</td>\n",
       "      <td>0.00</td>\n",
       "      <td>0.00</td>\n",
       "      <td>0.00</td>\n",
       "    </tr>\n",
       "    <tr>\n",
       "      <th>25%</th>\n",
       "      <td>8.00</td>\n",
       "      <td>9.00</td>\n",
       "      <td>9.00</td>\n",
       "      <td>8.00</td>\n",
       "      <td>8.00</td>\n",
       "    </tr>\n",
       "    <tr>\n",
       "      <th>50%</th>\n",
       "      <td>10.00</td>\n",
       "      <td>10.00</td>\n",
       "      <td>10.00</td>\n",
       "      <td>10.00</td>\n",
       "      <td>9.00</td>\n",
       "    </tr>\n",
       "    <tr>\n",
       "      <th>75%</th>\n",
       "      <td>10.00</td>\n",
       "      <td>10.00</td>\n",
       "      <td>10.00</td>\n",
       "      <td>10.00</td>\n",
       "      <td>10.00</td>\n",
       "    </tr>\n",
       "    <tr>\n",
       "      <th>max</th>\n",
       "      <td>10.00</td>\n",
       "      <td>10.00</td>\n",
       "      <td>10.00</td>\n",
       "      <td>10.00</td>\n",
       "      <td>10.00</td>\n",
       "    </tr>\n",
       "  </tbody>\n",
       "</table>\n",
       "</div>"
      ],
      "text/plain": [
       "       Nota_Principal  checkin  Nota_Comissarios  Nota_Entretenimento  \\\n",
       "count         2870.00  1722.00           2738.00              1377.00   \n",
       "mean             8.64     9.13              9.32                 8.76   \n",
       "std              2.36     1.81              1.43                 1.92   \n",
       "min              0.00     0.00              0.00                 0.00   \n",
       "25%              8.00     9.00              9.00                 8.00   \n",
       "50%             10.00    10.00             10.00                10.00   \n",
       "75%             10.00    10.00             10.00                10.00   \n",
       "max             10.00    10.00             10.00                10.00   \n",
       "\n",
       "       Nota_Bagagem  \n",
       "count       1260.00  \n",
       "mean           8.17  \n",
       "std            2.51  \n",
       "min            0.00  \n",
       "25%            8.00  \n",
       "50%            9.00  \n",
       "75%           10.00  \n",
       "max           10.00  "
      ]
     },
     "execution_count": 421,
     "metadata": {},
     "output_type": "execute_result"
    }
   ],
   "source": [
    "# Como estão as notas de forma geral?\n",
    "df_nps[['Nota_Principal', 'checkin', 'Nota_Comissarios', 'Nota_Entretenimento', 'Nota_Bagagem']].describe().round(2)"
   ]
  },
  {
   "cell_type": "code",
   "execution_count": 446,
   "metadata": {},
   "outputs": [
    {
     "data": {
      "text/html": [
       "<div>\n",
       "<style scoped>\n",
       "    .dataframe tbody tr th:only-of-type {\n",
       "        vertical-align: middle;\n",
       "    }\n",
       "\n",
       "    .dataframe tbody tr th {\n",
       "        vertical-align: top;\n",
       "    }\n",
       "\n",
       "    .dataframe thead th {\n",
       "        text-align: right;\n",
       "    }\n",
       "</style>\n",
       "<table border=\"1\" class=\"dataframe\">\n",
       "  <thead>\n",
       "    <tr style=\"text-align: right;\">\n",
       "      <th>perfil_cliente</th>\n",
       "      <th>mes</th>\n",
       "      <th>nps</th>\n",
       "      <th>checkin</th>\n",
       "      <th>comissario</th>\n",
       "      <th>entretenimento</th>\n",
       "      <th>bagagem</th>\n",
       "    </tr>\n",
       "  </thead>\n",
       "  <tbody>\n",
       "    <tr>\n",
       "      <th>0</th>\n",
       "      <td>2022-01-01</td>\n",
       "      <td>0.619224</td>\n",
       "      <td>0.460259</td>\n",
       "      <td>0.813309</td>\n",
       "      <td>0.264325</td>\n",
       "      <td>0.194085</td>\n",
       "    </tr>\n",
       "    <tr>\n",
       "      <th>1</th>\n",
       "      <td>2022-02-01</td>\n",
       "      <td>0.609877</td>\n",
       "      <td>0.429630</td>\n",
       "      <td>0.770370</td>\n",
       "      <td>0.301235</td>\n",
       "      <td>0.150617</td>\n",
       "    </tr>\n",
       "    <tr>\n",
       "      <th>2</th>\n",
       "      <td>2022-03-01</td>\n",
       "      <td>0.622642</td>\n",
       "      <td>0.466038</td>\n",
       "      <td>0.762264</td>\n",
       "      <td>0.322642</td>\n",
       "      <td>0.175472</td>\n",
       "    </tr>\n",
       "    <tr>\n",
       "      <th>3</th>\n",
       "      <td>2022-04-01</td>\n",
       "      <td>0.600868</td>\n",
       "      <td>0.462039</td>\n",
       "      <td>0.772234</td>\n",
       "      <td>0.279826</td>\n",
       "      <td>0.214751</td>\n",
       "    </tr>\n",
       "    <tr>\n",
       "      <th>4</th>\n",
       "      <td>2022-05-01</td>\n",
       "      <td>0.572797</td>\n",
       "      <td>0.434866</td>\n",
       "      <td>0.749042</td>\n",
       "      <td>0.272031</td>\n",
       "      <td>0.180077</td>\n",
       "    </tr>\n",
       "    <tr>\n",
       "      <th>5</th>\n",
       "      <td>2022-06-01</td>\n",
       "      <td>0.542579</td>\n",
       "      <td>0.418491</td>\n",
       "      <td>0.739659</td>\n",
       "      <td>0.284672</td>\n",
       "      <td>0.209246</td>\n",
       "    </tr>\n",
       "  </tbody>\n",
       "</table>\n",
       "</div>"
      ],
      "text/plain": [
       "perfil_cliente         mes       nps   checkin  comissario  entretenimento  \\\n",
       "0               2022-01-01  0.619224  0.460259    0.813309        0.264325   \n",
       "1               2022-02-01  0.609877  0.429630    0.770370        0.301235   \n",
       "2               2022-03-01  0.622642  0.466038    0.762264        0.322642   \n",
       "3               2022-04-01  0.600868  0.462039    0.772234        0.279826   \n",
       "4               2022-05-01  0.572797  0.434866    0.749042        0.272031   \n",
       "5               2022-06-01  0.542579  0.418491    0.739659        0.284672   \n",
       "\n",
       "perfil_cliente   bagagem  \n",
       "0               0.194085  \n",
       "1               0.150617  \n",
       "2               0.175472  \n",
       "3               0.214751  \n",
       "4               0.180077  \n",
       "5               0.209246  "
      ]
     },
     "execution_count": 446,
     "metadata": {},
     "output_type": "execute_result"
    }
   ],
   "source": [
    "# Unificar os NPS de cada categoria\n",
    "df_checkin = calcular_nps(df_nps, 'checkin')\n",
    "df_comissar = calcular_nps(df_nps, 'Nota_Comissarios')\n",
    "df_entrete = calcular_nps(df_nps, 'Nota_Entretenimento')\n",
    "df_bag = calcular_nps(df_nps, 'Nota_Bagagem')\n",
    "\n",
    "df_nps_merge = df_nps_mes\n",
    "df_nps_merge = pd.merge(df_nps_merge[['mes', 'nps']], df_checkin[['mes', 'nps']].rename(columns={'nps':'checkin'}), on='mes', how='left')\n",
    "df_nps_merge = pd.merge(df_nps_merge[['mes', 'nps', 'checkin']], df_comissar[['mes', 'nps']].rename(columns={'nps':'comissario'}), on='mes', how='left')\n",
    "df_nps_merge = pd.merge(df_nps_merge[['mes', 'nps', 'checkin', 'comissario']], df_entrete[['mes', 'nps']].rename(columns={'nps':'entretenimento'}), on='mes', how='left')\n",
    "df_nps_merge = pd.merge(df_nps_merge[['mes', 'nps', 'checkin', 'comissario', 'entretenimento']], df_bag[['mes', 'nps']].rename(columns={'nps':'bagagem'}), on='mes', how='left')\n",
    "\n",
    "df_nps_merge"
   ]
  },
  {
   "cell_type": "code",
   "execution_count": 458,
   "metadata": {},
   "outputs": [
    {
     "data": {
      "image/png": "[encoded data removed]",
      "text/plain": [
       "<Figure size 432x288 with 2 Axes>"
      ]
     },
     "metadata": {
      "needs_background": "light"
     },
     "output_type": "display_data"
    },
    {
     "data": {
      "image/png": "[encoded data removed]",
      "text/plain": [
       "<Figure size 432x288 with 2 Axes>"
      ]
     },
     "metadata": {
      "needs_background": "light"
     },
     "output_type": "display_data"
    }
   ],
   "source": [
    "fig = sns.heatmap(df_nps_merge.corr(method='pearson'), vmin=-1, vmax=1, cmap='RdYlGn', annot=True)\n",
    "fig.set(title='Gráfico 8: mapa de calor para correlações lineares (Pearson)')\n",
    "plt.show()\n",
    "\n",
    "fig = sns.heatmap(df_nps_merge.corr(method='spearman'), vmin=-1, vmax=1, cmap='RdYlGn', annot=True)\n",
    "fig.set(title='Gráfico 9: mapa de calor para correlações não lineares (Spearman)')\n",
    "plt.show()"
   ]
  },
  {
   "cell_type": "code",
   "execution_count": 447,
   "metadata": {},
   "outputs": [
    {
     "data": {
      "image/png": "[encoded data removed]",
      "text/plain": [
       "<Figure size 432x288 with 1 Axes>"
      ]
     },
     "metadata": {
      "needs_background": "light"
     },
     "output_type": "display_data"
    }
   ],
   "source": [
    "# Plot do NPS de todas as categorias.\n",
    "fig = sns.lineplot(data=pd.melt(df_nps_merge, id_vars='mes', value_vars=['nps', 'checkin', 'comissario', 'entretenimento', 'bagagem']), x='mes', y='value', hue='perfil_cliente')\n",
    "fig.set(title='Gráfico 8: evolução de NPS por categoria', ylim=(0,1))\n",
    "plt.show()"
   ]
  },
  {
   "attachments": {},
   "cell_type": "markdown",
   "metadata": {},
   "source": [
    "Categorias de NPS\n",
    "\n",
    "Existem 5 categorias de notas na amostra: nota principal, checkin, comissários, entretenimento e bagagem. Considerando a nota principal como o foco do estudo, o checkin e comissario também apresentam queda no 2º trimestre de 2022, contudo, entretenimento e bagagem apresentam uma melhora. Além disso, as notas de comissário são maiores que a nota principal.\n",
    "\n",
    "Considerando a correlação entre variáveis e a amostra disponível, a ordem de prioridade das validações deve ser:\n",
    "- Comissários\n",
    "- Checkin\n",
    "- Bagagem\n",
    "- Entretenimento"
   ]
  },
  {
   "cell_type": "code",
   "execution_count": null,
   "metadata": {},
   "outputs": [],
   "source": [
    "# Cruzando NPS com outras variáveis."
   ]
  },
  {
   "attachments": {},
   "cell_type": "markdown",
   "metadata": {},
   "source": [
    "## Análise de hipóteses\n",
    "\n",
    "Comissários:\n",
    "- "
   ]
  },
  {
   "cell_type": "code",
   "execution_count": null,
   "metadata": {},
   "outputs": [],
   "source": []
  },
  {
   "attachments": {},
   "cell_type": "markdown",
   "metadata": {},
   "source": [
    "## Conclusão"
   ]
  },
  {
   "attachments": {},
   "cell_type": "markdown",
   "metadata": {},
   "source": [
    "Aprendizados:\n",
    "\n",
    "- Dia 29/02/2022: existem 18 vôos erroneamente registrados em 29/02/2022, os quais serão omitidos da amostra.\n",
    "- Atrasos: os atrasos no vôos podem ser decorrentes de fatores internos (ex: atraso no fluxo operacional dos técnicos da Azul) mas também externos (ex: atraso na pista causadas por outras aeronaves). Seria valioso contar com alguma base que pudesse capturar esse efeito.\n",
    "- Nota de Comissários: apresenta alta correlação com "
   ]
  }
 ],
 "metadata": {
  "kernelspec": {
   "display_name": "Python 3",
   "language": "python",
   "name": "python3"
  },
  "language_info": {
   "codemirror_mode": {
    "name": "ipython",
    "version": 3
   },
   "file_extension": ".py",
   "mimetype": "text/x-python",
   "name": "python",
   "nbconvert_exporter": "python",
   "pygments_lexer": "ipython3",
   "version": "3.10.4"
  },
  "orig_nbformat": 4
 },
 "nbformat": 4,
 "nbformat_minor": 2
}
